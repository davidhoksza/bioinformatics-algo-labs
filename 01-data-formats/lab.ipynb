{
 "cells": [
  {
   "cell_type": "markdown",
   "id": "36742810",
   "metadata": {},
   "source": [
    "# Labs - Biopython and data formats\n",
    "\n",
    "## Outline\n",
    "\n",
    "- Managing dependencies in Python with environments\n",
    "- Biopython \n",
    "    - Sequences (parsing, representation, manipulation)\n",
    "    - Structures (parsing, representation, manipulation)\n",
    "\n",
    "### 1. Python environments\n",
    "\n",
    "- handles issues with dependencies versions\n",
    "- ensures reproducibility\n",
    "- does not clutter users' global site-packages directory\n",
    "\n",
    "`python3 -m venv venv/       # Creates an environment called venv/`\n",
    "`source venv/bin/activate`\n",
    "`pip install biopython`\n",
    "`pip freeze > requirements.txt`\n",
    "`(venv) % deactivate`\n",
    "\n",
    "On a different machine, the environment can be replicated by creating a new environment and running\n",
    "\n",
    "`pip install -r requirements.txt`\n",
    "\n",
    "### 2. Biopython\n",
    "\n",
    "Biopython is a library consisting of tools for both sequence and structure bioinformatics. Among other things it enables parsing, handling and storing molecular data present in common formats such as FASTA, PDB or mmCIF.\n",
    "\n",
    "Install biopython using `pip install biopython`\n",
    "\n",
    "Functionality divided into packages list of which is available in the [docs](https://biopython.org/docs/1.75/api/Bio.html). \n",
    "\n",
    "Main sequence and structure packages:\n",
    " - [Bio.Seq](https://biopython.org/docs/latest/api/Bio.Seq.html)\n",
    " - [Bio.Align](https://biopython.org/docs/latest/api/Bio.Align.html) \n",
    " - [Bio.SeqIO](https://biopython.org/docs/latest/api/Bio.SeqIO.html)\n",
    " - [Bio.PDB](https://biopython.org/docs/latest/api/Bio.PDB.html) \n",
    " "
   ]
  },
  {
   "cell_type": "markdown",
   "id": "76c2b925",
   "metadata": {},
   "source": [
    " \n",
    "#### Sequences \n",
    " \n",
    " Loading a sequence from a string: "
   ]
  },
  {
   "cell_type": "code",
   "execution_count": 3,
   "id": "124d529c",
   "metadata": {},
   "outputs": [
    {
     "name": "stdout",
     "output_type": "stream",
     "text": [
      "AGTACACTG\n"
     ]
    }
   ],
   "source": [
    "from Bio.Seq import Seq\n",
    "seq = Seq(\"AGTACACTG\")\n",
    "print(seq)"
   ]
  },
  {
   "cell_type": "markdown",
   "id": "5bb901fb",
   "metadata": {},
   "source": [
    "This creates a [sequence object](https://biopython.org/docs/latest/api/Bio.Seq.html) with a couple of fancy methods, especially when it comes to nuclotide sequences such as `reverse_complement` or `translate`."
   ]
  },
  {
   "cell_type": "code",
   "execution_count": 4,
   "id": "61c30fdc",
   "metadata": {},
   "outputs": [
    {
     "name": "stdout",
     "output_type": "stream",
     "text": [
      "STL\n",
      "CAGUGUACU\n",
      "QCT\n"
     ]
    }
   ],
   "source": [
    "print(seq.translate())\n",
    "print(seq.reverse_complement().transcribe())\n",
    "print(seq.reverse_complement().transcribe().translate())"
   ]
  },
  {
   "cell_type": "code",
   "execution_count": 5,
   "id": "cc4d7807",
   "metadata": {},
   "outputs": [
    {
     "name": "stdout",
     "output_type": "stream",
     "text": [
      "MAIVMGR*KGAR*\n",
      "MAIVMGR\n",
      "MAIVMGRWKGAR*\n",
      "MAIVMGRWKGAR\n"
     ]
    }
   ],
   "source": [
    "coding_dna = Seq(\"ATGGCCATTGTAATGGGCCGCTGAAAGGGTGCCCGATAG\")\n",
    "print(coding_dna.translate())\n",
    "print(coding_dna.translate(to_stop=True))\n",
    "print(coding_dna.translate(table=2))\n",
    "print(coding_dna.translate(table=2, to_stop=True))"
   ]
  },
  {
   "cell_type": "markdown",
   "id": "21a88c4f",
   "metadata": {},
   "source": [
    "Notice, in the example above we used different genetic tables. Check [NCBI genetic codes](https://www.ncbi.nlm.nih.gov/Taxonomy/Utils/wprintgc.cgi) for details.\n",
    "\n",
    "To list all the methods, run, e.g., one of the following:"
   ]
  },
  {
   "cell_type": "code",
   "execution_count": 59,
   "id": "beb88d44",
   "metadata": {},
   "outputs": [
    {
     "name": "stdout",
     "output_type": "stream",
     "text": [
      "['__abstractmethods__', '__add__', '__bytes__', '__class__', '__contains__', '__delattr__', '__dict__', '__dir__', '__doc__', '__eq__', '__format__', '__ge__', '__getattribute__', '__getitem__', '__gt__', '__hash__', '__imul__', '__init__', '__init_subclass__', '__le__', '__len__', '__lt__', '__module__', '__mul__', '__ne__', '__new__', '__radd__', '__reduce__', '__reduce_ex__', '__repr__', '__rmul__', '__setattr__', '__sizeof__', '__slots__', '__str__', '__subclasshook__', '__weakref__', '_abc_impl', '_data', 'back_transcribe', 'complement', 'complement_rna', 'count', 'count_overlap', 'encode', 'endswith', 'find', 'index', 'join', 'lower', 'lstrip', 'replace', 'reverse_complement', 'reverse_complement_rna', 'rfind', 'rindex', 'rsplit', 'rstrip', 'split', 'startswith', 'strip', 'tomutable', 'transcribe', 'translate', 'ungap', 'upper']\n",
      "b'AGTACACTG'\n"
     ]
    }
   ],
   "source": [
    "print(dir(seq))\n",
    "print(help(seq))"
   ]
  },
  {
   "cell_type": "markdown",
   "id": "d5838b2e",
   "metadata": {},
   "source": [
    "Methods for accessing by position  are available as well."
   ]
  },
  {
   "cell_type": "code",
   "execution_count": 60,
   "id": "e4b0661b",
   "metadata": {
    "scrolled": true
   },
   "outputs": [
    {
     "name": "stdout",
     "output_type": "stream",
     "text": [
      "A\n",
      "AC\n",
      "GTCACATGA\n"
     ]
    }
   ],
   "source": [
    "print(seq[3])\n",
    "print(seq[3:5])\n",
    "print(seq[::-1])"
   ]
  },
  {
   "cell_type": "markdown",
   "id": "ae0a6c41",
   "metadata": {},
   "source": [
    "If needed, the Seq object can be converted into a string."
   ]
  },
  {
   "cell_type": "code",
   "execution_count": 3,
   "id": "481041b7",
   "metadata": {
    "scrolled": true
   },
   "outputs": [
    {
     "name": "stdout",
     "output_type": "stream",
     "text": [
      "AGTACACTG\n",
      "XGTXCXCTG\n"
     ]
    }
   ],
   "source": [
    "print(str(seq))\n",
    "print(str(seq).translate({65: 88}))"
   ]
  },
  {
   "cell_type": "markdown",
   "id": "86986b39",
   "metadata": {},
   "source": [
    "To parse sequence from a file, you can use [Bio.SeqIO](https://biopython.org/docs/latest/api/Bio.SeqIO.html). [Here](https://biopython.org/wiki/SeqIO#file-formats) is the list of supported formats. The format name is passed into the `parse` method."
   ]
  },
  {
   "cell_type": "code",
   "execution_count": 7,
   "id": "fc17acba",
   "metadata": {},
   "outputs": [
    {
     "name": "stdout",
     "output_type": "stream",
     "text": [
      "sp|P0DTD1|R1AB_SARS2\n",
      "Seq('MESLVPGFNEKTHVQLSLPVLQVRDVLVRGFGDSVEEVLSEARQHLKDGTCGLV...VNN')\n",
      "7096\n",
      "sp|P0DTC1|R1A_SARS2\n",
      "Seq('MESLVPGFNEKTHVQLSLPVLQVRDVLVRGFGDSVEEVLSEARQHLKDGTCGLV...FAV')\n",
      "4405\n"
     ]
    }
   ],
   "source": [
    "from Bio import SeqIO\n",
    "\n",
    "sars2_it = SeqIO.parse(\"R1A-B_SARS2.fasta\", \"fasta\")\n",
    "for seq_record in sars2_it:    \n",
    "    print(seq_record.id)\n",
    "    print(repr(seq_record.seq))\n",
    "    print(len(seq_record))\n",
    "sars2_seq_recs = list(sars2_it)"
   ]
  },
  {
   "cell_type": "markdown",
   "id": "46282c4c",
   "metadata": {},
   "source": [
    "The result is an iterator of [SeqRecord](https://biopython.org/docs/latest/api/Bio.SeqRecord.html)s. Other attributes of `SeqRecord` such as features or annotations are more relevant for other formats, such as genbank. The underlying gene for the two isoforms (R1A_SARS2/P0DTC1 and R1AB_SARS2/P0DTD1) is ORF1ab and the two isoforms are caused by ribosomal slippage during translation (see, e.g., [here](https://www.science.org/doi/full/10.1126/science.abf3546)). Both reading frames R1A_SARS2 and R1AB_SARS2 are polyproteins and are encoded by the same [gene](https://www.ncbi.nlm.nih.gov/gene/43740578). Let's explore this."
   ]
  },
  {
   "cell_type": "code",
   "execution_count": 9,
   "id": "502a7c6f",
   "metadata": {
    "scrolled": true
   },
   "outputs": [
    {
     "name": "stdout",
     "output_type": "stream",
     "text": [
      "NC_045512.2\n"
     ]
    }
   ],
   "source": [
    "gb_rec = list(SeqIO.parse(\"NC_045512.gb\", \"genbank\"))[0]\n",
    "print(gb_rec.)"
   ]
  },
  {
   "cell_type": "code",
   "execution_count": 10,
   "id": "934399c5",
   "metadata": {
    "scrolled": true
   },
   "outputs": [
    {
     "name": "stdout",
     "output_type": "stream",
     "text": [
      "{'molecule_type': 'ss-RNA', 'topology': 'linear', 'data_file_division': 'VRL', 'date': '18-JUL-2020', 'accessions': ['NC_045512'], 'sequence_version': 2, 'keywords': ['RefSeq'], 'source': 'Severe acute respiratory syndrome coronavirus 2 (SARS-CoV-2)', 'organism': 'Severe acute respiratory syndrome coronavirus 2', 'taxonomy': ['Viruses', 'Riboviria', 'Orthornavirae', 'Pisuviricota', 'Pisoniviricetes', 'Nidovirales', 'Cornidovirineae', 'Coronaviridae', 'Orthocoronavirinae', 'Betacoronavirus', 'Sarbecovirus'], 'references': [Reference(title='A new coronavirus associated with human respiratory disease in China', ...), Reference(title='Programmed ribosomal frameshifting in decoding the SARS-CoV genome', ...), Reference(title='The structure of a rigorously conserved RNA element within the SARS virus genome', ...), Reference(title=\"A phylogenetically conserved hairpin-type 3' untranslated region pseudoknot functions in coronavirus RNA replication\", ...), Reference(title='Direct Submission', ...), Reference(title='Direct Submission', ...)], 'comment': \"REVIEWED REFSEQ: This record has been curated by NCBI staff. The\\nreference sequence is identical to MN908947.\\nOn Jan 17, 2020 this sequence version replaced NC_045512.1.\\nAnnotation was added using homology to SARSr-CoV NC_004718.3. ###\\nFormerly called 'Wuhan seafood market pneumonia virus.' If you have\\nquestions or suggestions, please email us at info@ncbi.nlm.nih.gov\\nand include the accession number NC_045512.### Protein structures\\ncan be found at\\nhttps://www.ncbi.nlm.nih.gov/structure/?term=sars-cov-2.### Find\\nall other Severe acute respiratory syndrome coronavirus 2\\n(SARS-CoV-2) sequences at\\nhttps://www.ncbi.nlm.nih.gov/genbank/sars-cov-2-seqs/\\nCOMPLETENESS: full length.\", 'structured_comment': OrderedDict([('Assembly-Data', OrderedDict([('Assembly Method', 'Megahit v. V1.1.3'), ('Sequencing Technology', 'Illumina')]))])}\n",
      "[SeqFeature(FeatureLocation(ExactPosition(0), ExactPosition(29903), strand=1), type='source'), SeqFeature(FeatureLocation(ExactPosition(0), ExactPosition(265), strand=1), type=\"5'UTR\"), SeqFeature(FeatureLocation(ExactPosition(265), ExactPosition(21555), strand=1), type='gene'), SeqFeature(CompoundLocation([FeatureLocation(ExactPosition(265), ExactPosition(13468), strand=1), FeatureLocation(ExactPosition(13467), ExactPosition(21555), strand=1)], 'join'), type='CDS', location_operator='join'), SeqFeature(FeatureLocation(ExactPosition(265), ExactPosition(805), strand=1), type='mat_peptide'), SeqFeature(FeatureLocation(ExactPosition(805), ExactPosition(2719), strand=1), type='mat_peptide'), SeqFeature(FeatureLocation(ExactPosition(2719), ExactPosition(8554), strand=1), type='mat_peptide'), SeqFeature(FeatureLocation(ExactPosition(8554), ExactPosition(10054), strand=1), type='mat_peptide'), SeqFeature(FeatureLocation(ExactPosition(10054), ExactPosition(10972), strand=1), type='mat_peptide'), SeqFeature(FeatureLocation(ExactPosition(10972), ExactPosition(11842), strand=1), type='mat_peptide'), SeqFeature(FeatureLocation(ExactPosition(11842), ExactPosition(12091), strand=1), type='mat_peptide'), SeqFeature(FeatureLocation(ExactPosition(12091), ExactPosition(12685), strand=1), type='mat_peptide'), SeqFeature(FeatureLocation(ExactPosition(12685), ExactPosition(13024), strand=1), type='mat_peptide'), SeqFeature(FeatureLocation(ExactPosition(13024), ExactPosition(13441), strand=1), type='mat_peptide'), SeqFeature(CompoundLocation([FeatureLocation(ExactPosition(13441), ExactPosition(13468), strand=1), FeatureLocation(ExactPosition(13467), ExactPosition(16236), strand=1)], 'join'), type='mat_peptide', location_operator='join'), SeqFeature(FeatureLocation(ExactPosition(16236), ExactPosition(18039), strand=1), type='mat_peptide'), SeqFeature(FeatureLocation(ExactPosition(18039), ExactPosition(19620), strand=1), type='mat_peptide'), SeqFeature(FeatureLocation(ExactPosition(19620), ExactPosition(20658), strand=1), type='mat_peptide'), SeqFeature(FeatureLocation(ExactPosition(20658), ExactPosition(21552), strand=1), type='mat_peptide'), SeqFeature(FeatureLocation(ExactPosition(265), ExactPosition(13483), strand=1), type='CDS'), SeqFeature(FeatureLocation(ExactPosition(265), ExactPosition(805), strand=1), type='mat_peptide'), SeqFeature(FeatureLocation(ExactPosition(805), ExactPosition(2719), strand=1), type='mat_peptide'), SeqFeature(FeatureLocation(ExactPosition(2719), ExactPosition(8554), strand=1), type='mat_peptide'), SeqFeature(FeatureLocation(ExactPosition(8554), ExactPosition(10054), strand=1), type='mat_peptide'), SeqFeature(FeatureLocation(ExactPosition(10054), ExactPosition(10972), strand=1), type='mat_peptide'), SeqFeature(FeatureLocation(ExactPosition(10972), ExactPosition(11842), strand=1), type='mat_peptide'), SeqFeature(FeatureLocation(ExactPosition(11842), ExactPosition(12091), strand=1), type='mat_peptide'), SeqFeature(FeatureLocation(ExactPosition(12091), ExactPosition(12685), strand=1), type='mat_peptide'), SeqFeature(FeatureLocation(ExactPosition(12685), ExactPosition(13024), strand=1), type='mat_peptide'), SeqFeature(FeatureLocation(ExactPosition(13024), ExactPosition(13441), strand=1), type='mat_peptide'), SeqFeature(FeatureLocation(ExactPosition(13441), ExactPosition(13480), strand=1), type='mat_peptide'), SeqFeature(FeatureLocation(ExactPosition(13475), ExactPosition(13503), strand=1), type='stem_loop'), SeqFeature(FeatureLocation(ExactPosition(13487), ExactPosition(13542), strand=1), type='stem_loop'), SeqFeature(FeatureLocation(ExactPosition(21562), ExactPosition(25384), strand=1), type='gene'), SeqFeature(FeatureLocation(ExactPosition(21562), ExactPosition(25384), strand=1), type='CDS'), SeqFeature(FeatureLocation(ExactPosition(25392), ExactPosition(26220), strand=1), type='gene'), SeqFeature(FeatureLocation(ExactPosition(25392), ExactPosition(26220), strand=1), type='CDS'), SeqFeature(FeatureLocation(ExactPosition(26244), ExactPosition(26472), strand=1), type='gene'), SeqFeature(FeatureLocation(ExactPosition(26244), ExactPosition(26472), strand=1), type='CDS'), SeqFeature(FeatureLocation(ExactPosition(26522), ExactPosition(27191), strand=1), type='gene'), SeqFeature(FeatureLocation(ExactPosition(26522), ExactPosition(27191), strand=1), type='CDS'), SeqFeature(FeatureLocation(ExactPosition(27201), ExactPosition(27387), strand=1), type='gene'), SeqFeature(FeatureLocation(ExactPosition(27201), ExactPosition(27387), strand=1), type='CDS'), SeqFeature(FeatureLocation(ExactPosition(27393), ExactPosition(27759), strand=1), type='gene'), SeqFeature(FeatureLocation(ExactPosition(27393), ExactPosition(27759), strand=1), type='CDS'), SeqFeature(FeatureLocation(ExactPosition(27755), ExactPosition(27887), strand=1), type='gene'), SeqFeature(FeatureLocation(ExactPosition(27755), ExactPosition(27887), strand=1), type='CDS'), SeqFeature(FeatureLocation(ExactPosition(27893), ExactPosition(28259), strand=1), type='gene'), SeqFeature(FeatureLocation(ExactPosition(27893), ExactPosition(28259), strand=1), type='CDS'), SeqFeature(FeatureLocation(ExactPosition(28273), ExactPosition(29533), strand=1), type='gene'), SeqFeature(FeatureLocation(ExactPosition(28273), ExactPosition(29533), strand=1), type='CDS'), SeqFeature(FeatureLocation(ExactPosition(29557), ExactPosition(29674), strand=1), type='gene'), SeqFeature(FeatureLocation(ExactPosition(29557), ExactPosition(29674), strand=1), type='CDS'), SeqFeature(FeatureLocation(ExactPosition(29608), ExactPosition(29644), strand=1), type='stem_loop'), SeqFeature(FeatureLocation(ExactPosition(29628), ExactPosition(29657), strand=1), type='stem_loop'), SeqFeature(FeatureLocation(ExactPosition(29674), ExactPosition(29903), strand=1), type=\"3'UTR\"), SeqFeature(FeatureLocation(ExactPosition(29727), ExactPosition(29768), strand=1), type='stem_loop')]\n"
     ]
    }
   ],
   "source": [
    "print(gb_rec.annotations)\n",
    "print(gb_rec.features)"
   ]
  },
  {
   "cell_type": "code",
   "execution_count": 13,
   "id": "3d1cfc24",
   "metadata": {},
   "outputs": [
    {
     "data": {
      "text/plain": [
       "[SeqFeature(FeatureLocation(ExactPosition(0), ExactPosition(29903), strand=1), type='source'),\n",
       " SeqFeature(FeatureLocation(ExactPosition(0), ExactPosition(265), strand=1), type=\"5'UTR\"),\n",
       " SeqFeature(FeatureLocation(ExactPosition(265), ExactPosition(21555), strand=1), type='gene'),\n",
       " SeqFeature(CompoundLocation([FeatureLocation(ExactPosition(265), ExactPosition(13468), strand=1), FeatureLocation(ExactPosition(13467), ExactPosition(21555), strand=1)], 'join'), type='CDS', location_operator='join'),\n",
       " SeqFeature(FeatureLocation(ExactPosition(265), ExactPosition(805), strand=1), type='mat_peptide'),\n",
       " SeqFeature(FeatureLocation(ExactPosition(805), ExactPosition(2719), strand=1), type='mat_peptide'),\n",
       " SeqFeature(FeatureLocation(ExactPosition(2719), ExactPosition(8554), strand=1), type='mat_peptide'),\n",
       " SeqFeature(FeatureLocation(ExactPosition(8554), ExactPosition(10054), strand=1), type='mat_peptide'),\n",
       " SeqFeature(FeatureLocation(ExactPosition(10054), ExactPosition(10972), strand=1), type='mat_peptide'),\n",
       " SeqFeature(FeatureLocation(ExactPosition(10972), ExactPosition(11842), strand=1), type='mat_peptide'),\n",
       " SeqFeature(FeatureLocation(ExactPosition(11842), ExactPosition(12091), strand=1), type='mat_peptide'),\n",
       " SeqFeature(FeatureLocation(ExactPosition(12091), ExactPosition(12685), strand=1), type='mat_peptide'),\n",
       " SeqFeature(FeatureLocation(ExactPosition(12685), ExactPosition(13024), strand=1), type='mat_peptide'),\n",
       " SeqFeature(FeatureLocation(ExactPosition(13024), ExactPosition(13441), strand=1), type='mat_peptide'),\n",
       " SeqFeature(CompoundLocation([FeatureLocation(ExactPosition(13441), ExactPosition(13468), strand=1), FeatureLocation(ExactPosition(13467), ExactPosition(16236), strand=1)], 'join'), type='mat_peptide', location_operator='join'),\n",
       " SeqFeature(FeatureLocation(ExactPosition(16236), ExactPosition(18039), strand=1), type='mat_peptide'),\n",
       " SeqFeature(FeatureLocation(ExactPosition(18039), ExactPosition(19620), strand=1), type='mat_peptide'),\n",
       " SeqFeature(FeatureLocation(ExactPosition(19620), ExactPosition(20658), strand=1), type='mat_peptide'),\n",
       " SeqFeature(FeatureLocation(ExactPosition(20658), ExactPosition(21552), strand=1), type='mat_peptide'),\n",
       " SeqFeature(FeatureLocation(ExactPosition(265), ExactPosition(13483), strand=1), type='CDS'),\n",
       " SeqFeature(FeatureLocation(ExactPosition(265), ExactPosition(805), strand=1), type='mat_peptide'),\n",
       " SeqFeature(FeatureLocation(ExactPosition(805), ExactPosition(2719), strand=1), type='mat_peptide'),\n",
       " SeqFeature(FeatureLocation(ExactPosition(2719), ExactPosition(8554), strand=1), type='mat_peptide'),\n",
       " SeqFeature(FeatureLocation(ExactPosition(8554), ExactPosition(10054), strand=1), type='mat_peptide'),\n",
       " SeqFeature(FeatureLocation(ExactPosition(10054), ExactPosition(10972), strand=1), type='mat_peptide'),\n",
       " SeqFeature(FeatureLocation(ExactPosition(10972), ExactPosition(11842), strand=1), type='mat_peptide'),\n",
       " SeqFeature(FeatureLocation(ExactPosition(11842), ExactPosition(12091), strand=1), type='mat_peptide'),\n",
       " SeqFeature(FeatureLocation(ExactPosition(12091), ExactPosition(12685), strand=1), type='mat_peptide'),\n",
       " SeqFeature(FeatureLocation(ExactPosition(12685), ExactPosition(13024), strand=1), type='mat_peptide'),\n",
       " SeqFeature(FeatureLocation(ExactPosition(13024), ExactPosition(13441), strand=1), type='mat_peptide'),\n",
       " SeqFeature(FeatureLocation(ExactPosition(13441), ExactPosition(13480), strand=1), type='mat_peptide'),\n",
       " SeqFeature(FeatureLocation(ExactPosition(13475), ExactPosition(13503), strand=1), type='stem_loop'),\n",
       " SeqFeature(FeatureLocation(ExactPosition(13487), ExactPosition(13542), strand=1), type='stem_loop'),\n",
       " SeqFeature(FeatureLocation(ExactPosition(21562), ExactPosition(25384), strand=1), type='gene'),\n",
       " SeqFeature(FeatureLocation(ExactPosition(21562), ExactPosition(25384), strand=1), type='CDS'),\n",
       " SeqFeature(FeatureLocation(ExactPosition(25392), ExactPosition(26220), strand=1), type='gene'),\n",
       " SeqFeature(FeatureLocation(ExactPosition(25392), ExactPosition(26220), strand=1), type='CDS'),\n",
       " SeqFeature(FeatureLocation(ExactPosition(26244), ExactPosition(26472), strand=1), type='gene'),\n",
       " SeqFeature(FeatureLocation(ExactPosition(26244), ExactPosition(26472), strand=1), type='CDS'),\n",
       " SeqFeature(FeatureLocation(ExactPosition(26522), ExactPosition(27191), strand=1), type='gene'),\n",
       " SeqFeature(FeatureLocation(ExactPosition(26522), ExactPosition(27191), strand=1), type='CDS'),\n",
       " SeqFeature(FeatureLocation(ExactPosition(27201), ExactPosition(27387), strand=1), type='gene'),\n",
       " SeqFeature(FeatureLocation(ExactPosition(27201), ExactPosition(27387), strand=1), type='CDS'),\n",
       " SeqFeature(FeatureLocation(ExactPosition(27393), ExactPosition(27759), strand=1), type='gene'),\n",
       " SeqFeature(FeatureLocation(ExactPosition(27393), ExactPosition(27759), strand=1), type='CDS'),\n",
       " SeqFeature(FeatureLocation(ExactPosition(27755), ExactPosition(27887), strand=1), type='gene'),\n",
       " SeqFeature(FeatureLocation(ExactPosition(27755), ExactPosition(27887), strand=1), type='CDS'),\n",
       " SeqFeature(FeatureLocation(ExactPosition(27893), ExactPosition(28259), strand=1), type='gene'),\n",
       " SeqFeature(FeatureLocation(ExactPosition(27893), ExactPosition(28259), strand=1), type='CDS'),\n",
       " SeqFeature(FeatureLocation(ExactPosition(28273), ExactPosition(29533), strand=1), type='gene'),\n",
       " SeqFeature(FeatureLocation(ExactPosition(28273), ExactPosition(29533), strand=1), type='CDS'),\n",
       " SeqFeature(FeatureLocation(ExactPosition(29557), ExactPosition(29674), strand=1), type='gene'),\n",
       " SeqFeature(FeatureLocation(ExactPosition(29557), ExactPosition(29674), strand=1), type='CDS'),\n",
       " SeqFeature(FeatureLocation(ExactPosition(29608), ExactPosition(29644), strand=1), type='stem_loop'),\n",
       " SeqFeature(FeatureLocation(ExactPosition(29628), ExactPosition(29657), strand=1), type='stem_loop'),\n",
       " SeqFeature(FeatureLocation(ExactPosition(29674), ExactPosition(29903), strand=1), type=\"3'UTR\"),\n",
       " SeqFeature(FeatureLocation(ExactPosition(29727), ExactPosition(29768), strand=1), type='stem_loop')]"
      ]
     },
     "execution_count": 13,
     "metadata": {},
     "output_type": "execute_result"
    }
   ],
   "source": [
    "gb_rec.features"
   ]
  },
  {
   "cell_type": "markdown",
   "id": "13332305",
   "metadata": {},
   "source": [
    "Let's obtain all CDS (coding sequence) features."
   ]
  },
  {
   "cell_type": "code",
   "execution_count": 16,
   "id": "d7512a84",
   "metadata": {},
   "outputs": [
    {
     "name": "stdout",
     "output_type": "stream",
     "text": [
      "[SeqFeature(FeatureLocation(ExactPosition(0), ExactPosition(29903), strand=1), type='source'), SeqFeature(FeatureLocation(ExactPosition(0), ExactPosition(265), strand=1), type=\"5'UTR\"), SeqFeature(FeatureLocation(ExactPosition(265), ExactPosition(21555), strand=1), type='gene'), SeqFeature(CompoundLocation([FeatureLocation(ExactPosition(265), ExactPosition(13468), strand=1), FeatureLocation(ExactPosition(13467), ExactPosition(21555), strand=1)], 'join'), type='CDS', location_operator='join'), SeqFeature(FeatureLocation(ExactPosition(265), ExactPosition(805), strand=1), type='mat_peptide'), SeqFeature(FeatureLocation(ExactPosition(805), ExactPosition(2719), strand=1), type='mat_peptide'), SeqFeature(FeatureLocation(ExactPosition(2719), ExactPosition(8554), strand=1), type='mat_peptide'), SeqFeature(FeatureLocation(ExactPosition(8554), ExactPosition(10054), strand=1), type='mat_peptide'), SeqFeature(FeatureLocation(ExactPosition(10054), ExactPosition(10972), strand=1), type='mat_peptide'), SeqFeature(FeatureLocation(ExactPosition(10972), ExactPosition(11842), strand=1), type='mat_peptide'), SeqFeature(FeatureLocation(ExactPosition(11842), ExactPosition(12091), strand=1), type='mat_peptide'), SeqFeature(FeatureLocation(ExactPosition(12091), ExactPosition(12685), strand=1), type='mat_peptide'), SeqFeature(FeatureLocation(ExactPosition(12685), ExactPosition(13024), strand=1), type='mat_peptide'), SeqFeature(FeatureLocation(ExactPosition(13024), ExactPosition(13441), strand=1), type='mat_peptide'), SeqFeature(CompoundLocation([FeatureLocation(ExactPosition(13441), ExactPosition(13468), strand=1), FeatureLocation(ExactPosition(13467), ExactPosition(16236), strand=1)], 'join'), type='mat_peptide', location_operator='join'), SeqFeature(FeatureLocation(ExactPosition(16236), ExactPosition(18039), strand=1), type='mat_peptide'), SeqFeature(FeatureLocation(ExactPosition(18039), ExactPosition(19620), strand=1), type='mat_peptide'), SeqFeature(FeatureLocation(ExactPosition(19620), ExactPosition(20658), strand=1), type='mat_peptide'), SeqFeature(FeatureLocation(ExactPosition(20658), ExactPosition(21552), strand=1), type='mat_peptide'), SeqFeature(FeatureLocation(ExactPosition(265), ExactPosition(13483), strand=1), type='CDS'), SeqFeature(FeatureLocation(ExactPosition(265), ExactPosition(805), strand=1), type='mat_peptide'), SeqFeature(FeatureLocation(ExactPosition(805), ExactPosition(2719), strand=1), type='mat_peptide'), SeqFeature(FeatureLocation(ExactPosition(2719), ExactPosition(8554), strand=1), type='mat_peptide'), SeqFeature(FeatureLocation(ExactPosition(8554), ExactPosition(10054), strand=1), type='mat_peptide'), SeqFeature(FeatureLocation(ExactPosition(10054), ExactPosition(10972), strand=1), type='mat_peptide'), SeqFeature(FeatureLocation(ExactPosition(10972), ExactPosition(11842), strand=1), type='mat_peptide'), SeqFeature(FeatureLocation(ExactPosition(11842), ExactPosition(12091), strand=1), type='mat_peptide'), SeqFeature(FeatureLocation(ExactPosition(12091), ExactPosition(12685), strand=1), type='mat_peptide'), SeqFeature(FeatureLocation(ExactPosition(12685), ExactPosition(13024), strand=1), type='mat_peptide'), SeqFeature(FeatureLocation(ExactPosition(13024), ExactPosition(13441), strand=1), type='mat_peptide'), SeqFeature(FeatureLocation(ExactPosition(13441), ExactPosition(13480), strand=1), type='mat_peptide'), SeqFeature(FeatureLocation(ExactPosition(13475), ExactPosition(13503), strand=1), type='stem_loop'), SeqFeature(FeatureLocation(ExactPosition(13487), ExactPosition(13542), strand=1), type='stem_loop'), SeqFeature(FeatureLocation(ExactPosition(21562), ExactPosition(25384), strand=1), type='gene'), SeqFeature(FeatureLocation(ExactPosition(21562), ExactPosition(25384), strand=1), type='CDS'), SeqFeature(FeatureLocation(ExactPosition(25392), ExactPosition(26220), strand=1), type='gene'), SeqFeature(FeatureLocation(ExactPosition(25392), ExactPosition(26220), strand=1), type='CDS'), SeqFeature(FeatureLocation(ExactPosition(26244), ExactPosition(26472), strand=1), type='gene'), SeqFeature(FeatureLocation(ExactPosition(26244), ExactPosition(26472), strand=1), type='CDS'), SeqFeature(FeatureLocation(ExactPosition(26522), ExactPosition(27191), strand=1), type='gene'), SeqFeature(FeatureLocation(ExactPosition(26522), ExactPosition(27191), strand=1), type='CDS'), SeqFeature(FeatureLocation(ExactPosition(27201), ExactPosition(27387), strand=1), type='gene'), SeqFeature(FeatureLocation(ExactPosition(27201), ExactPosition(27387), strand=1), type='CDS'), SeqFeature(FeatureLocation(ExactPosition(27393), ExactPosition(27759), strand=1), type='gene'), SeqFeature(FeatureLocation(ExactPosition(27393), ExactPosition(27759), strand=1), type='CDS'), SeqFeature(FeatureLocation(ExactPosition(27755), ExactPosition(27887), strand=1), type='gene'), SeqFeature(FeatureLocation(ExactPosition(27755), ExactPosition(27887), strand=1), type='CDS'), SeqFeature(FeatureLocation(ExactPosition(27893), ExactPosition(28259), strand=1), type='gene'), SeqFeature(FeatureLocation(ExactPosition(27893), ExactPosition(28259), strand=1), type='CDS'), SeqFeature(FeatureLocation(ExactPosition(28273), ExactPosition(29533), strand=1), type='gene'), SeqFeature(FeatureLocation(ExactPosition(28273), ExactPosition(29533), strand=1), type='CDS'), SeqFeature(FeatureLocation(ExactPosition(29557), ExactPosition(29674), strand=1), type='gene'), SeqFeature(FeatureLocation(ExactPosition(29557), ExactPosition(29674), strand=1), type='CDS'), SeqFeature(FeatureLocation(ExactPosition(29608), ExactPosition(29644), strand=1), type='stem_loop'), SeqFeature(FeatureLocation(ExactPosition(29628), ExactPosition(29657), strand=1), type='stem_loop'), SeqFeature(FeatureLocation(ExactPosition(29674), ExactPosition(29903), strand=1), type=\"3'UTR\"), SeqFeature(FeatureLocation(ExactPosition(29727), ExactPosition(29768), strand=1), type='stem_loop')]\n"
     ]
    }
   ],
   "source": [
    "print(gb_rec.features)\n",
    "cds = [seq_feature for seq_feature in gb_rec.features if seq_feature.type == 'CDS']"
   ]
  },
  {
   "cell_type": "code",
   "execution_count": 19,
   "id": "eb9d7e4b",
   "metadata": {},
   "outputs": [
    {
     "data": {
      "text/plain": [
       "Seq('MESLVPGFNEKTHVQLSLPVLQVRDVLVRGFGDSVEEVLSEARQHLKDGTCGLV...NN*')"
      ]
     },
     "execution_count": 19,
     "metadata": {},
     "output_type": "execute_result"
    }
   ],
   "source": [
    "cds[0].extract(gb_rec.seq).translate()"
   ]
  },
  {
   "cell_type": "markdown",
   "id": "2cc539a2",
   "metadata": {},
   "source": [
    "Now, let's get the DNA sequence for the the polyprotein 1ab."
   ]
  },
  {
   "cell_type": "code",
   "execution_count": 22,
   "id": "43a978f1",
   "metadata": {},
   "outputs": [
    {
     "name": "stdout",
     "output_type": "stream",
     "text": [
      "ISSDVLVNN*\n",
      "KKKKKKKKKK\n"
     ]
    }
   ],
   "source": [
    "aa_seq = cds[0].extract(gb_rec.seq).translate()\n",
    "print(aa_seq[-10:])\n",
    "print(gb_rec.seq.translate()[-10:])"
   ]
  },
  {
   "cell_type": "markdown",
   "id": "3d17e0f0",
   "metadata": {},
   "source": [
    "To write a sequence into a file, use `SeqIO.write`."
   ]
  },
  {
   "cell_type": "code",
   "execution_count": 23,
   "id": "b1008aec",
   "metadata": {},
   "outputs": [
    {
     "data": {
      "text/plain": [
       "2"
      ]
     },
     "execution_count": 23,
     "metadata": {},
     "output_type": "execute_result"
    }
   ],
   "source": [
    "SeqIO.write([gb_rec, SeqIO.SeqRecord(aa_seq, id=\"id\", description=\"aa\")], \"fasta_from_gb.fasta\", \"fasta\")"
   ]
  },
  {
   "cell_type": "markdown",
   "id": "eaac927e",
   "metadata": {},
   "source": [
    "Now, carry out the following tasks by yourselfs:\n",
    "- Obtain the protein sequnece for polyprotein 1ab and check with UniProt that it matches (just by eyeballing).\n",
    "- Obtain the protein sequence for the polyprotien 1a.\n",
    "- Obtain protein sequences for all the proteins and list them together with their names\n"
   ]
  },
  {
   "cell_type": "code",
   "execution_count": 37,
   "id": "3f92ff92",
   "metadata": {},
   "outputs": [
    {
     "name": "stdout",
     "output_type": "stream",
     "text": [
      "MESLVPGFNEKTHVQLSLPVLQVRDVLVRGFGDSVEEVLSEARQHLKDGTCGLVEVEKGVLPQLEQPYVFIKRSDARTAPHGHVMVELVAELEGIQYGRSGETLGVLVPHVGEIPVAYRKVLLRKNGNKGAGGHSYGADLKSFDLGDELGTDPYEDFQENWNTKHSSGVTRELMRELNGGAYTRYVDNNFCGPDGYPLECIKDLLARAGKASCTLSEQLDFIDTKRGVYCCREHEHEIAWYTERSEKSYELQTPFEIKLAKKFDTFNGECPNFVFPLNSIIKTIQPRVEKKKLDGFMGRIRSVYPVASPNECNQMCLSTLMKCDHCGETSWQTGDFVKATCEFCGTENLTKEGATTCGYLPQNAVVKIYCPACHNSEVGPEHSLAEYHNESGLKTILRKGGRTIAFGGCVFSYVGCHNKCAYWVPRASANIGCNHTGVVGEGSEGLNDNLLEILQKEKVNINIVGDFKLNEEIAIILASFSASTSAFVETVKGLDYKAFKQIVESCGNFKVTKGKAKKGAWNIGEQKSILSPLYAFASEAARVVRSIFSRTLETAQNSVRVLQKAAITILDGISQYSLRLIDAMMFTSDLATNNLVVMAYITGGVVQLTSQWLTNIFGTVYEKLKPVLDWLEEKFKEGVEFLRDGWEIVKFISTCACEIVGGQIVTCAKEIKESVQTFFKLVNKFLALCADSIIIGGAKLKALNLGETFVTHSKGLYRKCVKSREETGLLMPLKAPKEIIFLEGETLPTEVLTEEVVLKTGDLQPLEQPTSEAVEAPLVGTPVCINGLMLLEIKDTEKYCALAPNMMVTNNTFTLKGGAPTKVTFGDDTVIEVQGYKSVNITFELDERIDKVLNEKCSAYTVELGTEVNEFACVVADAVIKTLQPVSELLTPLGIDLDEWSMATYYLFDESGEFKLASHMYCSFYPPDEDEEEGDCEEEEFEPSTQYEYGTEDDYQGKPLEFGATSAALQPEEEQEEDWLDDDSQQTVGQQDGSEDNQTTTIQTIVEVQPQLEMELTPVVQTIEVNSFSGYLKLTDNVYIKNADIVEEAKKVKPTVVVNAANVYLKHGGGVAGALNKATNNAMQVESDDYIATNGPLKVGGSCVLSGHNLAKHCLHVVGPNVNKGEDIQLLKSAYENFNQHEVLLAPLLSAGIFGADPIHSLRVCVDTVRTNVYLAVFDKNLYDKLVSSFLEMKSEKQVEQKIAEIPKEEVKPFITESKPSVEQRKQDDKKIKACVEEVTTTLEETKFLTENLLLYIDINGNLHPDSATLVSDIDITFLKKDAPYIVGDVVQEGVLTAVVIPTKKAGGTTEMLAKALRKVPTDNYITTYPGQGLNGYTVEEAKTVLKKCKSAFYILPSIISNEKQEILGTVSWNLREMLAHAEETRKLMPVCVETKAIVSTIQRKYKGIKIQEGVVDYGARFYFYTSKTTVASLINTLNDLNETLVTMPLGYVTHGLNLEEAARYMRSLKVPATVSVSSPDAVTAYNGYLTSSSKTPEEHFIETISLAGSYKDWSYSGQSTQLGIEFLKRGDKSVYYTSNPTTFHLDGEVITFDNLKTLLSLREVRTIKVFTTVDNINLHTQVVDMSMTYGQQFGPTYLDGADVTKIKPHNSHEGKTFYVLPNDDTLRVEAFEYYHTTDPSFLGRYMSALNHTKKWKYPQVNGLTSIKWADNNCYLATALLTLQQIELKFNPPALQDAYYRARAGEAANFCALILAYCNKTVGELGDVRETMSYLFQHANLDSCKRVLNVVCKTCGQQQTTLKGVEAVMYMGTLSYEQFKKGVQIPCTCGKQATKYLVQQESPFVMMSAPPAQYELKHGTFTCASEYTGNYQCGHYKHITSKETLYCIDGALLTKSSEYKGPITDVFYKENSYTTTIKPVTYKLDGVVCTEIDPKLDNYYKKDNSYFTEQPIDLVPNQPYPNASFDNFKFVCDNIKFADDLNQLTGYKKPASRELKVTFFPDLNGDVVAIDYKHYTPSFKKGAKLLHKPIVWHVNNATNKATYKPNTWCIRCLWSTKPVETSNSFDVLKSEDAQGMDNLACEDLKPVSEEVVENPTIQKDVLECNVKTTEVVGDIILKPANNSLKITEEVGHTDLMAAYVDNSSLTIKKPNELSRVLGLKTLATHGLAAVNSVPWDTIANYAKPFLNKVVSTTTNIVTRCLNRVCTNYMPYFFTLLLQLCTFTRSTNSRIKASMPTTIAKNTVKSVGKFCLEASFNYLKSPNFSKLINIIIWFLLLSVCLGSLIYSTAALGVLMSNLGMPSYCTGYREGYLNSTNVTIATYCTGSIPCSVCLSGLDSLDTYPSLETIQITISSFKWDLTAFGLVAEWFLAYILFTRFFYVLGLAAIMQLFFSYFAVHFISNSWLMWLIINLVQMAPISAMVRMYIFFASFYYVWKSYVHVVDGCNSSTCMMCYKRNRATRVECTTIVNGVRRSFYVYANGGKGFCKLHNWNCVNCDTFCAGSTFISDEVARDLSLQFKRPINPTDQSSYIVDSVTVKNGSIHLYFDKAGQKTYERHSLSHFVNLDNLRANNTKGSLPINVIVFDGKSKCEESSAKSASVYYSQLMCQPILLLDQALVSDVGDSAEVAVKMFDAYVNTFSSTFNVPMEKLKTLVATAEAELAKNVSLDNVLSTFISAARQGFVDSDVETKDVVECLKLSHQSDIEVTGDSCNNYMLTYNKVENMTPRDLGACIDCSARHINAQVAKSHNIALIWNVKDFMSLSEQLRKQIRSAAKKNNLPFKLTCATTRQVVNVVTTKIALKGGKIVNNWLKQLIKVTLVFLFVAAIFYLITPVHVMSKHTDFSSEIIGYKAIDGGVTRDIASTDTCFANKHADFDTWFSQRGGSYTNDKACPLIAAVITREVGFVVPGLPGTILRTTNGDFLHFLPRVFSAVGNICYTPSKLIEYTDFATSACVLAAECTIFKDASGKPVPYCYDTNVLEGSVAYESLRPDTRYVLMDGSIIQFPNTYLEGSVRVVTTFDSEYCRHGTCERSEAGVCVSTSGRWVLNNDYYRSLPGVFCGVDAVNLLTNMFTPLIQPIGALDISASIVAGGIVAIVVTCLAYYFMRFRRAFGEYSHVVAFNTLLFLMSFTVLCLTPVYSFLPGVYSVIYLYLTFYLTNDVSFLAHIQWMVMFTPLVPFWITIAYIICISTKHFYWFFSNYLKRRVVFNGVSFSTFEEAALCTFLLNKEMYLKLRSDVLLPLTQYNRYLALYNKYKYFSGAMDTTSYREAACCHLAKALNDFSNSGSDVLYQPPQTSITSAVLQSGFRKMAFPSGKVEGCMVQVTCGTTTLNGLWLDDVVYCPRHVICTSEDMLNPNYEDLLIRKSNHNFLVQAGNVQLRVIGHSMQNCVLKLKVDTANPKTPKYKFVRIQPGQTFSVLACYNGSPSGVYQCAMRPNFTIKGSFLNGSCGSVGFNIDYDCVSFCYMHHMELPTGVHAGTDLEGNFYGPFVDRQTAQAAGTDTTITVNVLAWLYAAVINGDRWFLNRFTTTLNDFNLVAMKYNYEPLTQDHVDILGPLSAQTGIAVLDMCASLKELLQNGMNGRTILGSALLEDEFTPFDVVRQCSGVTFQSAVKRTIKGTHHWLLLTILTSLLVLVQSTQWSLFFFLYENAFLPFAMGIIAMSAFAMMFVKHKHAFLCLFLLPSLATVAYFNMVYMPASWVMRIMTWLDMVDTSLSGFKLKDCVMYASAVVLLILMTARTVYDDGARRVWTLMNVLTLVYKVYYGNALDQAISMWALIISVTSNYSGVVTTVMFLARGIVFMCVEYCPIFFITGNTLQCIMLVYCFLGYFCTCYFGLFCLLNRYFRLTLGVYDYLVSTQEFRYMNSQGLLPPKNSIDAFKLNIKLLGVGGKPCIKVATVQSKMSDVKCTSVVLLSVLQQLRVESSSKLWAQCVQLHNDILLAKDTTEAFEKMVSLLSVLLSMQGAVDINKLCEEMLDNRATLQAIASEFSSLPSYAAFATAQEAYEQAVANGDSEVVLKKLKKSLNVAKSEFDRDAAMQRKLEKMADQAMTQMYKQARSEDKRAKVTSAMQTMLFTMLRKLDNDALNNIINNARDGCVPLNIIPLTTAAKLMVVIPDYNTYKNTCDGTTFTYASALWEIQQVVDADSKIVQLSEISMDNSPNLAWPLIVTALRANSAVKLQNNELSPVALRQMSCAAGTTQTACTDDNALAYYNTTKGGRFVLALLSDLQDLKWARFPKSDGTGTIYTELEPPCRFVTDTPKGPKVKYLYFIKGLNNLNRGMVLGSLAATVRLQAGNATEVPANSTVLSFCAFAVDAAKAYKDYLASGGQPITNCVKMLCTHTGTGQAITVTPEANMDQESFGGASCCLYCRCHIDHPNPKGFCDLKGKYVQIPTTCANDPVGFTLKNTVCTVCGMWKGYGCSCDQLREPMLQSADAQSFLNGFAV*\n"
     ]
    }
   ],
   "source": [
    "print(cds[1].extract(gb_rec.seq).translate())"
   ]
  },
  {
   "cell_type": "code",
   "execution_count": 25,
   "id": "80251efb",
   "metadata": {},
   "outputs": [
    {
     "name": "stdout",
     "output_type": "stream",
     "text": [
      "['YP_009725297.1']: MESLVPGFNEKTHVQLSLPVLQVRDVLVRGFGDSVEEVLSEARQHLKDGTCGLVEVEKGVLPQLEQPYVFIKRSDARTAPHGHVMVELVAELEGIQYGRSGETLGVLVPHVGEIPVAYRKVLLRKNGNKGAGGHSYGADLKSFDLGDELGTDPYEDFQENWNTKHSSGVTRELMRELNGG\n",
      "['YP_009725298.1']: AYTRYVDNNFCGPDGYPLECIKDLLARAGKASCTLSEQLDFIDTKRGVYCCREHEHEIAWYTERSEKSYELQTPFEIKLAKKFDTFNGECPNFVFPLNSIIKTIQPRVEKKKLDGFMGRIRSVYPVASPNECNQMCLSTLMKCDHCGETSWQTGDFVKATCEFCGTENLTKEGATTCGYLPQNAVVKIYCPACHNSEVGPEHSLAEYHNESGLKTILRKGGRTIAFGGCVFSYVGCHNKCAYWVPRASANIGCNHTGVVGEGSEGLNDNLLEILQKEKVNINIVGDFKLNEEIAIILASFSASTSAFVETVKGLDYKAFKQIVESCGNFKVTKGKAKKGAWNIGEQKSILSPLYAFASEAARVVRSIFSRTLETAQNSVRVLQKAAITILDGISQYSLRLIDAMMFTSDLATNNLVVMAYITGGVVQLTSQWLTNIFGTVYEKLKPVLDWLEEKFKEGVEFLRDGWEIVKFISTCACEIVGGQIVTCAKEIKESVQTFFKLVNKFLALCADSIIIGGAKLKALNLGETFVTHSKGLYRKCVKSREETGLLMPLKAPKEIIFLEGETLPTEVLTEEVVLKTGDLQPLEQPTSEAVEAPLVGTPVCINGLMLLEIKDTEKYCALAPNMMVTNNTFTLKGG\n",
      "['YP_009725299.1']: APTKVTFGDDTVIEVQGYKSVNITFELDERIDKVLNEKCSAYTVELGTEVNEFACVVADAVIKTLQPVSELLTPLGIDLDEWSMATYYLFDESGEFKLASHMYCSFYPPDEDEEEGDCEEEEFEPSTQYEYGTEDDYQGKPLEFGATSAALQPEEEQEEDWLDDDSQQTVGQQDGSEDNQTTTIQTIVEVQPQLEMELTPVVQTIEVNSFSGYLKLTDNVYIKNADIVEEAKKVKPTVVVNAANVYLKHGGGVAGALNKATNNAMQVESDDYIATNGPLKVGGSCVLSGHNLAKHCLHVVGPNVNKGEDIQLLKSAYENFNQHEVLLAPLLSAGIFGADPIHSLRVCVDTVRTNVYLAVFDKNLYDKLVSSFLEMKSEKQVEQKIAEIPKEEVKPFITESKPSVEQRKQDDKKIKACVEEVTTTLEETKFLTENLLLYIDINGNLHPDSATLVSDIDITFLKKDAPYIVGDVVQEGVLTAVVIPTKKAGGTTEMLAKALRKVPTDNYITTYPGQGLNGYTVEEAKTVLKKCKSAFYILPSIISNEKQEILGTVSWNLREMLAHAEETRKLMPVCVETKAIVSTIQRKYKGIKIQEGVVDYGARFYFYTSKTTVASLINTLNDLNETLVTMPLGYVTHGLNLEEAARYMRSLKVPATVSVSSPDAVTAYNGYLTSSSKTPEEHFIETISLAGSYKDWSYSGQSTQLGIEFLKRGDKSVYYTSNPTTFHLDGEVITFDNLKTLLSLREVRTIKVFTTVDNINLHTQVVDMSMTYGQQFGPTYLDGADVTKIKPHNSHEGKTFYVLPNDDTLRVEAFEYYHTTDPSFLGRYMSALNHTKKWKYPQVNGLTSIKWADNNCYLATALLTLQQIELKFNPPALQDAYYRARAGEAANFCALILAYCNKTVGELGDVRETMSYLFQHANLDSCKRVLNVVCKTCGQQQTTLKGVEAVMYMGTLSYEQFKKGVQIPCTCGKQATKYLVQQESPFVMMSAPPAQYELKHGTFTCASEYTGNYQCGHYKHITSKETLYCIDGALLTKSSEYKGPITDVFYKENSYTTTIKPVTYKLDGVVCTEIDPKLDNYYKKDNSYFTEQPIDLVPNQPYPNASFDNFKFVCDNIKFADDLNQLTGYKKPASRELKVTFFPDLNGDVVAIDYKHYTPSFKKGAKLLHKPIVWHVNNATNKATYKPNTWCIRCLWSTKPVETSNSFDVLKSEDAQGMDNLACEDLKPVSEEVVENPTIQKDVLECNVKTTEVVGDIILKPANNSLKITEEVGHTDLMAAYVDNSSLTIKKPNELSRVLGLKTLATHGLAAVNSVPWDTIANYAKPFLNKVVSTTTNIVTRCLNRVCTNYMPYFFTLLLQLCTFTRSTNSRIKASMPTTIAKNTVKSVGKFCLEASFNYLKSPNFSKLINIIIWFLLLSVCLGSLIYSTAALGVLMSNLGMPSYCTGYREGYLNSTNVTIATYCTGSIPCSVCLSGLDSLDTYPSLETIQITISSFKWDLTAFGLVAEWFLAYILFTRFFYVLGLAAIMQLFFSYFAVHFISNSWLMWLIINLVQMAPISAMVRMYIFFASFYYVWKSYVHVVDGCNSSTCMMCYKRNRATRVECTTIVNGVRRSFYVYANGGKGFCKLHNWNCVNCDTFCAGSTFISDEVARDLSLQFKRPINPTDQSSYIVDSVTVKNGSIHLYFDKAGQKTYERHSLSHFVNLDNLRANNTKGSLPINVIVFDGKSKCEESSAKSASVYYSQLMCQPILLLDQALVSDVGDSAEVAVKMFDAYVNTFSSTFNVPMEKLKTLVATAEAELAKNVSLDNVLSTFISAARQGFVDSDVETKDVVECLKLSHQSDIEVTGDSCNNYMLTYNKVENMTPRDLGACIDCSARHINAQVAKSHNIALIWNVKDFMSLSEQLRKQIRSAAKKNNLPFKLTCATTRQVVNVVTTKIALKGG\n",
      "['YP_009725300.1']: KIVNNWLKQLIKVTLVFLFVAAIFYLITPVHVMSKHTDFSSEIIGYKAIDGGVTRDIASTDTCFANKHADFDTWFSQRGGSYTNDKACPLIAAVITREVGFVVPGLPGTILRTTNGDFLHFLPRVFSAVGNICYTPSKLIEYTDFATSACVLAAECTIFKDASGKPVPYCYDTNVLEGSVAYESLRPDTRYVLMDGSIIQFPNTYLEGSVRVVTTFDSEYCRHGTCERSEAGVCVSTSGRWVLNNDYYRSLPGVFCGVDAVNLLTNMFTPLIQPIGALDISASIVAGGIVAIVVTCLAYYFMRFRRAFGEYSHVVAFNTLLFLMSFTVLCLTPVYSFLPGVYSVIYLYLTFYLTNDVSFLAHIQWMVMFTPLVPFWITIAYIICISTKHFYWFFSNYLKRRVVFNGVSFSTFEEAALCTFLLNKEMYLKLRSDVLLPLTQYNRYLALYNKYKYFSGAMDTTSYREAACCHLAKALNDFSNSGSDVLYQPPQTSITSAVLQ\n",
      "['YP_009725301.1']: SGFRKMAFPSGKVEGCMVQVTCGTTTLNGLWLDDVVYCPRHVICTSEDMLNPNYEDLLIRKSNHNFLVQAGNVQLRVIGHSMQNCVLKLKVDTANPKTPKYKFVRIQPGQTFSVLACYNGSPSGVYQCAMRPNFTIKGSFLNGSCGSVGFNIDYDCVSFCYMHHMELPTGVHAGTDLEGNFYGPFVDRQTAQAAGTDTTITVNVLAWLYAAVINGDRWFLNRFTTTLNDFNLVAMKYNYEPLTQDHVDILGPLSAQTGIAVLDMCASLKELLQNGMNGRTILGSALLEDEFTPFDVVRQCSGVTFQ\n",
      "['YP_009725302.1']: SAVKRTIKGTHHWLLLTILTSLLVLVQSTQWSLFFFLYENAFLPFAMGIIAMSAFAMMFVKHKHAFLCLFLLPSLATVAYFNMVYMPASWVMRIMTWLDMVDTSLSGFKLKDCVMYASAVVLLILMTARTVYDDGARRVWTLMNVLTLVYKVYYGNALDQAISMWALIISVTSNYSGVVTTVMFLARGIVFMCVEYCPIFFITGNTLQCIMLVYCFLGYFCTCYFGLFCLLNRYFRLTLGVYDYLVSTQEFRYMNSQGLLPPKNSIDAFKLNIKLLGVGGKPCIKVATVQ\n",
      "['YP_009725303.1']: SKMSDVKCTSVVLLSVLQQLRVESSSKLWAQCVQLHNDILLAKDTTEAFEKMVSLLSVLLSMQGAVDINKLCEEMLDNRATLQ\n",
      "['YP_009725304.1']: AIASEFSSLPSYAAFATAQEAYEQAVANGDSEVVLKKLKKSLNVAKSEFDRDAAMQRKLEKMADQAMTQMYKQARSEDKRAKVTSAMQTMLFTMLRKLDNDALNNIINNARDGCVPLNIIPLTTAAKLMVVIPDYNTYKNTCDGTTFTYASALWEIQQVVDADSKIVQLSEISMDNSPNLAWPLIVTALRANSAVKLQ\n",
      "['YP_009725305.1']: NNELSPVALRQMSCAAGTTQTACTDDNALAYYNTTKGGRFVLALLSDLQDLKWARFPKSDGTGTIYTELEPPCRFVTDTPKGPKVKYLYFIKGLNNLNRGMVLGSLAATVRLQ\n",
      "['YP_009725306.1']: AGNATEVPANSTVLSFCAFAVDAAKAYKDYLASGGQPITNCVKMLCTHTGTGQAITVTPEANMDQESFGGASCCLYCRCHIDHPNPKGFCDLKGKYVQIPTTCANDPVGFTLKNTVCTVCGMWKGYGCSCDQLREPMLQ\n",
      "['YP_009725307.1']: SADAQSFLNRVCGVSAARLTPCGTGTSTDVVYRAFDIYNDKVAGFAKFLKTNCCRFQEKDEDDNLIDSYFVVKRHTFSNYQHEETIYNLLKDCPAVAKHDFFKFRIDGDMVPHISRQRLTKYTMADLVYALRHFDEGNCDTLKEILVTYNCCDDDYFNKKDWYDFVENPDILRVYANLGERVRQALLKTVQFCDAMRNAGIVGVLTLDNQDLNGNWYDFGDFIQTTPGSGVPVVDSYYSLLMPILTLTRALTAESHVDTDLTKPYIKWDLLKYDFTEERLKLFDRYFKYWDQTYHPNCVNCLDDRCILHCANFNVLFSTVFPPTSFGPLVRKIFVDGVPFVVSTGYHFRELGVVHNQDVNLHSSRLSFKELLVYAADPAMHAASGNLLLDKRTTCFSVAALTNNVAFQTVKPGNFNKDFYDFAVSKGFFKEGSSVELKHFFFAQDGNAAISDYDYYRYNLPTMCDIRQLLFVVEVVDKYFDCYDGGCINANQVIVNNLDKSAGFPFNKWGKARLYYDSMSYEDQDALFAYTKRNVIPTITQMNLKYAISAKNRARTVAGVSICSTMTNRQFHQKLLKSIAATRGATVVIGTSKFYGGWHNMLKTVYSDVENPHLMGWDYPKCDRAMPNMLRIMASLVLARKHTTCCSLSHRFYRLANECAQVLSEMVMCGGSLYVKPGGTSSGDATTAYANSVFNICQAVTANVNALLSTDGNKIADKYVRNLQHRLYECLYRNRDVDTDFVNEFYAYLRKHFSMMILSDDAVVCFNSTYASQGLVASIKNFKSVLYYQNNVFMSEAKCWTETDLTKGPHEFCSQHTMLVKQGDDYVYLPYPDPSRILGAGCFVDDIVKTDGTLMIERFVSLAIDAYPLTKHPNQEYADVFHLYLQYIRKLHDELTGHMLDMYSVMLTNDNTSRYWEPEFYEAMYTPHTVLQ\n",
      "['YP_009725308.1']: AVGACVLCNSQTSLRCGACIRRPFLCCKCCYDHVISTSHKLVLSVNPYVCNAPGCDVTDVTQLYLGGMSYYCKSHKPPISFPLCANGQVFGLYKNTCVGSDNVTDFNAIATCDWTNAGDYILANTCTERLKLFAAETLKATEETFKLSYGIATVREVLSDRELHLSWEVGKPRPPLNRNYVFTGYRVTKNSKVQIGEYTFEKGDYGDAVVYRGTTTYKLNVGDYFVLTSHTVMPLSAPTLVPQEHYVRITGLYPTLNISDEFSSNVANYQKVGMQKYSTLQGPPGTGKSHFAIGLALYYPSARIVYTACSHAAVDALCEKALKYLPIDKCSRIIPARARVECFDKFKVNSTLEQYVFCTVNALPETTADIVVFDEISMATNYDLSVVNARLRAKHYVYIGDPAQLPAPRTLLTKGTLEPEYFNSVCRLMKTIGPDMFLGTCRRCPAEIVDTVSALVYDNKLKAHKDKSAQCFKMFYKGVITHDVSSAINRPQIGVVREFLTRNPAWRKAVFISPYNSQNAVASKILGLPTQTVDSSQGSEYDYVIFTQTTETAHSCNVNRFNVAITRAKVGILCIMSDRDLYDKLQFTSLEIPRRNVATLQ\n",
      "['YP_009725309.1']: AENVTGLFKDCSKVITGLHPTQAPTHLSVDTKFKTEGLCVDIPGIPKDMTYRRLISMMGFKMNYQVNGYPNMFITREEAIRHVRAWIGFDVEGCHATREAVGTNLPLQLGFSTGVNLVAVPTGYVDTPNNTDFSRVSAKPPPGDQFKHLIPLMYKGLPWNVVRIKIVQMLSDTLKNLSDRVVFVLWAHGFELTSMKYFVKIGPERTCCLCDRRATCFSTASDTYACWHHSIGFDYVYNPFMIDVQQWGFTGNLQSNHDLYCQVHGNAHVASCDAIMTRCLAVHECFVKRVDWTIEYPIIGDELKINAACRKVQHMVVKAALLADKFPVLHDIGNPKAIKCVPQADVEWKFYDAQPCSDKAYKIEELFYSYATHSDKFTDGVCLFWNCNVDRYPANSIVCRFDTRVLSNLNLPGCDGGSLYVNKHAFHTPAFDKSAFVNLKQLPFFYYSDSPCESHGKQVVSDIDYVPLKSATCITRCNLGGAVCRHHANEYRLYLDAYNMMISAGFSLWVYKQFDTYNLWNTFTRLQ\n",
      "['YP_009725310.1']: SLENVAFNVVNKGHFDGQQGEVPVSIINNTVYTKVDGVDVELFENKTTLPVNVAFELWAKRNIKPVPEVKILNNLGVDIAANTVIWDYKRDAPAHISTIGVCSMTDIAKKPTETICAPLTVFFDGRVDGQVDLFRNARNGVLITEGSVKGLQPSVGPKQASLNGVTLIGEAVKTQFNYYKKVDGVVQQLPETYFTQSRNLQEFKPRSQMEIDFLELAMDEFIERYKLEGYAFEHIVYGDFSHSQLGGLHLLIGLAKRFKESPFELEDFIPMDSTVKNYFITDAQTGSSKCVCSVIDLLLDDFVEIIKSQDLSVVSKVVKVTIDYTEISFMLWCKDGHVETFYPKLQ\n",
      "['YP_009725311.1']: SSQAWQPGVAMPNLYKMQRMLLEKCDLQNYGDSATLPKGIMMNVAKYTQLCQYLNTLTLAVPYNMRVIHFGAGSDKGVAPGTAVLRQWLPTGTLLVDSDLNDFVSDADSTLIGDCATVHTANKWDLIISDMYDPKTKNVTKENDSKEGFFTYICGFIQQKLALGGSVAIKITEHSWNADLYKLMGHFAWWTAFVTNVNASSSEAFLIGCNYLGKPREQIDGYVMHANYIFWRNTNPIQLSSYSLFDMSKFPLKLRGTAVMSLKEGQINDMILSLLSKGRLIIRENNRVVISSDVLVNN\n",
      "['YP_009742608.1']: MESLVPGFNEKTHVQLSLPVLQVRDVLVRGFGDSVEEVLSEARQHLKDGTCGLVEVEKGVLPQLEQPYVFIKRSDARTAPHGHVMVELVAELEGIQYGRSGETLGVLVPHVGEIPVAYRKVLLRKNGNKGAGGHSYGADLKSFDLGDELGTDPYEDFQENWNTKHSSGVTRELMRELNGG\n",
      "['YP_009742609.1']: AYTRYVDNNFCGPDGYPLECIKDLLARAGKASCTLSEQLDFIDTKRGVYCCREHEHEIAWYTERSEKSYELQTPFEIKLAKKFDTFNGECPNFVFPLNSIIKTIQPRVEKKKLDGFMGRIRSVYPVASPNECNQMCLSTLMKCDHCGETSWQTGDFVKATCEFCGTENLTKEGATTCGYLPQNAVVKIYCPACHNSEVGPEHSLAEYHNESGLKTILRKGGRTIAFGGCVFSYVGCHNKCAYWVPRASANIGCNHTGVVGEGSEGLNDNLLEILQKEKVNINIVGDFKLNEEIAIILASFSASTSAFVETVKGLDYKAFKQIVESCGNFKVTKGKAKKGAWNIGEQKSILSPLYAFASEAARVVRSIFSRTLETAQNSVRVLQKAAITILDGISQYSLRLIDAMMFTSDLATNNLVVMAYITGGVVQLTSQWLTNIFGTVYEKLKPVLDWLEEKFKEGVEFLRDGWEIVKFISTCACEIVGGQIVTCAKEIKESVQTFFKLVNKFLALCADSIIIGGAKLKALNLGETFVTHSKGLYRKCVKSREETGLLMPLKAPKEIIFLEGETLPTEVLTEEVVLKTGDLQPLEQPTSEAVEAPLVGTPVCINGLMLLEIKDTEKYCALAPNMMVTNNTFTLKGG\n",
      "['YP_009742610.1']: APTKVTFGDDTVIEVQGYKSVNITFELDERIDKVLNEKCSAYTVELGTEVNEFACVVADAVIKTLQPVSELLTPLGIDLDEWSMATYYLFDESGEFKLASHMYCSFYPPDEDEEEGDCEEEEFEPSTQYEYGTEDDYQGKPLEFGATSAALQPEEEQEEDWLDDDSQQTVGQQDGSEDNQTTTIQTIVEVQPQLEMELTPVVQTIEVNSFSGYLKLTDNVYIKNADIVEEAKKVKPTVVVNAANVYLKHGGGVAGALNKATNNAMQVESDDYIATNGPLKVGGSCVLSGHNLAKHCLHVVGPNVNKGEDIQLLKSAYENFNQHEVLLAPLLSAGIFGADPIHSLRVCVDTVRTNVYLAVFDKNLYDKLVSSFLEMKSEKQVEQKIAEIPKEEVKPFITESKPSVEQRKQDDKKIKACVEEVTTTLEETKFLTENLLLYIDINGNLHPDSATLVSDIDITFLKKDAPYIVGDVVQEGVLTAVVIPTKKAGGTTEMLAKALRKVPTDNYITTYPGQGLNGYTVEEAKTVLKKCKSAFYILPSIISNEKQEILGTVSWNLREMLAHAEETRKLMPVCVETKAIVSTIQRKYKGIKIQEGVVDYGARFYFYTSKTTVASLINTLNDLNETLVTMPLGYVTHGLNLEEAARYMRSLKVPATVSVSSPDAVTAYNGYLTSSSKTPEEHFIETISLAGSYKDWSYSGQSTQLGIEFLKRGDKSVYYTSNPTTFHLDGEVITFDNLKTLLSLREVRTIKVFTTVDNINLHTQVVDMSMTYGQQFGPTYLDGADVTKIKPHNSHEGKTFYVLPNDDTLRVEAFEYYHTTDPSFLGRYMSALNHTKKWKYPQVNGLTSIKWADNNCYLATALLTLQQIELKFNPPALQDAYYRARAGEAANFCALILAYCNKTVGELGDVRETMSYLFQHANLDSCKRVLNVVCKTCGQQQTTLKGVEAVMYMGTLSYEQFKKGVQIPCTCGKQATKYLVQQESPFVMMSAPPAQYELKHGTFTCASEYTGNYQCGHYKHITSKETLYCIDGALLTKSSEYKGPITDVFYKENSYTTTIKPVTYKLDGVVCTEIDPKLDNYYKKDNSYFTEQPIDLVPNQPYPNASFDNFKFVCDNIKFADDLNQLTGYKKPASRELKVTFFPDLNGDVVAIDYKHYTPSFKKGAKLLHKPIVWHVNNATNKATYKPNTWCIRCLWSTKPVETSNSFDVLKSEDAQGMDNLACEDLKPVSEEVVENPTIQKDVLECNVKTTEVVGDIILKPANNSLKITEEVGHTDLMAAYVDNSSLTIKKPNELSRVLGLKTLATHGLAAVNSVPWDTIANYAKPFLNKVVSTTTNIVTRCLNRVCTNYMPYFFTLLLQLCTFTRSTNSRIKASMPTTIAKNTVKSVGKFCLEASFNYLKSPNFSKLINIIIWFLLLSVCLGSLIYSTAALGVLMSNLGMPSYCTGYREGYLNSTNVTIATYCTGSIPCSVCLSGLDSLDTYPSLETIQITISSFKWDLTAFGLVAEWFLAYILFTRFFYVLGLAAIMQLFFSYFAVHFISNSWLMWLIINLVQMAPISAMVRMYIFFASFYYVWKSYVHVVDGCNSSTCMMCYKRNRATRVECTTIVNGVRRSFYVYANGGKGFCKLHNWNCVNCDTFCAGSTFISDEVARDLSLQFKRPINPTDQSSYIVDSVTVKNGSIHLYFDKAGQKTYERHSLSHFVNLDNLRANNTKGSLPINVIVFDGKSKCEESSAKSASVYYSQLMCQPILLLDQALVSDVGDSAEVAVKMFDAYVNTFSSTFNVPMEKLKTLVATAEAELAKNVSLDNVLSTFISAARQGFVDSDVETKDVVECLKLSHQSDIEVTGDSCNNYMLTYNKVENMTPRDLGACIDCSARHINAQVAKSHNIALIWNVKDFMSLSEQLRKQIRSAAKKNNLPFKLTCATTRQVVNVVTTKIALKGG\n",
      "['YP_009742611.1']: KIVNNWLKQLIKVTLVFLFVAAIFYLITPVHVMSKHTDFSSEIIGYKAIDGGVTRDIASTDTCFANKHADFDTWFSQRGGSYTNDKACPLIAAVITREVGFVVPGLPGTILRTTNGDFLHFLPRVFSAVGNICYTPSKLIEYTDFATSACVLAAECTIFKDASGKPVPYCYDTNVLEGSVAYESLRPDTRYVLMDGSIIQFPNTYLEGSVRVVTTFDSEYCRHGTCERSEAGVCVSTSGRWVLNNDYYRSLPGVFCGVDAVNLLTNMFTPLIQPIGALDISASIVAGGIVAIVVTCLAYYFMRFRRAFGEYSHVVAFNTLLFLMSFTVLCLTPVYSFLPGVYSVIYLYLTFYLTNDVSFLAHIQWMVMFTPLVPFWITIAYIICISTKHFYWFFSNYLKRRVVFNGVSFSTFEEAALCTFLLNKEMYLKLRSDVLLPLTQYNRYLALYNKYKYFSGAMDTTSYREAACCHLAKALNDFSNSGSDVLYQPPQTSITSAVLQ\n",
      "['YP_009742612.1']: SGFRKMAFPSGKVEGCMVQVTCGTTTLNGLWLDDVVYCPRHVICTSEDMLNPNYEDLLIRKSNHNFLVQAGNVQLRVIGHSMQNCVLKLKVDTANPKTPKYKFVRIQPGQTFSVLACYNGSPSGVYQCAMRPNFTIKGSFLNGSCGSVGFNIDYDCVSFCYMHHMELPTGVHAGTDLEGNFYGPFVDRQTAQAAGTDTTITVNVLAWLYAAVINGDRWFLNRFTTTLNDFNLVAMKYNYEPLTQDHVDILGPLSAQTGIAVLDMCASLKELLQNGMNGRTILGSALLEDEFTPFDVVRQCSGVTFQ\n",
      "['YP_009742613.1']: SAVKRTIKGTHHWLLLTILTSLLVLVQSTQWSLFFFLYENAFLPFAMGIIAMSAFAMMFVKHKHAFLCLFLLPSLATVAYFNMVYMPASWVMRIMTWLDMVDTSLSGFKLKDCVMYASAVVLLILMTARTVYDDGARRVWTLMNVLTLVYKVYYGNALDQAISMWALIISVTSNYSGVVTTVMFLARGIVFMCVEYCPIFFITGNTLQCIMLVYCFLGYFCTCYFGLFCLLNRYFRLTLGVYDYLVSTQEFRYMNSQGLLPPKNSIDAFKLNIKLLGVGGKPCIKVATVQ\n",
      "['YP_009742614.1']: SKMSDVKCTSVVLLSVLQQLRVESSSKLWAQCVQLHNDILLAKDTTEAFEKMVSLLSVLLSMQGAVDINKLCEEMLDNRATLQ\n",
      "['YP_009742615.1']: AIASEFSSLPSYAAFATAQEAYEQAVANGDSEVVLKKLKKSLNVAKSEFDRDAAMQRKLEKMADQAMTQMYKQARSEDKRAKVTSAMQTMLFTMLRKLDNDALNNIINNARDGCVPLNIIPLTTAAKLMVVIPDYNTYKNTCDGTTFTYASALWEIQQVVDADSKIVQLSEISMDNSPNLAWPLIVTALRANSAVKLQ\n",
      "['YP_009742616.1']: NNELSPVALRQMSCAAGTTQTACTDDNALAYYNTTKGGRFVLALLSDLQDLKWARFPKSDGTGTIYTELEPPCRFVTDTPKGPKVKYLYFIKGLNNLNRGMVLGSLAATVRLQ\n",
      "['YP_009742617.1']: AGNATEVPANSTVLSFCAFAVDAAKAYKDYLASGGQPITNCVKMLCTHTGTGQAITVTPEANMDQESFGGASCCLYCRCHIDHPNPKGFCDLKGKYVQIPTTCANDPVGFTLKNTVCTVCGMWKGYGCSCDQLREPMLQ\n",
      "['YP_009725312.1']: SADAQSFLNGFAV\n"
     ]
    }
   ],
   "source": [
    "#print(cds[1].extract(gb_rec.seq).translate())\n",
    "\n",
    "peptides = [print(\"{}: {}\".format(ft.qualifiers['protein_id'], ft.extract(gb_rec.seq).translate())) for ft in gb_rec.features if ft.type == 'mat_peptide']\n"
   ]
  },
  {
   "cell_type": "markdown",
   "id": "e9f1ea87",
   "metadata": {},
   "source": [
    "#### Structures\n",
    "Structure processing is managed by the [Bio.PDB](https://biopython.org/docs/latest/api/Bio.PDB.html) package.\n",
    "\n",
    "To read a structure from a PDB file, use the `PDBParser`. We will be using the 3C-like proteinase protein, which is one of the processed proteins present in the ORF1a discussed above. One of it's structures is [7ALH](https://www.ebi.ac.uk/pdbe/entry/pdb/7alh). To see all the proteins, I suggest checking out the PDBe-KB page for [P0DTD1](https://www.ebi.ac.uk/pdbe/pdbe-kb/protein/P0DTD1)."
   ]
  },
  {
   "cell_type": "code",
   "execution_count": 103,
   "id": "8b113320",
   "metadata": {},
   "outputs": [],
   "source": [
    "from Bio.PDB.PDBParser import PDBParser\n",
    "parser = PDBParser(PERMISSIVE=1)\n",
    "structure = parser.get_structure(\"7alh\", \"7alh.ent\")"
   ]
  },
  {
   "cell_type": "markdown",
   "id": "cdcc527d",
   "metadata": {},
   "source": [
    "As the PDB format is considered deprecated, one should use the mmCIF file instead. This is done the same way as in case of PDB files."
   ]
  },
  {
   "cell_type": "code",
   "execution_count": 27,
   "id": "035719e1",
   "metadata": {},
   "outputs": [],
   "source": [
    "from Bio.PDB.MMCIFParser import MMCIFParser\n",
    "parser = MMCIFParser()\n",
    "structure = parser.get_structure(\"7alh\", \"7alh.cif\")"
   ]
  },
  {
   "cell_type": "markdown",
   "id": "81e46624",
   "metadata": {},
   "source": [
    "To retrieve the individual CIF dictionary fields, one can use the `MMCIF2Dict` module."
   ]
  },
  {
   "cell_type": "code",
   "execution_count": 26,
   "id": "ffb0783d",
   "metadata": {},
   "outputs": [
    {
     "name": "stdout",
     "output_type": "stream",
     "text": [
      "['Crystal structure of the main protease (3CLpro/Mpro) of SARS-CoV-2 at 1.65A resolution (spacegroup C2).']\n"
     ]
    }
   ],
   "source": [
    "from Bio.PDB.MMCIFParser import MMCIF2Dict\n",
    "mmcif_dict = MMCIF2Dict(\"7alh.cif\")\n",
    "print(mmcif_dict[\"_citation.title\"])"
   ]
  },
  {
   "cell_type": "markdown",
   "id": "95676e70",
   "metadata": {},
   "source": [
    "The structure record has the structure->model->chain->residue->architecture.\n",
    "\n",
    "![SMRCA](http://biopython.org/DIST/docs/tutorial/images/smcra.png)"
   ]
  },
  {
   "cell_type": "markdown",
   "id": "5852f822",
   "metadata": {},
   "source": [
    "Each of the levels in the hierarchy is represented by a submodule in Bio.PDB, namely [Bio.Structure](https://biopython.org/docs/latest/api/Bio.PDB.Modul.html), [Bio.Module](https://biopython.org/docs/latest/api/Bio.PDB.Module.html),[Bio.Chain](https://biopython.org/docs/latest/api/Bio.PDB.Chain.html),[Bio.Residue](https://biopython.org/docs/latest/api/Bio.PDB.Residue.html) and [Bio.Atom](https://biopython.org/docs/latest/api/Bio.PDB.Atom.html). For details regarding IDs, check the [section on ID](https://biopython.org/docs/1.75/api/Bio.PDB.Entity.html#Bio.PDB.Entity.Entity.get_full_id) of the Entity class which is the superclass of the Module/Chain/Residue/Atom classes."
   ]
  },
  {
   "cell_type": "code",
   "execution_count": 150,
   "id": "bf3cac2c",
   "metadata": {
    "scrolled": false
   },
   "outputs": [
    {
     "name": "stdout",
     "output_type": "stream",
     "text": [
      "[<Model id=0>]\n",
      "---------- MODEL INFO ----------\n",
      "Full ID: ('7alh', 0)\n",
      "ID: 0\n",
      "[<Chain id=A>]\n",
      "---------- CHAIN INFO ----------\n",
      "Full ID: ('7alh', 0, 'A')\n",
      "ID: A\n",
      "[<Residue SER het=  resseq=1 icode= >, <Residue GLY het=  resseq=2 icode= >, <Residue PHE het=  resseq=3 icode= >, <Residue ARG het=  resseq=4 icode= >, <Residue LYS het=  resseq=5 icode= >, <Residue MET het=  resseq=6 icode= >, <Residue ALA het=  resseq=7 icode= >, <Residue PHE het=  resseq=8 icode= >, <Residue PRO het=  resseq=9 icode= >, <Residue SER het=  resseq=10 icode= >, <Residue GLY het=  resseq=11 icode= >, <Residue LYS het=  resseq=12 icode= >, <Residue VAL het=  resseq=13 icode= >, <Residue GLU het=  resseq=14 icode= >, <Residue GLY het=  resseq=15 icode= >, <Residue CYS het=  resseq=16 icode= >, <Residue MET het=  resseq=17 icode= >, <Residue VAL het=  resseq=18 icode= >, <Residue GLN het=  resseq=19 icode= >, <Residue VAL het=  resseq=20 icode= >, <Residue THR het=  resseq=21 icode= >, <Residue CYS het=  resseq=22 icode= >, <Residue GLY het=  resseq=23 icode= >, <Residue THR het=  resseq=24 icode= >, <Residue THR het=  resseq=25 icode= >, <Residue THR het=  resseq=26 icode= >, <Residue LEU het=  resseq=27 icode= >, <Residue ASN het=  resseq=28 icode= >, <Residue GLY het=  resseq=29 icode= >, <Residue LEU het=  resseq=30 icode= >, <Residue TRP het=  resseq=31 icode= >, <Residue LEU het=  resseq=32 icode= >, <Residue ASP het=  resseq=33 icode= >, <Residue ASP het=  resseq=34 icode= >, <Residue VAL het=  resseq=35 icode= >, <Residue VAL het=  resseq=36 icode= >, <Residue TYR het=  resseq=37 icode= >, <Residue CYS het=  resseq=38 icode= >, <Residue PRO het=  resseq=39 icode= >, <Residue ARG het=  resseq=40 icode= >, <Residue HIS het=  resseq=41 icode= >, <Residue VAL het=  resseq=42 icode= >, <Residue ILE het=  resseq=43 icode= >, <Residue CYS het=  resseq=44 icode= >, <Residue THR het=  resseq=45 icode= >, <Residue SER het=  resseq=46 icode= >, <Residue GLU het=  resseq=47 icode= >, <Residue ASP het=  resseq=48 icode= >, <Residue MET het=  resseq=49 icode= >, <Residue LEU het=  resseq=50 icode= >, <Residue ASN het=  resseq=51 icode= >, <Residue PRO het=  resseq=52 icode= >, <Residue ASN het=  resseq=53 icode= >, <Residue TYR het=  resseq=54 icode= >, <Residue GLU het=  resseq=55 icode= >, <Residue ASP het=  resseq=56 icode= >, <Residue LEU het=  resseq=57 icode= >, <Residue LEU het=  resseq=58 icode= >, <Residue ILE het=  resseq=59 icode= >, <Residue ARG het=  resseq=60 icode= >, <Residue LYS het=  resseq=61 icode= >, <Residue SER het=  resseq=62 icode= >, <Residue ASN het=  resseq=63 icode= >, <Residue HIS het=  resseq=64 icode= >, <Residue ASN het=  resseq=65 icode= >, <Residue PHE het=  resseq=66 icode= >, <Residue LEU het=  resseq=67 icode= >, <Residue VAL het=  resseq=68 icode= >, <Residue GLN het=  resseq=69 icode= >, <Residue ALA het=  resseq=70 icode= >, <Residue GLY het=  resseq=71 icode= >, <Residue ASN het=  resseq=72 icode= >, <Residue VAL het=  resseq=73 icode= >, <Residue GLN het=  resseq=74 icode= >, <Residue LEU het=  resseq=75 icode= >, <Residue ARG het=  resseq=76 icode= >, <Residue VAL het=  resseq=77 icode= >, <Residue ILE het=  resseq=78 icode= >, <Residue GLY het=  resseq=79 icode= >, <Residue HIS het=  resseq=80 icode= >, <Residue SER het=  resseq=81 icode= >, <Residue MET het=  resseq=82 icode= >, <Residue GLN het=  resseq=83 icode= >, <Residue ASN het=  resseq=84 icode= >, <Residue CYS het=  resseq=85 icode= >, <Residue VAL het=  resseq=86 icode= >, <Residue LEU het=  resseq=87 icode= >, <Residue LYS het=  resseq=88 icode= >, <Residue LEU het=  resseq=89 icode= >, <Residue LYS het=  resseq=90 icode= >, <Residue VAL het=  resseq=91 icode= >, <Residue ASP het=  resseq=92 icode= >, <Residue THR het=  resseq=93 icode= >, <Residue ALA het=  resseq=94 icode= >, <Residue ASN het=  resseq=95 icode= >, <Residue PRO het=  resseq=96 icode= >, <Residue LYS het=  resseq=97 icode= >, <Residue THR het=  resseq=98 icode= >, <Residue PRO het=  resseq=99 icode= >, <Residue LYS het=  resseq=100 icode= >, <Residue TYR het=  resseq=101 icode= >, <Residue LYS het=  resseq=102 icode= >, <Residue PHE het=  resseq=103 icode= >, <Residue VAL het=  resseq=104 icode= >, <Residue ARG het=  resseq=105 icode= >, <Residue ILE het=  resseq=106 icode= >, <Residue GLN het=  resseq=107 icode= >, <Residue PRO het=  resseq=108 icode= >, <Residue GLY het=  resseq=109 icode= >, <Residue GLN het=  resseq=110 icode= >, <Residue THR het=  resseq=111 icode= >, <Residue PHE het=  resseq=112 icode= >, <Residue SER het=  resseq=113 icode= >, <Residue VAL het=  resseq=114 icode= >, <Residue LEU het=  resseq=115 icode= >, <Residue ALA het=  resseq=116 icode= >, <Residue CYS het=  resseq=117 icode= >, <Residue TYR het=  resseq=118 icode= >, <Residue ASN het=  resseq=119 icode= >, <Residue GLY het=  resseq=120 icode= >, <Residue SER het=  resseq=121 icode= >, <Residue PRO het=  resseq=122 icode= >, <Residue SER het=  resseq=123 icode= >, <Residue GLY het=  resseq=124 icode= >, <Residue VAL het=  resseq=125 icode= >, <Residue TYR het=  resseq=126 icode= >, <Residue GLN het=  resseq=127 icode= >, <Residue CYS het=  resseq=128 icode= >, <Residue ALA het=  resseq=129 icode= >, <Residue MET het=  resseq=130 icode= >, <Residue ARG het=  resseq=131 icode= >, <Residue PRO het=  resseq=132 icode= >, <Residue ASN het=  resseq=133 icode= >, <Residue PHE het=  resseq=134 icode= >, <Residue THR het=  resseq=135 icode= >, <Residue ILE het=  resseq=136 icode= >, <Residue LYS het=  resseq=137 icode= >, <Residue GLY het=  resseq=138 icode= >, <Residue SER het=  resseq=139 icode= >, <Residue PHE het=  resseq=140 icode= >, <Residue LEU het=  resseq=141 icode= >, <Residue ASN het=  resseq=142 icode= >, <Residue GLY het=  resseq=143 icode= >, <Residue SER het=  resseq=144 icode= >, <Residue CYS het=  resseq=145 icode= >, <Residue GLY het=  resseq=146 icode= >, <Residue SER het=  resseq=147 icode= >, <Residue VAL het=  resseq=148 icode= >, <Residue GLY het=  resseq=149 icode= >, <Residue PHE het=  resseq=150 icode= >, <Residue ASN het=  resseq=151 icode= >, <Residue ILE het=  resseq=152 icode= >, <Residue ASP het=  resseq=153 icode= >, <Residue TYR het=  resseq=154 icode= >, <Residue ASP het=  resseq=155 icode= >, <Residue CYS het=  resseq=156 icode= >, <Residue VAL het=  resseq=157 icode= >, <Residue SER het=  resseq=158 icode= >, <Residue PHE het=  resseq=159 icode= >, <Residue CYS het=  resseq=160 icode= >, <Residue TYR het=  resseq=161 icode= >, <Residue MET het=  resseq=162 icode= >, <Residue HIS het=  resseq=163 icode= >, <Residue HIS het=  resseq=164 icode= >, <Residue MET het=  resseq=165 icode= >, <Residue GLU het=  resseq=166 icode= >, <Residue LEU het=  resseq=167 icode= >, <Residue PRO het=  resseq=168 icode= >, <Residue THR het=  resseq=169 icode= >, <Residue GLY het=  resseq=170 icode= >, <Residue VAL het=  resseq=171 icode= >, <Residue HIS het=  resseq=172 icode= >, <Residue ALA het=  resseq=173 icode= >, <Residue GLY het=  resseq=174 icode= >, <Residue THR het=  resseq=175 icode= >, <Residue ASP het=  resseq=176 icode= >, <Residue LEU het=  resseq=177 icode= >, <Residue GLU het=  resseq=178 icode= >, <Residue GLY het=  resseq=179 icode= >, <Residue ASN het=  resseq=180 icode= >, <Residue PHE het=  resseq=181 icode= >, <Residue TYR het=  resseq=182 icode= >, <Residue GLY het=  resseq=183 icode= >, <Residue PRO het=  resseq=184 icode= >, <Residue PHE het=  resseq=185 icode= >, <Residue VAL het=  resseq=186 icode= >, <Residue ASP het=  resseq=187 icode= >, <Residue ARG het=  resseq=188 icode= >, <Residue GLN het=  resseq=189 icode= >, <Residue THR het=  resseq=190 icode= >, <Residue ALA het=  resseq=191 icode= >, <Residue GLN het=  resseq=192 icode= >, <Residue ALA het=  resseq=193 icode= >, <Residue ALA het=  resseq=194 icode= >, <Residue GLY het=  resseq=195 icode= >, <Residue THR het=  resseq=196 icode= >, <Residue ASP het=  resseq=197 icode= >, <Residue THR het=  resseq=198 icode= >, <Residue THR het=  resseq=199 icode= >, <Residue ILE het=  resseq=200 icode= >, <Residue THR het=  resseq=201 icode= >, <Residue VAL het=  resseq=202 icode= >, <Residue ASN het=  resseq=203 icode= >, <Residue VAL het=  resseq=204 icode= >, <Residue LEU het=  resseq=205 icode= >, <Residue ALA het=  resseq=206 icode= >, <Residue TRP het=  resseq=207 icode= >, <Residue LEU het=  resseq=208 icode= >, <Residue TYR het=  resseq=209 icode= >, <Residue ALA het=  resseq=210 icode= >, <Residue ALA het=  resseq=211 icode= >, <Residue VAL het=  resseq=212 icode= >, <Residue ILE het=  resseq=213 icode= >, <Residue ASN het=  resseq=214 icode= >, <Residue GLY het=  resseq=215 icode= >, <Residue ASP het=  resseq=216 icode= >, <Residue ARG het=  resseq=217 icode= >, <Residue TRP het=  resseq=218 icode= >, <Residue PHE het=  resseq=219 icode= >, <Residue LEU het=  resseq=220 icode= >, <Residue ASN het=  resseq=221 icode= >, <Residue ARG het=  resseq=222 icode= >, <Residue PHE het=  resseq=223 icode= >, <Residue THR het=  resseq=224 icode= >, <Residue THR het=  resseq=225 icode= >, <Residue THR het=  resseq=226 icode= >, <Residue LEU het=  resseq=227 icode= >, <Residue ASN het=  resseq=228 icode= >, <Residue ASP het=  resseq=229 icode= >, <Residue PHE het=  resseq=230 icode= >, <Residue ASN het=  resseq=231 icode= >, <Residue LEU het=  resseq=232 icode= >, <Residue VAL het=  resseq=233 icode= >, <Residue ALA het=  resseq=234 icode= >, <Residue MET het=  resseq=235 icode= >, <Residue LYS het=  resseq=236 icode= >, <Residue TYR het=  resseq=237 icode= >, <Residue ASN het=  resseq=238 icode= >, <Residue TYR het=  resseq=239 icode= >, <Residue GLU het=  resseq=240 icode= >, <Residue PRO het=  resseq=241 icode= >, <Residue LEU het=  resseq=242 icode= >, <Residue THR het=  resseq=243 icode= >, <Residue GLN het=  resseq=244 icode= >, <Residue ASP het=  resseq=245 icode= >, <Residue HIS het=  resseq=246 icode= >, <Residue VAL het=  resseq=247 icode= >, <Residue ASP het=  resseq=248 icode= >, <Residue ILE het=  resseq=249 icode= >, <Residue LEU het=  resseq=250 icode= >, <Residue GLY het=  resseq=251 icode= >, <Residue PRO het=  resseq=252 icode= >, <Residue LEU het=  resseq=253 icode= >, <Residue SER het=  resseq=254 icode= >, <Residue ALA het=  resseq=255 icode= >, <Residue GLN het=  resseq=256 icode= >, <Residue THR het=  resseq=257 icode= >, <Residue GLY het=  resseq=258 icode= >, <Residue ILE het=  resseq=259 icode= >, <Residue ALA het=  resseq=260 icode= >, <Residue VAL het=  resseq=261 icode= >, <Residue LEU het=  resseq=262 icode= >, <Residue ASP het=  resseq=263 icode= >, <Residue MET het=  resseq=264 icode= >, <Residue CYS het=  resseq=265 icode= >, <Residue ALA het=  resseq=266 icode= >, <Residue SER het=  resseq=267 icode= >, <Residue LEU het=  resseq=268 icode= >, <Residue LYS het=  resseq=269 icode= >, <Residue GLU het=  resseq=270 icode= >, <Residue LEU het=  resseq=271 icode= >, <Residue LEU het=  resseq=272 icode= >, <Residue GLN het=  resseq=273 icode= >, <Residue ASN het=  resseq=274 icode= >, <Residue GLY het=  resseq=275 icode= >, <Residue MET het=  resseq=276 icode= >, <Residue ASN het=  resseq=277 icode= >, <Residue GLY het=  resseq=278 icode= >, <Residue ARG het=  resseq=279 icode= >, <Residue THR het=  resseq=280 icode= >, <Residue ILE het=  resseq=281 icode= >, <Residue LEU het=  resseq=282 icode= >, <Residue GLY het=  resseq=283 icode= >, <Residue SER het=  resseq=284 icode= >, <Residue ALA het=  resseq=285 icode= >, <Residue LEU het=  resseq=286 icode= >, <Residue LEU het=  resseq=287 icode= >, <Residue GLU het=  resseq=288 icode= >, <Residue ASP het=  resseq=289 icode= >, <Residue GLU het=  resseq=290 icode= >, <Residue PHE het=  resseq=291 icode= >, <Residue THR het=  resseq=292 icode= >, <Residue PRO het=  resseq=293 icode= >, <Residue PHE het=  resseq=294 icode= >, <Residue ASP het=  resseq=295 icode= >, <Residue VAL het=  resseq=296 icode= >, <Residue VAL het=  resseq=297 icode= >, <Residue ARG het=  resseq=298 icode= >, <Residue GLN het=  resseq=299 icode= >, <Residue CYS het=  resseq=300 icode= >, <Residue SER het=  resseq=301 icode= >, <Residue GLY het=  resseq=302 icode= >, <Residue VAL het=  resseq=303 icode= >, <Residue THR het=  resseq=304 icode= >, <Residue PHE het=  resseq=305 icode= >, <Residue HOH het=W resseq=401 icode= >, <Residue HOH het=W resseq=402 icode= >, <Residue HOH het=W resseq=403 icode= >, <Residue HOH het=W resseq=404 icode= >, <Residue HOH het=W resseq=405 icode= >, <Residue HOH het=W resseq=406 icode= >, <Residue HOH het=W resseq=407 icode= >, <Residue HOH het=W resseq=408 icode= >, <Residue HOH het=W resseq=409 icode= >, <Residue HOH het=W resseq=410 icode= >, <Residue HOH het=W resseq=411 icode= >, <Residue HOH het=W resseq=412 icode= >, <Residue HOH het=W resseq=413 icode= >, <Residue HOH het=W resseq=414 icode= >, <Residue HOH het=W resseq=415 icode= >, <Residue HOH het=W resseq=416 icode= >, <Residue HOH het=W resseq=417 icode= >, <Residue HOH het=W resseq=418 icode= >, <Residue HOH het=W resseq=419 icode= >, <Residue HOH het=W resseq=420 icode= >, <Residue HOH het=W resseq=421 icode= >, <Residue HOH het=W resseq=422 icode= >, <Residue HOH het=W resseq=423 icode= >, <Residue HOH het=W resseq=424 icode= >, <Residue HOH het=W resseq=425 icode= >, <Residue HOH het=W resseq=426 icode= >, <Residue HOH het=W resseq=427 icode= >, <Residue HOH het=W resseq=428 icode= >, <Residue HOH het=W resseq=429 icode= >, <Residue HOH het=W resseq=430 icode= >, <Residue HOH het=W resseq=431 icode= >, <Residue HOH het=W resseq=432 icode= >, <Residue HOH het=W resseq=433 icode= >, <Residue HOH het=W resseq=434 icode= >, <Residue HOH het=W resseq=435 icode= >, <Residue HOH het=W resseq=436 icode= >, <Residue HOH het=W resseq=437 icode= >, <Residue HOH het=W resseq=438 icode= >, <Residue HOH het=W resseq=439 icode= >, <Residue HOH het=W resseq=440 icode= >, <Residue HOH het=W resseq=441 icode= >, <Residue HOH het=W resseq=442 icode= >, <Residue HOH het=W resseq=443 icode= >, <Residue HOH het=W resseq=444 icode= >, <Residue HOH het=W resseq=445 icode= >, <Residue HOH het=W resseq=446 icode= >, <Residue HOH het=W resseq=447 icode= >, <Residue HOH het=W resseq=448 icode= >, <Residue HOH het=W resseq=449 icode= >, <Residue HOH het=W resseq=450 icode= >, <Residue HOH het=W resseq=451 icode= >, <Residue HOH het=W resseq=452 icode= >, <Residue HOH het=W resseq=453 icode= >, <Residue HOH het=W resseq=454 icode= >, <Residue HOH het=W resseq=455 icode= >, <Residue HOH het=W resseq=456 icode= >, <Residue HOH het=W resseq=457 icode= >, <Residue HOH het=W resseq=458 icode= >, <Residue HOH het=W resseq=459 icode= >, <Residue HOH het=W resseq=460 icode= >, <Residue HOH het=W resseq=461 icode= >, <Residue HOH het=W resseq=462 icode= >, <Residue HOH het=W resseq=463 icode= >, <Residue HOH het=W resseq=464 icode= >, <Residue HOH het=W resseq=465 icode= >, <Residue HOH het=W resseq=466 icode= >, <Residue HOH het=W resseq=467 icode= >, <Residue HOH het=W resseq=468 icode= >, <Residue HOH het=W resseq=469 icode= >, <Residue HOH het=W resseq=470 icode= >, <Residue HOH het=W resseq=471 icode= >, <Residue HOH het=W resseq=472 icode= >, <Residue HOH het=W resseq=473 icode= >, <Residue HOH het=W resseq=474 icode= >, <Residue HOH het=W resseq=475 icode= >, <Residue HOH het=W resseq=476 icode= >, <Residue HOH het=W resseq=477 icode= >, <Residue HOH het=W resseq=478 icode= >, <Residue HOH het=W resseq=479 icode= >, <Residue HOH het=W resseq=480 icode= >, <Residue HOH het=W resseq=481 icode= >, <Residue HOH het=W resseq=482 icode= >, <Residue HOH het=W resseq=483 icode= >, <Residue HOH het=W resseq=484 icode= >, <Residue HOH het=W resseq=485 icode= >, <Residue HOH het=W resseq=486 icode= >, <Residue HOH het=W resseq=487 icode= >, <Residue HOH het=W resseq=488 icode= >, <Residue HOH het=W resseq=489 icode= >, <Residue HOH het=W resseq=490 icode= >, <Residue HOH het=W resseq=491 icode= >, <Residue HOH het=W resseq=492 icode= >, <Residue HOH het=W resseq=493 icode= >, <Residue HOH het=W resseq=494 icode= >, <Residue HOH het=W resseq=495 icode= >, <Residue HOH het=W resseq=496 icode= >, <Residue HOH het=W resseq=497 icode= >, <Residue HOH het=W resseq=498 icode= >, <Residue HOH het=W resseq=499 icode= >, <Residue HOH het=W resseq=500 icode= >, <Residue HOH het=W resseq=501 icode= >, <Residue HOH het=W resseq=502 icode= >, <Residue HOH het=W resseq=503 icode= >, <Residue HOH het=W resseq=504 icode= >, <Residue HOH het=W resseq=505 icode= >, <Residue HOH het=W resseq=506 icode= >, <Residue HOH het=W resseq=507 icode= >, <Residue HOH het=W resseq=508 icode= >, <Residue HOH het=W resseq=509 icode= >, <Residue HOH het=W resseq=510 icode= >, <Residue HOH het=W resseq=511 icode= >, <Residue HOH het=W resseq=512 icode= >, <Residue HOH het=W resseq=513 icode= >, <Residue HOH het=W resseq=514 icode= >, <Residue HOH het=W resseq=515 icode= >, <Residue HOH het=W resseq=516 icode= >, <Residue HOH het=W resseq=517 icode= >, <Residue HOH het=W resseq=518 icode= >, <Residue HOH het=W resseq=519 icode= >, <Residue HOH het=W resseq=520 icode= >, <Residue HOH het=W resseq=521 icode= >, <Residue HOH het=W resseq=522 icode= >, <Residue HOH het=W resseq=523 icode= >, <Residue HOH het=W resseq=524 icode= >, <Residue HOH het=W resseq=525 icode= >, <Residue HOH het=W resseq=526 icode= >, <Residue HOH het=W resseq=527 icode= >, <Residue HOH het=W resseq=528 icode= >, <Residue HOH het=W resseq=529 icode= >, <Residue HOH het=W resseq=530 icode= >, <Residue HOH het=W resseq=531 icode= >, <Residue HOH het=W resseq=532 icode= >, <Residue HOH het=W resseq=533 icode= >, <Residue HOH het=W resseq=534 icode= >, <Residue HOH het=W resseq=535 icode= >, <Residue HOH het=W resseq=536 icode= >, <Residue HOH het=W resseq=537 icode= >, <Residue HOH het=W resseq=538 icode= >, <Residue HOH het=W resseq=539 icode= >, <Residue HOH het=W resseq=540 icode= >, <Residue HOH het=W resseq=541 icode= >, <Residue HOH het=W resseq=542 icode= >, <Residue HOH het=W resseq=543 icode= >, <Residue HOH het=W resseq=544 icode= >, <Residue HOH het=W resseq=545 icode= >, <Residue HOH het=W resseq=546 icode= >, <Residue HOH het=W resseq=547 icode= >, <Residue HOH het=W resseq=548 icode= >, <Residue HOH het=W resseq=549 icode= >, <Residue HOH het=W resseq=550 icode= >, <Residue HOH het=W resseq=551 icode= >, <Residue HOH het=W resseq=552 icode= >, <Residue HOH het=W resseq=553 icode= >, <Residue HOH het=W resseq=554 icode= >, <Residue HOH het=W resseq=555 icode= >, <Residue HOH het=W resseq=556 icode= >, <Residue HOH het=W resseq=557 icode= >, <Residue HOH het=W resseq=558 icode= >, <Residue HOH het=W resseq=559 icode= >, <Residue HOH het=W resseq=560 icode= >, <Residue HOH het=W resseq=561 icode= >, <Residue HOH het=W resseq=562 icode= >, <Residue HOH het=W resseq=563 icode= >, <Residue HOH het=W resseq=564 icode= >, <Residue HOH het=W resseq=565 icode= >, <Residue HOH het=W resseq=566 icode= >, <Residue HOH het=W resseq=567 icode= >, <Residue HOH het=W resseq=568 icode= >, <Residue HOH het=W resseq=569 icode= >, <Residue HOH het=W resseq=570 icode= >, <Residue HOH het=W resseq=571 icode= >, <Residue HOH het=W resseq=572 icode= >, <Residue HOH het=W resseq=573 icode= >, <Residue HOH het=W resseq=574 icode= >, <Residue HOH het=W resseq=575 icode= >, <Residue HOH het=W resseq=576 icode= >, <Residue HOH het=W resseq=577 icode= >, <Residue HOH het=W resseq=578 icode= >, <Residue HOH het=W resseq=579 icode= >, <Residue HOH het=W resseq=580 icode= >, <Residue HOH het=W resseq=581 icode= >, <Residue HOH het=W resseq=582 icode= >, <Residue HOH het=W resseq=583 icode= >, <Residue HOH het=W resseq=584 icode= >, <Residue HOH het=W resseq=585 icode= >, <Residue HOH het=W resseq=586 icode= >, <Residue HOH het=W resseq=587 icode= >, <Residue HOH het=W resseq=588 icode= >, <Residue HOH het=W resseq=589 icode= >, <Residue HOH het=W resseq=590 icode= >, <Residue HOH het=W resseq=591 icode= >, <Residue HOH het=W resseq=592 icode= >, <Residue HOH het=W resseq=593 icode= >, <Residue HOH het=W resseq=594 icode= >, <Residue HOH het=W resseq=595 icode= >, <Residue HOH het=W resseq=596 icode= >, <Residue HOH het=W resseq=597 icode= >, <Residue HOH het=W resseq=598 icode= >, <Residue HOH het=W resseq=599 icode= >, <Residue HOH het=W resseq=600 icode= >, <Residue HOH het=W resseq=601 icode= >, <Residue HOH het=W resseq=602 icode= >, <Residue HOH het=W resseq=603 icode= >, <Residue HOH het=W resseq=604 icode= >, <Residue HOH het=W resseq=605 icode= >, <Residue HOH het=W resseq=606 icode= >, <Residue HOH het=W resseq=607 icode= >, <Residue HOH het=W resseq=608 icode= >, <Residue HOH het=W resseq=609 icode= >, <Residue HOH het=W resseq=610 icode= >, <Residue HOH het=W resseq=611 icode= >, <Residue HOH het=W resseq=612 icode= >, <Residue HOH het=W resseq=613 icode= >, <Residue HOH het=W resseq=614 icode= >, <Residue HOH het=W resseq=615 icode= >, <Residue HOH het=W resseq=616 icode= >, <Residue HOH het=W resseq=617 icode= >, <Residue HOH het=W resseq=618 icode= >, <Residue HOH het=W resseq=619 icode= >, <Residue HOH het=W resseq=620 icode= >, <Residue HOH het=W resseq=621 icode= >, <Residue HOH het=W resseq=622 icode= >, <Residue HOH het=W resseq=623 icode= >, <Residue HOH het=W resseq=624 icode= >, <Residue HOH het=W resseq=625 icode= >, <Residue HOH het=W resseq=626 icode= >, <Residue HOH het=W resseq=627 icode= >, <Residue HOH het=W resseq=628 icode= >, <Residue HOH het=W resseq=629 icode= >, <Residue HOH het=W resseq=630 icode= >, <Residue HOH het=W resseq=631 icode= >, <Residue HOH het=W resseq=632 icode= >, <Residue HOH het=W resseq=633 icode= >, <Residue HOH het=W resseq=634 icode= >, <Residue HOH het=W resseq=635 icode= >, <Residue HOH het=W resseq=636 icode= >, <Residue HOH het=W resseq=637 icode= >, <Residue HOH het=W resseq=638 icode= >, <Residue HOH het=W resseq=639 icode= >, <Residue HOH het=W resseq=640 icode= >]\n",
      "---------- RESIDUE INFO ----------\n",
      "Full ID: ('7alh', 0, 'A', (' ', 1, ' '))\n",
      "ID: (' ', 1, ' ')\n",
      "SER\n",
      "SER\n",
      "[<Atom N>, <Atom CA>, <Atom C>, <Atom O>, <Atom CB>, <Atom OG>, <Atom H1>, <Atom H2>, <Atom H3>, <Atom HA>, <Atom HB2>, <Atom HB3>, <Atom HG>]\n",
      "---------- ATOM INFO ----------\n",
      "Full ID: ('7alh', 0, 'A', (' ', 1, ' '), ('CA', ' '))\n",
      "ID: CA\n",
      "CA\n",
      "CA\n",
      "[ -1.88186 -21.36393  38.35414]\n",
      "CA\n",
      "<Vector -1.88, -21.36, 38.35>\n"
     ]
    }
   ],
   "source": [
    "print(structure.get_list())\n",
    "\n",
    "print('---------- MODEL INFO ----------')\n",
    "\n",
    "model = structure[0]\n",
    "print(\"Full ID: {}\\nID: {}\".format(model.get_full_id(), model.get_id()))\n",
    "print(model.get_list())\n",
    "\n",
    "print('---------- CHAIN INFO ----------')\n",
    "chain = model['A']\n",
    "print(\"Full ID: {}\\nID: {}\".format(chain.get_full_id(), chain.get_id()))\n",
    "print(chain.get_list())\n",
    "\n",
    "print('---------- RESIDUE INFO ----------')\n",
    "res = chain[(' ',1,' ')]\n",
    "print(\"Full ID: {}\\nID: {}\".format(res.get_full_id(), res.get_id()))\n",
    "print(res.get_resname())\n",
    "res = chain[1]\n",
    "print(res.get_resname())\n",
    "\n",
    "print(res.get_list())\n",
    "print('---------- ATOM INFO ----------')\n",
    "atom=res['CA']\n",
    "print(\"Full ID: {}\\nID: {}\".format(atom.get_full_id(), atom.get_id()))\n",
    "print(\"{}\\n{}\\n{}\\n{}\".format(atom.get_name(), atom.get_id(), atom.get_coord(), atom.get_fullname()))\n",
    "print(atom.get_vector())\n"
   ]
  },
  {
   "cell_type": "markdown",
   "id": "aac2e98b",
   "metadata": {},
   "source": [
    "To download a file from PDB, one can use the PDBList module."
   ]
  },
  {
   "cell_type": "code",
   "execution_count": 28,
   "id": "bc8ca76f",
   "metadata": {
    "scrolled": true
   },
   "outputs": [
    {
     "name": "stdout",
     "output_type": "stream",
     "text": [
      "Structure exists: '.\\7lkr.cif' \n"
     ]
    }
   ],
   "source": [
    "from Bio.PDB.PDBList import PDBList\n",
    "pdbl = PDBList()\n",
    "pbl_7lkr=pdbl.retrieve_pdb_file(\"7LKR\", file_format=\"mmCif\", pdir=\".\")"
   ]
  },
  {
   "cell_type": "code",
   "execution_count": 29,
   "id": "e674be0e",
   "metadata": {},
   "outputs": [
    {
     "name": "stderr",
     "output_type": "stream",
     "text": [
      "c:\\python39\\lib\\site-packages\\Bio\\PDB\\StructureBuilder.py:89: PDBConstructionWarning: WARNING: Chain A is discontinuous at line 4467.\n",
      "  warnings.warn(\n",
      "c:\\python39\\lib\\site-packages\\Bio\\PDB\\StructureBuilder.py:89: PDBConstructionWarning: WARNING: Chain B is discontinuous at line 4531.\n",
      "  warnings.warn(\n",
      "c:\\python39\\lib\\site-packages\\Bio\\PDB\\StructureBuilder.py:89: PDBConstructionWarning: WARNING: Chain A is discontinuous at line 4608.\n",
      "  warnings.warn(\n",
      "c:\\python39\\lib\\site-packages\\Bio\\PDB\\StructureBuilder.py:89: PDBConstructionWarning: WARNING: Chain B is discontinuous at line 4774.\n",
      "  warnings.warn(\n"
     ]
    }
   ],
   "source": [
    "from Bio.PDB.MMCIFParser import MMCIFParser\n",
    "parser = MMCIFParser()\n",
    "structure = parser.get_structure(\"7lkr\", \"7lkr.cif\")"
   ]
  },
  {
   "cell_type": "markdown",
   "id": "d77eb087",
   "metadata": {},
   "source": [
    "Tasks:\n",
    "- Iterate over all atoms of the structure\n",
    "- List all water residues (the first field of the residue id is 'W')\n",
    "- How many water molecules is in the recrod?\n",
    "- How many heteroatoms are there in the recod (the first field of the residue id is 'H').\n",
    "- Find a structure in PDB with at least one ligand (different from water) and write a code which lists all the ligands."
   ]
  }
 ],
 "metadata": {
  "kernelspec": {
   "display_name": "Python 3 (ipykernel)",
   "language": "python",
   "name": "python3"
  },
  "language_info": {
   "codemirror_mode": {
    "name": "ipython",
    "version": 3
   },
   "file_extension": ".py",
   "mimetype": "text/x-python",
   "name": "python",
   "nbconvert_exporter": "python",
   "pygments_lexer": "ipython3",
   "version": "3.9.5"
  }
 },
 "nbformat": 4,
 "nbformat_minor": 5
}
