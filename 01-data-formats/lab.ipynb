{
 "cells": [
  {
   "cell_type": "markdown",
   "id": "36742810",
   "metadata": {},
   "source": [
    "# Labs - Biopython and data formats\n",
    "\n",
    "## Outline\n",
    "\n",
    "- Managing dependencies in Python with environments\n",
    "- Biopython \n",
    "    - Sequences (parsing, representation, manipulation)\n",
    "    - Structures (parsing, representation, manipulation)\n",
    "\n",
    "### 1. Python environments\n",
    "\n",
    "- handles issues with dependencies versions\n",
    "- ensures reproducibility\n",
    "- does not clutter users' global site-packages directory\n",
    "\n",
    "`python3 -m venv venv/       # Creates an environment called venv/`\n",
    "\n",
    "`source venv/bin/activate`\n",
    "\n",
    "`pip install biopython`\n",
    "\n",
    "`pip freeze > requirements.txt`\n",
    "\n",
    "`(venv) % deactivate`\n",
    "\n",
    "On a different machine, the environment can be replicated by creating a new environment and running\n",
    "\n",
    "`pip install -r requirements.txt`\n",
    "\n",
    "### 2. Biopython\n",
    "\n",
    "Biopython is a library consisting of tools for both sequence and structure bioinformatics. Among other things it enables parsing, handling and storing molecular data present in common formats such as FASTA, PDB or mmCIF.\n",
    "\n",
    "Install biopython using `pip install biopython`\n",
    "\n",
    "Functionality divided into packages, list of which is available in the [docs](https://biopython.org/docs/latest/api/Bio.html). \n",
    "\n",
    "Main sequence and structure packages:\n",
    " - [Bio.Seq](https://biopython.org/docs/latest/api/Bio.Seq.html)\n",
    " - [Bio.Align](https://biopython.org/docs/latest/api/Bio.Align.html) \n",
    " - [Bio.SeqIO](https://biopython.org/docs/latest/api/Bio.SeqIO.html)\n",
    " - [Bio.PDB](https://biopython.org/docs/latest/api/Bio.PDB.html) \n",
    " "
   ]
  },
  {
   "cell_type": "markdown",
   "id": "76c2b925",
   "metadata": {},
   "source": [
    " \n",
    "#### Sequences \n",
    " \n",
    " Loading a sequence from a string: "
   ]
  },
  {
   "cell_type": "code",
   "execution_count": null,
   "id": "124d529c",
   "metadata": {},
   "outputs": [],
   "source": [
    "from Bio.Seq import Seq\n",
    "seq = Seq(\"AGTACACTG\")\n",
    "print(seq)"
   ]
  },
  {
   "cell_type": "markdown",
   "id": "5bb901fb",
   "metadata": {},
   "source": [
    "This creates a [sequence object](https://biopython.org/docs/latest/api/Bio.Seq.html) with a couple of fancy methods, especially when it comes to nuclotide sequences, such as `reverse_complement` or `translate`."
   ]
  },
  {
   "cell_type": "code",
   "execution_count": null,
   "id": "61c30fdc",
   "metadata": {},
   "outputs": [],
   "source": [
    "print(seq)\n",
    "print(seq.translate())\n",
    "print(seq.reverse_complement())\n",
    "print(seq.reverse_complement().transcribe())\n",
    "print(seq.reverse_complement().translate())\n",
    "print(seq.reverse_complement().transcribe().translate())"
   ]
  },
  {
   "cell_type": "code",
   "execution_count": null,
   "id": "cc4d7807",
   "metadata": {},
   "outputs": [],
   "source": [
    "coding_dna = Seq(\"ATGGCCATTGTAATGGGCCGCTGAAAGGGTGCCCGATAG\")\n",
    "print(coding_dna.translate())\n",
    "print(coding_dna.translate(to_stop=True))\n",
    "print(coding_dna.translate(table=2))\n",
    "print(coding_dna.translate(table=2, to_stop=True))"
   ]
  },
  {
   "cell_type": "markdown",
   "id": "21a88c4f",
   "metadata": {},
   "source": [
    "Notice, in the example above we used different genetic tables. Check [NCBI genetic codes](https://www.ncbi.nlm.nih.gov/Taxonomy/Utils/wprintgc.cgi) for details.\n",
    "\n",
    "To list all the methods, run, e.g., one of the following:"
   ]
  },
  {
   "cell_type": "code",
   "execution_count": null,
   "id": "beb88d44",
   "metadata": {},
   "outputs": [],
   "source": [
    "print(dir(seq))\n",
    "print(help(seq))"
   ]
  },
  {
   "cell_type": "markdown",
   "id": "d5838b2e",
   "metadata": {},
   "source": [
    "Subscripting methods are available as well."
   ]
  },
  {
   "cell_type": "code",
   "execution_count": null,
   "id": "e4b0661b",
   "metadata": {
    "scrolled": true
   },
   "outputs": [],
   "source": [
    "print(seq[3])\n",
    "print(seq[3:5])\n",
    "print(seq[::-1])"
   ]
  },
  {
   "cell_type": "markdown",
   "id": "ae0a6c41",
   "metadata": {},
   "source": [
    "If needed, the `Seq` object can be converted into a string."
   ]
  },
  {
   "cell_type": "code",
   "execution_count": null,
   "id": "481041b7",
   "metadata": {
    "scrolled": true
   },
   "outputs": [],
   "source": [
    "print(str(seq))\n",
    "print(str(seq).translate({65: 88}))\n",
    "print(str(seq).replace('A', 'X'))"
   ]
  },
  {
   "cell_type": "markdown",
   "id": "86986b39",
   "metadata": {},
   "source": [
    "To parse sequence from a file, you can use [Bio.SeqIO](https://biopython.org/docs/latest/api/Bio.SeqIO.html). [Here](https://biopython.org/wiki/SeqIO#file-formats) is the list of supported formats. The format name is passed into the `parse` method."
   ]
  },
  {
   "cell_type": "code",
   "execution_count": null,
   "id": "fc17acba",
   "metadata": {},
   "outputs": [],
   "source": [
    "from Bio import SeqIO\n",
    "\n",
    "sars2_it = SeqIO.parse(\"R1A-B_SARS2.fasta\", \"fasta\")\n",
    "for seq_record in sars2_it:    \n",
    "    print(seq_record.id)\n",
    "    print(repr(seq_record.seq))\n",
    "    print(len(seq_record))\n",
    "sars2_seq_recs = list(sars2_it)"
   ]
  },
  {
   "cell_type": "markdown",
   "id": "46282c4c",
   "metadata": {},
   "source": [
    "The result is an iterator of [SeqRecord](https://biopython.org/docs/latest/api/Bio.SeqRecord.html)s. Other attributes of `SeqRecord` such as features or annotations are more relevant for other formats, such as genbank. The underlying gene for the two isoforms (R1A_SARS2/P0DTC1 and R1AB_SARS2/P0DTD1) is ORF1ab and the two isoforms are caused by ribosomal slippage during translation (see, e.g., [here](https://www.science.org/doi/full/10.1126/science.abf3546)). Both reading frames R1A_SARS2 and R1AB_SARS2 are polyproteins and are encoded by the same [gene](https://www.ncbi.nlm.nih.gov/gene/43740578). Let's explore this."
   ]
  },
  {
   "cell_type": "code",
   "execution_count": null,
   "id": "502a7c6f",
   "metadata": {
    "scrolled": true
   },
   "outputs": [],
   "source": [
    "gb_rec = list(SeqIO.parse(\"NC_045512.gb\", \"genbank\"))[0]\n",
    "print(gb_rec.id)"
   ]
  },
  {
   "cell_type": "code",
   "execution_count": null,
   "id": "934399c5",
   "metadata": {
    "scrolled": true
   },
   "outputs": [],
   "source": [
    "print(gb_rec.annotations)\n",
    "print(gb_rec.features)"
   ]
  },
  {
   "cell_type": "markdown",
   "id": "13332305",
   "metadata": {},
   "source": [
    "Let's obtain all CDS (coding sequence) features."
   ]
  },
  {
   "cell_type": "code",
   "execution_count": null,
   "id": "d7512a84",
   "metadata": {},
   "outputs": [],
   "source": [
    "cds = [seq_feature for seq_feature in gb_rec.features if seq_feature.type == 'CDS']"
   ]
  },
  {
   "cell_type": "code",
   "execution_count": null,
   "id": "8acaa1b9",
   "metadata": {},
   "outputs": [],
   "source": [
    "cds"
   ]
  },
  {
   "cell_type": "code",
   "execution_count": null,
   "id": "70edfa5c",
   "metadata": {},
   "outputs": [],
   "source": [
    "print(dir(cds[1]))"
   ]
  },
  {
   "cell_type": "code",
   "execution_count": null,
   "id": "19127aa9",
   "metadata": {},
   "outputs": [],
   "source": [
    "import json\n",
    "print(json.dumps(cds[1].qualifiers, indent=3))"
   ]
  },
  {
   "cell_type": "code",
   "execution_count": null,
   "id": "43be2797",
   "metadata": {},
   "outputs": [],
   "source": [
    "cds[1].extract(gb_rec.seq).translate()"
   ]
  },
  {
   "cell_type": "markdown",
   "id": "2cc539a2",
   "metadata": {},
   "source": [
    "Now, let's get the DNA sequence for the the polyprotein 1ab."
   ]
  },
  {
   "cell_type": "code",
   "execution_count": null,
   "id": "43a978f1",
   "metadata": {},
   "outputs": [],
   "source": [
    "aa_seq = cds[0].extract(gb_rec.seq).translate()\n",
    "print(aa_seq[:10])\n",
    "print(gb_rec.seq[265:].translate()[:10])"
   ]
  },
  {
   "cell_type": "markdown",
   "id": "3d17e0f0",
   "metadata": {},
   "source": [
    "To write a sequence into a file, use `SeqIO.write`."
   ]
  },
  {
   "cell_type": "code",
   "execution_count": null,
   "id": "b1008aec",
   "metadata": {},
   "outputs": [],
   "source": [
    "SeqIO.write([gb_rec, SeqIO.SeqRecord(aa_seq, id=\"id\", description=\"aa\")], \"fasta_from_gb.fasta\", \"fasta\")"
   ]
  },
  {
   "cell_type": "markdown",
   "id": "eaac927e",
   "metadata": {},
   "source": [
    "### ---- Begin Exercise ----\n",
    "\n",
    "- Obtain the protein sequnece for polyprotein 1ab. Check with UniProt that it matches (just by eyeballing).\n",
    "- Obtain the protein sequence for the polyprotein 1a.\n",
    "- Obtain protein sequences for all the proteins in p1a and list them together with their names\n",
    "\n",
    "The result should look something like:\n",
    "\n",
    "```\n",
    "['YP_009725297.1']: MESLVPGFNEKTHVQLSLPVLQVRDVLVRGFGDSVEEVLSEARQHLKDGTCGLVEVEKGVLPQLEQPYVFIKRSDARTAPHGHVMVELVAELEGIQYGRSGETLGVLVPHVGEIPVAYRKVLLRKNGNKGAGGHSYGADLKSFDLGDELGTDPYEDFQENWNTKHSSGVTRELMRELNGG\n",
    "['YP_009725298.1']: AYTRYVDNNFCGPDGYPLECIKDLLARAGKASCTLSEQLDFIDTKRGVYCCREHEHEIAWYTERSEKSYELQTPFEIKLAKKFDTFNGECPNFVFPLNSIIKTIQPRVEKKKLDGFMGRIRSVYPVASPNECNQMCLSTLMKCDHCGETSWQTGDFVKATCEFCGTENLTKEGATTCGYLPQNAVVKIYCPACHNSEVGPEHSLAEYHNESGLKTILRKGGRTIAFGGCVFSYVGCHNKCAYWVPRASANIGCNHTGVVGEGSEGLNDNLLEILQKEKVNINIVGDFKLNEEIAIILASFSASTSAFVETVKGLDYKAFKQIVESCGNFKVTKGKAKKGAWNIGEQKSILSPLYAFASEAARVVRSIFSRTLETAQNSVRVLQKAAITILDGISQYSLRLIDAMMFTSDLATNNLVVMAYITGGVVQLTSQWLTNIFGTVYEKLKPVLDWLEEKFKEGVEFLRDGWEIVKFISTCACEIVGGQIVTCAKEIKESVQTFFKLVNKFLALCADSIIIGGAKLKALNLGETFVTHSKGLYRKCVKSREETGLLMPLKAPKEIIFLEGETLPTEVLTEEVVLKTGDLQPLEQPTSEAVEAPLVGTPVCINGLMLLEIKDTEKYCALAPNMMVTNNTFTLKGG\n",
    "...\n",
    "```\n",
    "\n",
    "\n",
    "### ---- End Exercise ----"
   ]
  },
  {
   "cell_type": "markdown",
   "id": "e9f1ea87",
   "metadata": {},
   "source": [
    "#### Structures\n",
    "Structure processing is handled by the [Bio.PDB](https://biopython.org/docs/latest/api/Bio.PDB.html) package.\n",
    "\n",
    "To read a structure from a PDB file, use the `PDBParser`. We will be using the 3C-like protease protein, which is one of the processed proteins present in the ORF1a discussed above. One of it's structures is [7ALH](https://www.ebi.ac.uk/pdbe/entry/pdb/7alh). To see all the structures, I suggest checking out the PDBe-KB page for [P0DTD1](https://www.ebi.ac.uk/pdbe/pdbe-kb/proteins/P0DTD1)."
   ]
  },
  {
   "cell_type": "code",
   "execution_count": null,
   "id": "8b113320",
   "metadata": {},
   "outputs": [],
   "source": [
    "from Bio.PDB.PDBParser import PDBParser\n",
    "parser = PDBParser(PERMISSIVE=1)\n",
    "structure = parser.get_structure(\"7alh\", \"7alh.ent\")"
   ]
  },
  {
   "cell_type": "markdown",
   "id": "cdcc527d",
   "metadata": {},
   "source": [
    "As the PDB format is considered deprecated, one should use the mmCIF file instead. This is done the same way as in case of PDB files."
   ]
  },
  {
   "cell_type": "code",
   "execution_count": null,
   "id": "035719e1",
   "metadata": {},
   "outputs": [],
   "source": [
    "from Bio.PDB.MMCIFParser import MMCIFParser\n",
    "parser = MMCIFParser()\n",
    "structure = parser.get_structure(\"7alh\", \"7alh.cif\")"
   ]
  },
  {
   "cell_type": "markdown",
   "id": "81e46624",
   "metadata": {},
   "source": [
    "To retrieve the individual CIF dictionary fields, one can use the `MMCIF2Dict` module."
   ]
  },
  {
   "cell_type": "code",
   "execution_count": null,
   "id": "ffb0783d",
   "metadata": {},
   "outputs": [],
   "source": [
    "from Bio.PDB.MMCIFParser import MMCIF2Dict\n",
    "mmcif_dict = MMCIF2Dict(\"7alh.cif\")\n",
    "print(mmcif_dict[\"_citation.title\"])"
   ]
  },
  {
   "cell_type": "markdown",
   "id": "95676e70",
   "metadata": {},
   "source": [
    "The structure record has the structure->model->chain->residue architecture.\n",
    "\n",
    "![SMRCA](https://biopython.org/docs/latest/_images/smcra.png)"
   ]
  },
  {
   "cell_type": "markdown",
   "id": "5852f822",
   "metadata": {},
   "source": [
    "Each of the levels in the hierarchy is represented by a submodule in Bio.PDB, namely [Bio.Structure](https://biopython.org/docs/latest/api/Bio.PDB.Structure.html), [Bio.Model](https://biopython.org/docs/latest/api/Bio.PDB.Model.html),[Bio.Chain](https://biopython.org/docs/latest/api/Bio.PDB.Chain.html),[Bio.Residue](https://biopython.org/docs/latest/api/Bio.PDB.Residue.html) and [Bio.Atom](https://biopython.org/docs/latest/api/Bio.PDB.Atom.html). For details regarding IDs, check the [section on ID](https://biopython.org/docs/1.75/api/Bio.PDB.Entity.html#Bio.PDB.Entity.Entity.get_full_id) of the Entity class which is the superclass of the Module/Chain/Residue/Atom classes."
   ]
  },
  {
   "cell_type": "code",
   "execution_count": null,
   "id": "ef0acb71",
   "metadata": {},
   "outputs": [],
   "source": [
    "print(structure.get_list())"
   ]
  },
  {
   "cell_type": "code",
   "execution_count": null,
   "id": "7c898788",
   "metadata": {},
   "outputs": [],
   "source": [
    "print('---------- MODEL INFO ----------')\n",
    "\n",
    "model = structure[0]\n",
    "print(f\"Full ID: {model.get_full_id()}\\nID: {model.get_id()}\")\n",
    "print(model.get_list())"
   ]
  },
  {
   "cell_type": "code",
   "execution_count": null,
   "id": "452cb4af",
   "metadata": {},
   "outputs": [],
   "source": [
    "print('---------- CHAIN INFO ----------')\n",
    "chain = model['A']\n",
    "print(f\"Full ID: {chain.get_full_id()}\\nID: {chain.get_id()}\")\n",
    "print(chain.get_list())"
   ]
  },
  {
   "cell_type": "code",
   "execution_count": null,
   "id": "538b0b8d",
   "metadata": {},
   "outputs": [],
   "source": [
    "print('---------- RESIDUE INFO ----------')\n",
    "res = chain[(' ',1,' ')]\n",
    "print(f\"Full ID: {res.get_full_id()}\\nID: {res.get_id()}\")\n",
    "print(res.get_resname())\n",
    "res = chain[1]\n",
    "print(res.get_resname())"
   ]
  },
  {
   "cell_type": "markdown",
   "id": "b0e7934b",
   "metadata": {},
   "source": [
    "In the above script, notice that the residue ID is a triplet where the first position stores the residue type ('H' for hetero atoms, 'W' for water and ' ' for everything else), the second its number and the last position is the insertion code."
   ]
  },
  {
   "cell_type": "code",
   "execution_count": null,
   "id": "bf3cac2c",
   "metadata": {
    "scrolled": false
   },
   "outputs": [],
   "source": [
    "print('---------- ATOM INFO ----------')\n",
    "atom=res['CA']\n",
    "print(f\"Full ID: {atom.get_full_id()}\\nID: {atom.get_id()}\")\n",
    "print(f\"{atom.get_name()}\\n{atom.get_id()}\\n{atom.get_coord()}\\n{atom.get_fullname()}\")\n",
    "print(atom.get_vector())\n"
   ]
  },
  {
   "cell_type": "markdown",
   "id": "aac2e98b",
   "metadata": {},
   "source": [
    "To download a file from PDB, one can use the PDBList module."
   ]
  },
  {
   "cell_type": "code",
   "execution_count": null,
   "id": "bc8ca76f",
   "metadata": {
    "scrolled": true
   },
   "outputs": [],
   "source": [
    "from Bio.PDB.PDBList import PDBList\n",
    "pdbl = PDBList()\n",
    "pbl_7lkr=pdbl.retrieve_pdb_file(\"7LKR\", file_format=\"mmCif\", pdir=\".\")"
   ]
  },
  {
   "cell_type": "code",
   "execution_count": null,
   "id": "e674be0e",
   "metadata": {},
   "outputs": [],
   "source": [
    "from Bio.PDB.MMCIFParser import MMCIFParser\n",
    "parser = MMCIFParser()\n",
    "structure = parser.get_structure(\"7lkr\", \"7lkr.cif\")"
   ]
  },
  {
   "cell_type": "markdown",
   "id": "d77eb087",
   "metadata": {},
   "source": [
    "### ---- Begin Exercise ----\n",
    "\n",
    "- Iterate over all atoms of the structure\n",
    "- List all water residues (the first field of the residue id is 'W')\n",
    "- How many water molecules are in the recrod?\n",
    "- How many heteroatoms are there in the recod (the first field of the residue id is 'H').\n",
    "- Find a structure in PDB with at least one ligand (different from water) and write a code which lists all the ligands. (All such ligand can be found in `HETNAM` sections in PDB and in `_chem_comp.id` records in mmCIF).\n",
    "\n",
    "### ---- End Exercise ----"
   ]
  }
 ],
 "metadata": {
  "kernelspec": {
   "display_name": "Python 3",
   "language": "python",
   "name": "python3"
  },
  "language_info": {
   "codemirror_mode": {
    "name": "ipython",
    "version": 3
   },
   "file_extension": ".py",
   "mimetype": "text/x-python",
   "name": "python",
   "nbconvert_exporter": "python",
   "pygments_lexer": "ipython3",
   "version": "3.13.2"
  }
 },
 "nbformat": 4,
 "nbformat_minor": 5
}
