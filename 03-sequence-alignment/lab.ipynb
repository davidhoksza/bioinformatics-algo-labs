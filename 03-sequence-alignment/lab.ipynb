{
 "cells": [
  {
   "cell_type": "markdown",
   "id": "a00e8710",
   "metadata": {},
   "source": [
    "# Sequence alignment in BioPython\n",
    "\n",
    "In this labs, we will introduce BioPython facilities to build, parse, and store alignments, both pairwise and multiple. \n",
    "\n",
    "## Sequence alignment I/O\n",
    "\n",
    "Before looking into how to compute an alignment, let's have a look into BioPython routines for manipulation of existing alignments. This comes handy when processing (multiple) sequence alignments comming from resources such as [Pfam](http://pfam-legacy.xfam.org/)."
   ]
  },
  {
   "cell_type": "markdown",
   "id": "2bb2b12e",
   "metadata": {},
   "source": [
    "### Read alignment\n",
    "\n",
    "To manipulate sequence alignment, BioPython features the [Bio.AlignIO](https://biopython.org/docs/1.75/api/Bio.AlignIO.html) package with methods to read a single alignment (`Bio.AlignIO.read()`) or multiple alignments (`Bio.AlignIO.parse()`). `read` returns a single [MultipleSeqAlignment](https://biopython.org/docs/1.75/api/Bio.Align.html#Bio.Align.MultipleSeqAlignment) object while `parse` returns an iterator over `MultipleSeqAlignment` objects. Both methods accept a file hande (or path) and [format](https://biopython.org/docs/1.75/api/Bio.AlignIO.html#file-formats) of the alignment. For example the Pfam alignments are stored in the [Stockholm file format](https://en.wikipedia.org/wiki/Stockholm_format). Let's read in the Coronavirus spike glycoprotein S1 family MSA [PF01600](https://pfam.xfam.org/family/PF01600)."
   ]
  },
  {
   "cell_type": "code",
   "execution_count": null,
   "id": "a5adbf32",
   "metadata": {},
   "outputs": [],
   "source": [
    "from Bio import AlignIO\n",
    "alignment = AlignIO.read(\"{}/PF01600_full.sto\".format('data'), \"stockholm\")\n",
    "print(alignment)"
   ]
  },
  {
   "cell_type": "markdown",
   "id": "f0983104",
   "metadata": {},
   "source": [
    "We can iterate over the records in the alignment, obtaining the individual sequences as `SeqRecord`s (see the first lab for details on `SeqRecord`)."
   ]
  },
  {
   "cell_type": "code",
   "execution_count": null,
   "id": "af0013f8",
   "metadata": {
    "scrolled": false
   },
   "outputs": [],
   "source": [
    "for record in alignment:\n",
    "    print(record.letter_annotations)\n",
    "    print(f\"{record.id}\\n{record.dbxrefs}\\n{record.seq}\")   \n"
   ]
  },
  {
   "cell_type": "markdown",
   "id": "e73d34e9",
   "metadata": {},
   "source": [
    "We can also obtain column-level annotations, i.e. annotations which hold for all the sequences in the alignment. "
   ]
  },
  {
   "cell_type": "code",
   "execution_count": null,
   "id": "28c7e97d",
   "metadata": {},
   "outputs": [],
   "source": [
    "for key in sorted(alignment.column_annotations.keys()):\n",
    "    print(\"{}: {}\\n\".format(key, alignment.column_annotations[key]))"
   ]
  },
  {
   "cell_type": "markdown",
   "id": "8a11914c",
   "metadata": {},
   "source": [
    "### Write alignment\n",
    "In order to serialize a `MultipleSeqAlignment` object, we need to call `Bio.AlignIO.write()` method and pass in the alignment object, path to the file and format."
   ]
  },
  {
   "cell_type": "code",
   "execution_count": null,
   "id": "21a82009",
   "metadata": {},
   "outputs": [],
   "source": [
    "AlignIO.write(alignment, 'PF01600_serialized.faa', 'fasta')"
   ]
  },
  {
   "cell_type": "markdown",
   "id": "c2a30dcd",
   "metadata": {},
   "source": [
    "We can also serialize the alignment directly with the print function."
   ]
  },
  {
   "cell_type": "code",
   "execution_count": null,
   "id": "23ca8913",
   "metadata": {},
   "outputs": [],
   "source": [
    "print(format(alignment, \"clustal\"))"
   ]
  },
  {
   "cell_type": "markdown",
   "id": "c4df06f0",
   "metadata": {},
   "source": [
    "### Manipulate alignment\n",
    "\n",
    "The `MultipleSeqAlignment` has several convenience method to both build and manipulate an existing alignment."
   ]
  },
  {
   "cell_type": "code",
   "execution_count": null,
   "id": "abb4e5af",
   "metadata": {},
   "outputs": [],
   "source": [
    "from Bio.Seq import Seq\n",
    "from Bio.SeqRecord import SeqRecord\n",
    "from Bio.Align import MultipleSeqAlignment\n",
    "a = SeqRecord(Seq(\"AAAACGT\"), id=\"Alpha\")\n",
    "b = SeqRecord(Seq(\"AAA-CGT\"), id=\"Beta\")\n",
    "c = SeqRecord(Seq(\"AAAAGGT\"), id=\"Gamma\")\n",
    "align = MultipleSeqAlignment([a, b, c],\n",
    "                             annotations={\"tool\": \"demo\"},\n",
    "                             column_annotations={\"stats\": \"CCCXCCC\"})"
   ]
  },
  {
   "cell_type": "code",
   "execution_count": null,
   "id": "07cff663",
   "metadata": {},
   "outputs": [],
   "source": [
    "print(list(align))\n",
    "print(len(align))\n",
    "print(align.annotations)\n",
    "print(align.column_annotations)"
   ]
  },
  {
   "cell_type": "markdown",
   "id": "fe68053d",
   "metadata": {},
   "source": [
    "To add a sequence to an existing alignemnt, we can use the `append` and `extend` mehtods (the sequence lenght must match the MSA length)."
   ]
  },
  {
   "cell_type": "code",
   "execution_count": null,
   "id": "80566893",
   "metadata": {},
   "outputs": [],
   "source": [
    "align.append(SeqRecord(Seq(\"--AAG-T\"), id=\"Delta\"))"
   ]
  },
  {
   "cell_type": "code",
   "execution_count": null,
   "id": "b895dc08",
   "metadata": {},
   "outputs": [],
   "source": [
    "list(align)"
   ]
  },
  {
   "cell_type": "markdown",
   "id": "151bc8d1",
   "metadata": {},
   "source": [
    "Alignment can be also extended column-wise:"
   ]
  },
  {
   "cell_type": "code",
   "execution_count": null,
   "id": "6e564141",
   "metadata": {},
   "outputs": [],
   "source": [
    "list(align + align)"
   ]
  },
  {
   "cell_type": "markdown",
   "id": "fb0d4e6c",
   "metadata": {},
   "source": [
    "It is possible to slice the alignment both column and row-wise."
   ]
  },
  {
   "cell_type": "code",
   "execution_count": null,
   "id": "d8a632dd",
   "metadata": {},
   "outputs": [],
   "source": [
    "print(align[-1], '\\n')\n",
    "print(align[1:3], '\\n')\n",
    "print(align[1:3, 1:4], '\\n')\n",
    "print(align[:,1:4], '\\n')"
   ]
  },
  {
   "cell_type": "markdown",
   "id": "723e30a3",
   "metadata": {},
   "source": [
    "Note that MSA slicing takes into the account the annotations."
   ]
  },
  {
   "cell_type": "code",
   "execution_count": null,
   "id": "624dcaf3",
   "metadata": {},
   "outputs": [],
   "source": [
    "sliced = align[:, 1:4]\n",
    "print(sliced)\n",
    "print(sliced.column_annotations)"
   ]
  },
  {
   "cell_type": "markdown",
   "id": "5dba132b",
   "metadata": {},
   "source": [
    "Note that the combination of colun-wise extension and slicing enables removal of columns."
   ]
  },
  {
   "cell_type": "code",
   "execution_count": null,
   "id": "7036827f",
   "metadata": {},
   "outputs": [],
   "source": [
    "list(align[:, 1:2] + align[:, 3:4])"
   ]
  },
  {
   "cell_type": "markdown",
   "id": "e197796c",
   "metadata": {},
   "source": [
    "If a more advanced array manipulation is required, MSA can be converted to a NumPy array."
   ]
  },
  {
   "cell_type": "code",
   "execution_count": null,
   "id": "be9c6a93",
   "metadata": {},
   "outputs": [],
   "source": [
    "import numpy as np\n",
    "align_array = np.array([list(rec) for rec in align])\n",
    "print(align_array.shape)\n",
    "print(align_array[1:2])"
   ]
  },
  {
   "cell_type": "markdown",
   "id": "f42042bd",
   "metadata": {},
   "source": [
    "### ---- Begin Exercise ----\n",
    "- Write a function that takes in a Pfam family, loads from the disk the corresponding MSA and computes sum-of-pairs score for each column. To do that, the user will have also to specify the scoring matrix (see below how to work with scoring matrices). The method will compute SP for every column and together with the number of gaps for that columns. The results will be stored in `column_annotations` of the MSA. The MSA with the enriched `column_annotations` will be returned to the user.\n",
    "- Modify the previous function so that it takes on the input only Pfam ID, and using `requests` it first downloads the Pfam family (check in the *view* option on any Pfam family page in Alignment->Format an alignment and click *Generate* to see how the URL is constructed) and only then computes the SP scores and gap counts as in previous step.\n",
    "### ---- End Exercise ----"
   ]
  },
  {
   "cell_type": "markdown",
   "id": "1f4ef623",
   "metadata": {},
   "source": [
    "## Obtaining pairwise alignment"
   ]
  },
  {
   "cell_type": "markdown",
   "id": "9c5b58f4",
   "metadata": {},
   "source": [
    "BioPython includes two sequence aligners - the \"old\" [Bio.pairwise2 module](https://biopython.org/docs/latest/api/Bio.pairwise2.html) and the new [PairwiseAligner class](https://biopython.org/docs/latest/api/Bio.Align.html#Bio.Align.PairwiseAlignment) that is part of the [Bio.Align module](https://biopython.org/docs/latest/api/Bio.Align.html). It is suggested to use the `PairwiseAligner` class as it provides faster and more efficient implementation. That said, both aligners should return the same results."
   ]
  },
  {
   "cell_type": "code",
   "execution_count": null,
   "id": "7600bd3e",
   "metadata": {},
   "outputs": [],
   "source": [
    "from Bio import Align\n",
    "aligner = Align.PairwiseAligner()"
   ]
  },
  {
   "cell_type": "code",
   "execution_count": null,
   "id": "bc65298d",
   "metadata": {},
   "outputs": [],
   "source": [
    "seq1 = \"GAACT\"\n",
    "seq2 = \"GAT\"\n",
    "\n",
    "aligner = Align.PairwiseAligner(match_score=1.0)\n",
    "aligner.match_score = 2.0\n",
    "\n",
    "print(aligner.score(seq1, seq2))"
   ]
  },
  {
   "cell_type": "code",
   "execution_count": null,
   "id": "bf381dcb",
   "metadata": {},
   "outputs": [],
   "source": [
    "alignments = aligner.align(seq1, seq2)\n",
    "for a in alignments:\n",
    "    print(a)"
   ]
  },
  {
   "cell_type": "code",
   "execution_count": null,
   "id": "53070f17",
   "metadata": {},
   "outputs": [],
   "source": [
    "aligner.mode"
   ]
  },
  {
   "cell_type": "code",
   "execution_count": null,
   "id": "f7e16ef8",
   "metadata": {},
   "outputs": [],
   "source": [
    "seq1 = \"AGAACTC\"\n",
    "seq2 = \"GAACT\"\n",
    "aligner.gap_score = 0\n",
    "aligner.match_score = 1\n",
    "for mode in ['global', 'local']:\n",
    "    aligner.mode = mode\n",
    "    print(aligner.algorithm)\n",
    "    alignments = aligner.align(seq1, seq2)\n",
    "    for a in alignments:\n",
    "        print(a)"
   ]
  },
  {
   "cell_type": "markdown",
   "id": "dbf849b3",
   "metadata": {},
   "source": [
    "The aligner has a trully fine-grained control over the gap penalties."
   ]
  },
  {
   "cell_type": "code",
   "execution_count": null,
   "id": "93225744",
   "metadata": {},
   "outputs": [],
   "source": [
    "print(aligner)"
   ]
  },
  {
   "cell_type": "markdown",
   "id": "b1ce828f",
   "metadata": {},
   "source": [
    "Opening scores|Extending scores\n",
    "---|---\n",
    "query_left_open_gap_score|query_left_extend_gap_score\n",
    "query_internal_open_gap_score|query_internal_extend_gap_score\n",
    "query_right_open_gap_score|query_right_extend_gap_score\n",
    "target_left_open_gap_score|target_left_extend_gap_score\n",
    "target_internal_open_gap_score|target_internal_extend_gap_score\n",
    "target_right_open_gap_score|target_right_extend_gap_score"
   ]
  },
  {
   "cell_type": "markdown",
   "id": "5162ffe6",
   "metadata": {},
   "source": [
    "target|\tquery|\tscore|\n",
    "---|---|---|\n",
    "A|\t-|\tquery left open gap score|\n",
    "C|\t-|\tquery left extend gap score|\n",
    "C|\t-|\tquery left extend gap score|\n",
    "G|\tG|\tmatch score|\n",
    "G|\tT|\tmismatch score|\n",
    "G|\t-|\tquery internal open gap score|\n",
    "A|\t-|\tquery internal extend gap score|\n",
    "A|\t-|\tquery internal extend gap score|\n",
    "T|\tT|\tmatch score|\n",
    "A|\tA|\tmatch score|\n",
    "G|\t-|\tquery internal open gap score|\n",
    "C|\tC|\tmatch score|\n",
    "-|\tC|\ttarget internal open gap score|\n",
    "-|\tC|\ttarget internal extend gap score|\n",
    "C|\tC|\tmatch score|\n",
    "T|\tG|\tmismatch score|\n",
    "C|\tC|\tmatch score|\n",
    "-|\tC|\ttarget internal open gap score|\n",
    "A|\tA|\tmatch score|\n",
    "-|\tT|\ttarget right open gap score|\n",
    "-|\tA|\ttarget right extend gap score|\n",
    "-|\tA|\ttarget right extend gap score|\n"
   ]
  },
  {
   "cell_type": "markdown",
   "id": "4d4633c9",
   "metadata": {},
   "source": [
    "Meta-attribute |\tAttributes it maps to\n",
    "---|---\n",
    "gap_score\t|target_gap_score, query_gap_score\n",
    "open_gap_score|\ttarget_open_gap_score, query_open_gap_score\n",
    "extend_gap_score|\ttarget_extend_gap_score, query_extend_gap_score\n",
    "internal_gap_score|\ttarget_internal_gap_score, query_internal_gap_score\n",
    "internal_open_gap_score|\ttarget_internal_open_gap_score, query_internal_open_gap_score\n",
    "internal_extend_gap_score|\ttarget_internal_extend_gap_score, query_internal_extend_gap_score\n",
    "end_gap_score|\ttarget_end_gap_score, query_end_gap_score\n",
    "end_open_gap_score|\ttarget_end_open_gap_score, query_end_open_gap_score\n",
    "end_extend_gap_score|\ttarget_end_extend_gap_score, query_end_extend_gap_score\n",
    "left_gap_score|\ttarget_left_gap_score, query_left_gap_score\n",
    "right_gap_score| target_right_gap_score, query_right_gap_score\n",
    "left_open_gap_score|\ttarget_left_open_gap_score, query_left_open_gap_score\n",
    "left_extend_gap_score|\ttarget_left_extend_gap_score, query_left_extend_gap_score\n",
    "right_open_gap_score|\ttarget_right_open_gap_score, query_right_open_gap_score\n",
    "right_extend_gap_score|\ttarget_right_extend_gap_score, query_right_extend_gap_score\n",
    "target_open_gap_score|\ttarget_internal_open_gap_score, target_left_open_gap_score,\n",
    "_|target_right_open_gap_score\n",
    "target_extend_gap_score|\ttarget_internal_extend_gap_score, target_left_extend_gap_score,\n",
    "_|target_right_extend_gap_score\n",
    "target_gap_score|\ttarget_open_gap_score, target_extend_gap_score\n",
    "query_open_gap_score|\tquery_internal_open_gap_score, query_left_open_gap_score,\n",
    "_|query_right_open_gap_score\n",
    "query_extend_gap_score|\tquery_internal_extend_gap_score, query_left_extend_gap_score,\n",
    "_|query_right_extend_gap_score\n",
    "query_gap_score|\tquery_open_gap_score, query_extend_gap_score\n",
    "target_internal_gap_score|\ttarget_internal_open_gap_score, target_internal_extend_gap_score\n",
    "target_end_gap_score|\ttarget_end_open_gap_score, target_end_extend_gap_score\n",
    "target_end_open_gap_score|\ttarget_left_open_gap_score, target_right_open_gap_score\n",
    "target_end_extend_gap_score|\ttarget_left_extend_gap_score, target_right_extend_gap_score\n",
    "target_left_gap_score|\ttarget_left_open_gap_score, target_left_extend_gap_score\n",
    "target_right_gap_score|\ttarget_right_open_gap_score, target_right_extend_gap_score\n",
    "query_end_gap_score|\tquery_end_open_gap_score, query_end_extend_gap_score\n",
    "query_end_open_gap_score|\tquery_left_open_gap_score, query_right_open_gap_score\n",
    "query_end_extend_gap_score|\tquery_left_extend_gap_score, query_right_extend_gap_score\n",
    "query_internal_gap_score|\tquery_internal_open_gap_score, query_internal_extend_gap_score\n",
    "query_left_gap_score|\tquery_left_open_gap_score, query_left_extend_gap_score\n",
    "query_right_gap_score|\tquery_right_open_gap_score, query_right_extend_gap_score"
   ]
  },
  {
   "cell_type": "markdown",
   "id": "18fe63ab",
   "metadata": {},
   "source": [
    "It is even possible to have a general gap scoring function"
   ]
  },
  {
   "cell_type": "code",
   "execution_count": null,
   "id": "7e7195dd",
   "metadata": {},
   "outputs": [],
   "source": [
    "def my_gap_score_function(start, length):\n",
    "    if start==2:\n",
    "        return -1000\n",
    "    else:\n",
    "        return -1 * length\n",
    "\n",
    "for query_gap_score in [0, my_gap_score_function]:\n",
    "    print(query_gap_score)\n",
    "    aligner.query_gap_score = query_gap_score\n",
    "    alignments = aligner.align(\"AACCCTT\", \"AATT\")\n",
    "    for alignment in alignments:\n",
    "        print(alignment)"
   ]
  },
  {
   "cell_type": "markdown",
   "id": "ba9140e6",
   "metadata": {},
   "source": [
    "For protein sequences, it is reasonable to use a substitution matrix. BioPython is distributed with plenty of substitution matrices (including PAM and BLOSSUM) which are available via the [scoring_matrices](https://biopython.org/docs/latest/api/Bio.Align.substitution_matrices.html) subpackage of `Bio.Align`. To find out which matrices are available, we can call the `load` method without an argument (the matrices are stored as flat files in `Bio/Align/scoring_matrices/data`). The same method is then used to load a specific matrix."
   ]
  },
  {
   "cell_type": "code",
   "execution_count": null,
   "id": "898fbc7e",
   "metadata": {},
   "outputs": [],
   "source": [
    "from Bio.Align import substitution_matrices\n",
    "substitution_matrices.load()"
   ]
  },
  {
   "cell_type": "code",
   "execution_count": null,
   "id": "e7c8aa0b",
   "metadata": {},
   "outputs": [],
   "source": [
    "m = substitution_matrices.load(\"BLOSUM62\")\n",
    "print(m)\n",
    "print(\"A->R substitution score: {}\".format(m['A', 'R']))"
   ]
  },
  {
   "cell_type": "markdown",
   "id": "364a6b54",
   "metadata": {},
   "source": [
    "Let's use the BLOSSUM62 matrix to find an alignment between spike glycoprotein in SARS ([P59594](https://www.uniprot.org/uniprot/P59594)) and spike glycoprotein in bat corona virus ([R9QTA0](https://www.uniprot.org/uniprot/R9QTA0)). But first, let's see what happens if we do not specify the scoring matrix."
   ]
  },
  {
   "cell_type": "code",
   "execution_count": null,
   "id": "dcf189fe",
   "metadata": {},
   "outputs": [],
   "source": [
    "from Bio import SeqIO\n",
    "s_sars = SeqIO.read('data/spike_sars_cv.faa', 'fasta')\n",
    "s_bat = SeqIO.read('data/spike_bat_cv.faa', 'fasta')"
   ]
  },
  {
   "cell_type": "code",
   "execution_count": null,
   "id": "0c02a9ff",
   "metadata": {},
   "outputs": [],
   "source": [
    "aligner = Align.PairwiseAligner()\n",
    "alignments = aligner.align(s_sars.seq, s_bat.seq)"
   ]
  },
  {
   "cell_type": "code",
   "execution_count": null,
   "id": "fea4bdec",
   "metadata": {},
   "outputs": [],
   "source": [
    "print(len(alignments))"
   ]
  },
  {
   "cell_type": "markdown",
   "id": "f02a83db",
   "metadata": {},
   "source": [
    "We got so many alignments because the scoring system results in plenty of alignments with the same score. Let's inspect."
   ]
  },
  {
   "cell_type": "code",
   "execution_count": null,
   "id": "414da37f",
   "metadata": {},
   "outputs": [],
   "source": [
    "print(aligner)"
   ]
  },
  {
   "cell_type": "code",
   "execution_count": null,
   "id": "368c02dc",
   "metadata": {},
   "outputs": [],
   "source": [
    "print(alignments[0])\n",
    "print(alignments[1])"
   ]
  },
  {
   "cell_type": "markdown",
   "id": "3c866c56",
   "metadata": {},
   "source": [
    "Copy the above output into a text editor to get rid of the strange text wrapping (might look OK depending on your Notebook's environment). Alternatively, we can convert the output into an MSA object and format it as a clustal alignment (we are using string splitting here because `Bio.Align.PairwiseAlignment` [slicing](https://biopython.org/docs/latest/api/Bio.Align.html#Bio.Align.PairwiseAlignment.__getitem__) does not seem to be implemented at the time of writing this notebook)."
   ]
  },
  {
   "cell_type": "code",
   "execution_count": null,
   "id": "056acbcb",
   "metadata": {},
   "outputs": [],
   "source": [
    "from Bio.Seq import Seq\n",
    "from Bio.Align import MultipleSeqAlignment\n",
    "from Bio.SeqRecord import SeqRecord\n",
    "aln_str = str(alignments[0])\n",
    "a = SeqRecord(Seq(aln_str.splitlines()[0]), id=\"sars\")\n",
    "b = SeqRecord(Seq(aln_str.splitlines()[1]), id=\"bat\")\n",
    "msa = MultipleSeqAlignment([a, b])\n",
    "print(format(msa, \"clustal\"))"
   ]
  },
  {
   "cell_type": "markdown",
   "id": "3d326fe2",
   "metadata": {},
   "source": [
    "Now let's use the BLOSSUM62 matrix."
   ]
  },
  {
   "cell_type": "code",
   "execution_count": null,
   "id": "7d1bc6ff",
   "metadata": {},
   "outputs": [],
   "source": [
    "aligner = Align.PairwiseAligner()\n",
    "aligner.substitution_matrix = substitution_matrices.load(\"BLOSUM62\")\n"
   ]
  },
  {
   "cell_type": "code",
   "execution_count": null,
   "id": "86351647",
   "metadata": {},
   "outputs": [],
   "source": [
    "aligner.open_gap_score = -11\n",
    "aligner.end_open_gap_score = -11\n",
    "aligner.extend_gap_score = -1\n",
    "aligner.end_extend_gap_score = -1"
   ]
  },
  {
   "cell_type": "code",
   "execution_count": null,
   "id": "9f32edac",
   "metadata": {},
   "outputs": [],
   "source": [
    "alignments = aligner.align(s_sars.seq, s_bat.seq)"
   ]
  },
  {
   "cell_type": "code",
   "execution_count": null,
   "id": "40cbdb77",
   "metadata": {},
   "outputs": [],
   "source": [
    "len(alignments)"
   ]
  },
  {
   "cell_type": "markdown",
   "id": "5e5372cc",
   "metadata": {},
   "source": [
    "### ---- Begin Exercise ----\n",
    "\n",
    "- Iterate over the alignments and print out the alignments togeter with percentage identity (you can use the `substitutions` property which is an `np` 2D array)\n",
    "- Compare the results with what you get from UniProt's BLAST similarity search for the `SARS` protein and with what you get from using [EMBOSS Needle](https://www.ebi.ac.uk/Tools/psa/emboss_needle/). Are they any different?\n",
    "\n",
    "### ---- End Exercise ----"
   ]
  },
  {
   "cell_type": "markdown",
   "id": "f9458073",
   "metadata": {},
   "source": [
    "## Obtaining MSA"
   ]
  },
  {
   "cell_type": "markdown",
   "id": "c368ccb2",
   "metadata": {},
   "source": [
    "As there is no single agreed-upon standard for how to align multiple sequences there exists no algorithm implemented directly in BioPython. Instead, BioPython supports running external tools (which need to be installed on the target system) and wrapping their outputs into an MSA alignment which can then be further processed in BioPython. The wrappers are defined in the [Bio.Align.Applications](https://biopython.org/docs/latest/api/Bio.Align.Applications.html) module."
   ]
  },
  {
   "cell_type": "code",
   "execution_count": null,
   "id": "33b8f8a7",
   "metadata": {},
   "outputs": [],
   "source": [
    "import Bio.Align.Applications\n",
    "dir(Bio.Align.Applications)"
   ]
  },
  {
   "cell_type": "code",
   "execution_count": null,
   "id": "39c6ccce",
   "metadata": {},
   "outputs": [],
   "source": [
    "from Bio.Align.Applications import ClustalwCommandline\n",
    "clustalw_cline = ClustalwCommandline(r\"c:\\Program Files (x86)\\ClustalW2\\clustalw2.exe\", infile=\"data/PF01600_full_length_sequences.fasta\")"
   ]
  },
  {
   "cell_type": "code",
   "execution_count": null,
   "id": "76fbe5b8",
   "metadata": {},
   "outputs": [],
   "source": [
    "stdout, stderr = clustalw_cline()"
   ]
  },
  {
   "cell_type": "code",
   "execution_count": null,
   "id": "4d3a60eb",
   "metadata": {},
   "outputs": [],
   "source": [
    "print(stdout)"
   ]
  },
  {
   "cell_type": "markdown",
   "id": "b4390fb1",
   "metadata": {},
   "source": [
    "The alignment is, in case of ClustalW, actually written into an output file so we can then read it as we would do with any MSA."
   ]
  },
  {
   "cell_type": "code",
   "execution_count": null,
   "id": "feeef31b",
   "metadata": {},
   "outputs": [],
   "source": [
    "from Bio import AlignIO\n",
    "alignment = AlignIO.read(\"data/PF01600_full_length_sequences.aln\", \"clustal\")\n",
    "print(alignment)"
   ]
  },
  {
   "cell_type": "markdown",
   "id": "ea9c8194",
   "metadata": {},
   "source": [
    "The tree based on which the MSA is created is also available and can be visualized."
   ]
  },
  {
   "cell_type": "code",
   "execution_count": null,
   "metadata": {},
   "outputs": [],
   "source": [
    "from Bio import Phylo\n",
    "tree = Phylo.read(\"data/PF01600_full_length_sequences.dnd\", \"newick\")\n",
    "Phylo.draw_ascii(tree)"
   ]
  }
 ],
 "metadata": {
  "kernelspec": {
   "display_name": "Python 3.9.5 64-bit",
   "language": "python",
   "name": "python3"
  },
  "language_info": {
   "codemirror_mode": {
    "name": "ipython",
    "version": 3
   },
   "file_extension": ".py",
   "mimetype": "text/x-python",
   "name": "python",
   "nbconvert_exporter": "python",
   "pygments_lexer": "ipython3",
   "version": "3.9.5"
  },
  "vscode": {
   "interpreter": {
    "hash": "81794d4967e6c3204c66dcd87b604927b115b27c00565d3d43f05ba2f3a2cb0d"
   }
  }
 },
 "nbformat": 4,
 "nbformat_minor": 5
}
