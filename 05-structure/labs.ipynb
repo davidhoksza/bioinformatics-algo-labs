{
 "cells": [
  {
   "cell_type": "markdown",
   "metadata": {},
   "source": [
    "# Structure manipulation\n",
    "\n",
    "In this labs, we will brush up on manipulation with molecular 3D structures from the first labs. Then we will show how to visualize a protein (or nucleic acid) structure in a notebook and then we will proceed to 3D structure superposition.\n"
   ]
  },
  {
   "cell_type": "markdown",
   "metadata": {},
   "source": [
    "### Bio.PDB\n",
    "\n",
    "As we went through this package in the first labs, we will revisit it here only very briefly. Structures, irrespective of whether they are obtained from PDB or mmCIF file, are represented by the [Bio.PDB.Entity](https://biopython.org/docs/1.75/api/Bio.PDB.Entity.html) module from the [Bio.PDB](https://biopython.org/docs/1.75/api/Bio.PDB.html) package. A structure object has the *structure->model->chain->residue* architecture.\n",
    "\n",
    "![SMRCA](http://biopython.org/DIST/docs/tutorial/images/smcra.png)"
   ]
  },
  {
   "cell_type": "code",
   "execution_count": null,
   "metadata": {},
   "outputs": [],
   "source": [
    "from Bio.PDB.MMCIFParser import MMCIFParser\n",
    "from Bio.PDB.PDBList import PDBList\n",
    "\n",
    "pdbl = PDBList()\n",
    "file_name=pdbl.retrieve_pdb_file(\"7lkr\", file_format=\"mmCif\", pdir=\".\")\n",
    "parser = MMCIFParser()\n",
    "structure = parser.get_structure(\"7lkr\", file_name)\n",
    "\n",
    "model = structure[0]\n",
    "print(model.get_list())\n",
    "chain = model['A']\n",
    "print(chain.get_list()[0])\n",
    "res = chain[(' ',5,' ')]\n",
    "atom=res['CA']\n",
    "print(atom.get_vector())"
   ]
  },
  {
   "cell_type": "markdown",
   "metadata": {},
   "source": [
    "### ---- Begin Exercise ----\n",
    "- Implement a function for protein-ligand binding sites detection. The function should find residues with an atom with within a certain distnace (parameter of the function) from any atom of any ligand (heteroatoms).\n",
    "### ---- End Exercise ----"
   ]
  },
  {
   "cell_type": "markdown",
   "metadata": {},
   "source": [
    "### Structure visualization"
   ]
  },
  {
   "cell_type": "markdown",
   "metadata": {},
   "source": [
    "Advanced tools for structure visualization, such as PyMOL or Chimera, exist for offline viewing or web-based plugins such as [Mol*](https://molstar.org/). As stated on Mol* GitHub, Mol* development was jointly initiated by PDBe and RCSB PDB to combine and build on the strengths of [LiteMol](https://litemol.org/) (developed by PDBe) and [NGL](https://nglviewer.org/) (developed by RCSB PDB) viewers. We are mentioning this here because NGL is (maybe soon \"was\" as it is not actively developed anymore) provided as a Jupyter widget and thus can be used to visualize structures in a notebook."
   ]
  },
  {
   "cell_type": "markdown",
   "metadata": {},
   "source": [
    "!!!!!! *Should you have issues with installing the NGLView, you could use prepared [binder](https://mybinder.org/v2/gh/davidhoksza/ngl-binder/HEAD?labpath=labs.ipynb)* !!!!!!"
   ]
  },
  {
   "cell_type": "code",
   "execution_count": null,
   "metadata": {},
   "outputs": [],
   "source": [
    "import nglview as nv\n",
    "#view = nv.show_pdbid(\"3pqr\")  # load \"3pqr\" from RCSB PDB and display viewer widget\n",
    "view = nv.show_pdbid(\"7ar5\")  # load \"7ar5\" from RCSB PDB and display viewer widget\n",
    "view"
   ]
  },
  {
   "cell_type": "code",
   "execution_count": null,
   "metadata": {},
   "outputs": [],
   "source": [
    "view.remove_surface()\n",
    "view.add_surface(selection=\"protein\", opacity=0.4)"
   ]
  },
  {
   "cell_type": "markdown",
   "metadata": {},
   "source": [
    "Let's now visualize the ligand binding sites we obtained from the first excercise. That can be done using the NGL's [selection language](https://nglviewer.org/ngl/api/manual/usage/selection-language.html)."
   ]
  },
  {
   "cell_type": "code",
   "execution_count": null,
   "metadata": {},
   "outputs": [],
   "source": [
    "#selection = \" \".join([\"{}:{} or\".format(r.get_id()[1], r.parent.id) for r in binding_sites])[:-3]\n",
    "selection  = '25:A or 26:A or 27:A or 28:A or 39:A or 40:A or 41:A or 42:A or 44:A or 45:A or 46:A or 48:A or 49:A or 50:A or 52:A or 54:A or 117:A or 118:A or 138:A or 139:A or 140:A or 141:A or 142:A or 143:A or 144:A or 145:A or 146:A or 147:A or 161:A or 163:A or 164:A or 165:A or 166:A or 167:A or 168:A or 170:A or 171:A or 172:A or 173:A or 181:A or 186:A or 187:A or 188:A or 189:A or 190:A or 191:A or 192:A or 25:B or 26:B or 27:B or 28:B or 39:B or 40:B or 41:B or 42:B or 44:B or 45:B or 46:B or 48:B or 49:B or 50:B or 51:B or 52:B or 54:B or 117:B or 118:B or 138:B or 139:B or 140:B or 141:B or 142:B or 143:B or 144:B or 145:B or 146:B or 147:B or 161:B or 163:B or 164:B or 165:B or 166:B or 167:B or 168:B or 169:B or 170:B or 171:B or 172:B or 173:B or 181:B or 186:B or 187:B or 188:B or 189:B or 190:B or 191:B or 192:B or 193:B or 213:B or 252:B or 253:B or 254:B or 255:B or 256:B or 257:B or 258:B or 259:B'"
   ]
  },
  {
   "cell_type": "code",
   "execution_count": null,
   "metadata": {},
   "outputs": [],
   "source": [
    "view_bp = nv.show_biopython(structure[0])\n",
    "view_bp.representations = [\n",
    "    {\"type\": \"cartoon\", \"params\": {\n",
    "        \"sele\": \"protein\", \"color\": \"residueindex\"\n",
    "    }},\n",
    "    {\"type\": \"ball+stick\", \"params\": {\n",
    "        \"sele\": \"hetero\"\n",
    "    }},    \n",
    "    {\"type\": \"surface\", \"params\": {\n",
    "        \"sele\": selection,\n",
    "        \"opacity\": 0.3,\n",
    "        \"color\": \"pink\"\n",
    "    }}\n",
    "]\n",
    "view_bp\n"
   ]
  },
  {
   "cell_type": "code",
   "execution_count": null,
   "metadata": {},
   "outputs": [],
   "source": [
    "view_bp.remove_surface()\n",
    "#view_bp.clear_representations()\n",
    "#view_bp.add_representation('surface', selection=selection, color='green')\n",
    "view_bp.add_surface(selection=selection, color='green', opacity=0.3)"
   ]
  },
  {
   "cell_type": "markdown",
   "metadata": {},
   "source": [
    "The widget has some many other features such as adding/updating/removing additional strucutures, representations (see the [API](http://nglviewer.org/nglview/latest/api.html))."
   ]
  },
  {
   "cell_type": "markdown",
   "metadata": {},
   "source": [
    "### Structure superposition\n",
    "\n",
    "To superpose a pair of structures, we need a mapping between the atoms in the two structures and based on this mapping a procedure which minimizes RMSD (such as [Kabsch algorithm](https://en.wikipedia.org/wiki/Kabsch_algorithm)) can be executed. In BioPython, we can use the [Bio.PDB.Superimposer](https://biopython.org/docs/1.75/api/Bio.PDB.Superimposer.html) module. To use it, we need to specify the mapping as two sets of atoms ([set_atoms method](https://biopython.org/docs/1.75/api/Bio.PDB.Superimposer.html#Bio.PDB.Superimposer.Superimposer.set_atoms)) based on which the transformation is computed and applied ([apply method](https://biopython.org/docs/1.75/api/Bio.PDB.Superimposer.html#Bio.PDB.Superimposer.Superimposer.apply)) to one of the structures, to optimally (in terms of RMSD) map it onto the other.\n",
    "\n",
    "Let's try this procedure on the *7lkr* and *7ar5* structures which are both structures of the SARS-CoV-2 3CL protease."
   ]
  },
  {
   "cell_type": "code",
   "execution_count": null,
   "metadata": {},
   "outputs": [],
   "source": [
    "from Bio.PDB.MMCIFParser import MMCIFParser\n",
    "from Bio.PDB.PDBList import PDBList\n",
    "\n",
    "pdbl = PDBList()\n",
    "file_name=pdbl.retrieve_pdb_file(\"7ar5\", file_format=\"mmCif\", pdir=\".\")\n"
   ]
  },
  {
   "cell_type": "code",
   "execution_count": null,
   "metadata": {},
   "outputs": [],
   "source": [
    "parser = MMCIFParser()\n",
    "structure_7ar5 = parser.get_structure(\"7ar5\", '7ar5.cif')\n",
    "structure_7lkr = parser.get_structure(\"7lkr\", '7lkr.cif')\n"
   ]
  },
  {
   "cell_type": "markdown",
   "metadata": {},
   "source": [
    "Let's visualize the two structures in NGL."
   ]
  },
  {
   "cell_type": "code",
   "execution_count": null,
   "metadata": {},
   "outputs": [],
   "source": [
    "import nglview as nv\n",
    "v = nv.NGLWidget()\n",
    "c1 = v.add_component(nv.BiopythonStructure(structure_7ar5[0]))\n",
    "c2 = v.add_component(nv.BiopythonStructure(structure_7lkr[0]))\n",
    "\n",
    "c1.clear_representations()\n",
    "c1.add_representation('cartoon', color=\"blue\")\n",
    "c2.clear_representations()\n",
    "c2.add_representation('cartoon', color=\"red\")\n",
    "\n",
    "v"
   ]
  },
  {
   "cell_type": "markdown",
   "metadata": {},
   "source": [
    "The structures are clearly not superimposed. Morever, one of the structures is a (homo)dimer. We will need to pick one of the chains and use it to find mapping against the only chain in the other structure. To do that, we will simply use sequence alignment. But, first, the sequences of the chosen chains need to be extracted from the structure."
   ]
  },
  {
   "cell_type": "code",
   "execution_count": null,
   "metadata": {},
   "outputs": [],
   "source": [
    "from Bio.PDB.Polypeptide import three_to_one\n",
    "def get_sequence(residues):\n",
    "    return ''.join(three_to_one(r.get_resname()) for r in residues)\n",
    "\n",
    "def get_residues(structure, chain):\n",
    "    return [r for r in structure[0][chain].get_residues() if r.id[0] == ' ']"
   ]
  },
  {
   "cell_type": "code",
   "execution_count": null,
   "metadata": {},
   "outputs": [],
   "source": [
    "res1 = get_residues(structure_7lkr, 'A')\n",
    "seq1 = get_sequence(res1)\n",
    "res2 = get_residues(structure_7ar5, 'A')\n",
    "seq2 = get_sequence(res2)"
   ]
  },
  {
   "cell_type": "markdown",
   "metadata": {},
   "source": [
    "Once we have the sequences, we can carry out sequence alignment (see the second labs for details)."
   ]
  },
  {
   "cell_type": "code",
   "execution_count": null,
   "metadata": {},
   "outputs": [],
   "source": [
    "from Bio import Align\n",
    "from Bio.Align import substitution_matrices\n",
    "\n",
    "aligner = Align.PairwiseAligner()\n",
    "aligner.substitution_matrix = substitution_matrices.load(\"BLOSUM62\")\n",
    "aligner.open_gap_score = -11\n",
    "aligner.end_open_gap_score = -11\n",
    "aligner.extend_gap_score = -1\n",
    "aligner.end_extend_gap_score = -1"
   ]
  },
  {
   "cell_type": "code",
   "execution_count": null,
   "metadata": {},
   "outputs": [],
   "source": [
    "alns = aligner.align(seq1, seq2)\n",
    "print(len(alns))"
   ]
  },
  {
   "cell_type": "markdown",
   "metadata": {},
   "source": [
    "We got one alignment which looks as follows:"
   ]
  },
  {
   "cell_type": "code",
   "execution_count": null,
   "metadata": {},
   "outputs": [],
   "source": [
    "alignment = alns[0]\n",
    "print(alignment)"
   ]
  },
  {
   "cell_type": "markdown",
   "metadata": {},
   "source": [
    "Now, we can use the [aligned](https://biopython.org/docs/1.75/api/Bio.Align.html?highlight=alignment#Bio.Align.PairwiseAlignment.aligned) property of the alignment that gives us ranges of residues in the respective sequences which are mapped onto each other."
   ]
  },
  {
   "cell_type": "code",
   "execution_count": null,
   "metadata": {},
   "outputs": [],
   "source": [
    "print(alignment.aligned)"
   ]
  },
  {
   "cell_type": "code",
   "execution_count": null,
   "metadata": {},
   "outputs": [],
   "source": [
    "for range1, range2 in zip(alignment.aligned[0], alignment.aligned[1]):\n",
    "    print(range1, range2)"
   ]
  },
  {
   "cell_type": "markdown",
   "metadata": {},
   "source": [
    "From the ranges, we can enumerate indices of the residues which should be mapped."
   ]
  },
  {
   "cell_type": "code",
   "execution_count": null,
   "metadata": {},
   "outputs": [],
   "source": [
    "mapping = [[],[]]\n",
    "for range1, range2 in zip(alns[0].aligned[0], alns[0].aligned[1]):\n",
    "    mapping[0] += list(range(range1[0], range1[1]))\n",
    "    mapping[1] += list(range(range2[0], range2[1]))"
   ]
  },
  {
   "cell_type": "markdown",
   "metadata": {},
   "source": [
    "However, the `set_atoms` method in the `Bio.PDB.Superimposer` does not accept residue mapping but atom mapping. To do that, we extract C-alpha atoms of the mapped residues."
   ]
  },
  {
   "cell_type": "code",
   "execution_count": null,
   "metadata": {},
   "outputs": [],
   "source": [
    "atoms1 = []\n",
    "atoms2 = []\n",
    "for r, m, a in [(res1, mapping[0], atoms1), (res2, mapping[1], atoms2)]:\n",
    "    for i in m:\n",
    "        a.append(list(filter(lambda x: x.get_name() == 'CA', r[i].get_atoms()))[0])"
   ]
  },
  {
   "cell_type": "markdown",
   "metadata": {},
   "source": [
    "Now, we have a mapping to be passed to the `Superimposer` and apply the transformation."
   ]
  },
  {
   "cell_type": "code",
   "execution_count": null,
   "metadata": {},
   "outputs": [],
   "source": [
    "import Bio\n",
    "super_imposer = Bio.PDB.Superimposer()\n",
    "super_imposer.set_atoms(atoms1, atoms2)\n",
    "super_imposer.apply(structure_7ar5.get_atoms())"
   ]
  },
  {
   "cell_type": "markdown",
   "metadata": {},
   "source": [
    "After superposition, the resulting RMSD is stored in the `rms` property of the `PDB.Superimposer`:"
   ]
  },
  {
   "cell_type": "code",
   "execution_count": null,
   "metadata": {},
   "outputs": [],
   "source": [
    "super_imposer.rms"
   ]
  },
  {
   "cell_type": "markdown",
   "metadata": {},
   "source": [
    "And finally, let's visualize the superposed structures (we are using a new NGL instance)."
   ]
  },
  {
   "cell_type": "code",
   "execution_count": null,
   "metadata": {},
   "outputs": [],
   "source": [
    "import nglview as nv\n",
    "v_super = nv.NGLWidget()\n",
    "c1 = v_super.add_component(nv.BiopythonStructure(structure_7ar5[0]))\n",
    "c2 = v_super.add_component(nv.BiopythonStructure(structure_7lkr[0]))\n",
    "\n",
    "c1.clear_representations()\n",
    "c1.add_representation('cartoon', color=\"blue\")\n",
    "c2.clear_representations()\n",
    "c2.add_representation('cartoon', color=\"red\")\n",
    "v_super"
   ]
  },
  {
   "cell_type": "markdown",
   "metadata": {},
   "source": [
    "### ---- Begin Exercise ----\n",
    "- Implement a function which when passed two protein structures would align all their chains, find the pair with best alignment, and align the structures based on that pair of chains. An example, where matching 'A' chains won't work are GPCR structures 7E2X and 6A94. There you need to align chain R of 7E2X with chain A or B from 6A94 to get reasonable superposition.\n",
    "### ---- End Exercise ----"
   ]
  }
 ],
 "metadata": {
  "kernelspec": {
   "display_name": "Python 3 (ipykernel)",
   "language": "python",
   "name": "python3"
  },
  "language_info": {
   "codemirror_mode": {
    "name": "ipython",
    "version": 3
   },
   "file_extension": ".py",
   "mimetype": "text/x-python",
   "name": "python",
   "nbconvert_exporter": "python",
   "pygments_lexer": "ipython3",
   "version": "3.9.5"
  },
  "vscode": {
   "interpreter": {
    "hash": "81794d4967e6c3204c66dcd87b604927b115b27c00565d3d43f05ba2f3a2cb0d"
   }
  }
 },
 "nbformat": 4,
 "nbformat_minor": 4
}
