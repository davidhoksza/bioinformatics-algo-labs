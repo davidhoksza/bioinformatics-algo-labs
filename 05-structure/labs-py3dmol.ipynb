{
 "cells": [
  {
   "cell_type": "markdown",
   "metadata": {},
   "source": [
    "# Structure manipulation - py3DMol\n",
    "\n",
    "An alternative to the main lab notebook, which uses NGLView to visualize the structures. An alternative is to use the [py3Dmol](https://pypi.org/project/py3Dmol/) package. This notebook follows the same steps as the main one (but it does not contain the BioPython part and tasks), and therefore, it does not contain the markdown cells, which are basically the same. The main difference is that Py3Dmol has a different way of composing queries, it can't handle mmCIF files, and it has no bindings to BioPython."
   ]
  },
  {
   "cell_type": "code",
   "execution_count": null,
   "metadata": {},
   "outputs": [],
   "source": [
    "import py3Dmol\n",
    "viewPy3D = py3Dmol.view(query='pdb:7ar5')\n",
    "viewPy3D.show()"
   ]
  },
  {
   "cell_type": "code",
   "execution_count": null,
   "metadata": {},
   "outputs": [],
   "source": [
    "viewPy3D.setStyle({'cartoon': {'color':'spectrum'}})\n",
    "viewPy3D.addSurface(py3Dmol.VDW,{'opacity':0.6,'color':'white'})\n"
   ]
  },
  {
   "cell_type": "code",
   "execution_count": null,
   "metadata": {},
   "outputs": [],
   "source": [
    "selection = {'byres': True, 'or': [{'and': [{'chain': 'A'}, {'resi': [41, 49, 140, 141, 142, 143, 144, 145, 163, 164, 165, 166, 172, 187, 188, 189]}]}, {'and': [{'chain': 'B'}, {'resi': [41, 54, 140, 141, 142, 143, 144, 145, 163, 164, 165, 166, 168, 172, 187, 188, 189, 190, 191, 255, 256, 257, 258]}]}]}"
   ]
  },
  {
   "cell_type": "code",
   "execution_count": null,
   "metadata": {},
   "outputs": [],
   "source": [
    "view = py3Dmol.view()\n",
    "view.addModel(open('7lkr.pdb', 'r').read(),'pdb')\n",
    "view.setStyle({'cartoon': {'color':'spectrum'}})\n",
    "view.zoomTo()\n",
    "view.show()"
   ]
  },
  {
   "cell_type": "code",
   "execution_count": null,
   "metadata": {},
   "outputs": [],
   "source": [
    "view.removeAllSurfaces()\n",
    "view.addSurface(py3Dmol.VDW,{'opacity':0.8,'color':'green'}, selection)"
   ]
  },
  {
   "cell_type": "code",
   "execution_count": null,
   "metadata": {},
   "outputs": [],
   "source": [
    "!wget http://www.rcsb.org/pdb/files/7ar5.pdb\n",
    "!wget http://www.rcsb.org/pdb/files/7lkr.pdb"
   ]
  },
  {
   "cell_type": "code",
   "execution_count": null,
   "metadata": {},
   "outputs": [],
   "source": [
    "view = py3Dmol.view()\n",
    "view.addModel(open('7ar5.pdb', 'r').read(),'pdb')\n",
    "view.addModel(open('7lkr.pdb', 'r').read(),'pdb')\n",
    "view.setStyle({'model':0}, {'cartoon': {'color':'blue'}})\n",
    "view.setStyle({'model':1}, {'cartoon': {'color':'red'}})\n",
    "view.zoomTo()\n",
    "view.show()"
   ]
  },
  {
   "cell_type": "code",
   "execution_count": null,
   "metadata": {},
   "outputs": [],
   "source": [
    "from Bio.PDB.MMCIFParser import MMCIFParser\n",
    "from Bio.PDB.PDBList import PDBList\n",
    "\n",
    "pdbl = PDBList()\n",
    "file_name=pdbl.retrieve_pdb_file(\"7ar5\", file_format=\"mmCif\", pdir=\".\")\n",
    "file_name=pdbl.retrieve_pdb_file(\"7lkr\", file_format=\"mmCif\", pdir=\".\")\n",
    "\n",
    "parser = MMCIFParser()\n",
    "structure_7ar5 = parser.get_structure(\"7ar5\", '7ar5.cif')\n",
    "structure_7lkr = parser.get_structure(\"7lkr\", '7lkr.cif')\n"
   ]
  },
  {
   "cell_type": "code",
   "execution_count": null,
   "metadata": {},
   "outputs": [],
   "source": [
    "from Bio.PDB.Polypeptide import three_to_one\n",
    "def get_sequence(residues):\n",
    "    return ''.join(three_to_one(r.get_resname()) for r in residues)\n",
    "\n",
    "def get_residues(structure, chain):\n",
    "    return [r for r in structure[0][chain].get_residues() if r.id[0] == ' ']"
   ]
  },
  {
   "cell_type": "code",
   "execution_count": null,
   "metadata": {},
   "outputs": [],
   "source": [
    "res1 = get_residues(structure_7lkr, 'A')\n",
    "seq1 = get_sequence(res1)\n",
    "res2 = get_residues(structure_7ar5, 'A')\n",
    "seq2 = get_sequence(res2)"
   ]
  },
  {
   "cell_type": "code",
   "execution_count": null,
   "metadata": {},
   "outputs": [],
   "source": [
    "from Bio import Align\n",
    "from Bio.Align import substitution_matrices\n",
    "\n",
    "aligner = Align.PairwiseAligner()\n",
    "aligner.substitution_matrix = substitution_matrices.load(\"BLOSUM62\")\n",
    "aligner.open_gap_score = -11\n",
    "aligner.end_open_gap_score = -11\n",
    "aligner.extend_gap_score = -1\n",
    "aligner.end_extend_gap_score = -1"
   ]
  },
  {
   "cell_type": "code",
   "execution_count": null,
   "metadata": {},
   "outputs": [],
   "source": [
    "alns = aligner.align(seq1, seq2)\n",
    "print(len(alns))"
   ]
  },
  {
   "cell_type": "code",
   "execution_count": null,
   "metadata": {},
   "outputs": [],
   "source": [
    "alignment = alns[0]\n",
    "print(alignment)"
   ]
  },
  {
   "cell_type": "code",
   "execution_count": null,
   "metadata": {},
   "outputs": [],
   "source": [
    "print(alignment.aligned)"
   ]
  },
  {
   "cell_type": "code",
   "execution_count": null,
   "metadata": {},
   "outputs": [],
   "source": [
    "for range1, range2 in zip(alignment.aligned[0], alignment.aligned[1]):\n",
    "    print(range1, range2)"
   ]
  },
  {
   "cell_type": "code",
   "execution_count": null,
   "metadata": {},
   "outputs": [],
   "source": [
    "mapping = [[],[]]\n",
    "for range1, range2 in zip(alns[0].aligned[0], alns[0].aligned[1]):\n",
    "    mapping[0] += list(range(range1[0], range1[1]))\n",
    "    mapping[1] += list(range(range2[0], range2[1]))"
   ]
  },
  {
   "cell_type": "code",
   "execution_count": null,
   "metadata": {},
   "outputs": [],
   "source": [
    "atoms1 = []\n",
    "atoms2 = []\n",
    "for r, m, a in [(res1, mapping[0], atoms1), (res2, mapping[1], atoms2)]:\n",
    "    for i in m:\n",
    "        a.append(list(filter(lambda x: x.get_name() == 'CA', r[i].get_atoms()))[0])"
   ]
  },
  {
   "cell_type": "code",
   "execution_count": null,
   "metadata": {},
   "outputs": [],
   "source": [
    "import Bio\n",
    "super_imposer = Bio.PDB.Superimposer()\n",
    "super_imposer.set_atoms(atoms1, atoms2)\n",
    "super_imposer.apply(structure_7ar5.get_atoms())"
   ]
  },
  {
   "cell_type": "code",
   "execution_count": null,
   "metadata": {},
   "outputs": [],
   "source": [
    "super_imposer.rms"
   ]
  },
  {
   "cell_type": "code",
   "execution_count": null,
   "metadata": {},
   "outputs": [],
   "source": [
    "from Bio.PDB.PDBIO import PDBIO\n",
    "io=PDBIO()\n",
    "io.set_structure(structure_7ar5)\n",
    "io.save(\"7ar5-superposed.pdb\")"
   ]
  },
  {
   "cell_type": "code",
   "execution_count": null,
   "metadata": {},
   "outputs": [],
   "source": [
    "view = py3Dmol.view()\n",
    "view.addModel(open('7ar5-superposed.pdb', 'r').read(),'pdb')\n",
    "view.addModel(open('7lkr.pdb', 'r').read(),'pdb')\n",
    "view.setStyle({'model':0}, {'cartoon': {'color':'blue'}})\n",
    "view.setStyle({'model':1}, {'cartoon': {'color':'red'}})\n",
    "view.zoomTo()\n",
    "view.show()"
   ]
  }
 ],
 "metadata": {
  "kernelspec": {
   "display_name": "Python 3",
   "language": "python",
   "name": "python3"
  },
  "language_info": {
   "codemirror_mode": {
    "name": "ipython",
    "version": 3
   },
   "file_extension": ".py",
   "mimetype": "text/x-python",
   "name": "python",
   "nbconvert_exporter": "python",
   "pygments_lexer": "ipython3",
   "version": "3.9.5"
  }
 },
 "nbformat": 4,
 "nbformat_minor": 2
}
