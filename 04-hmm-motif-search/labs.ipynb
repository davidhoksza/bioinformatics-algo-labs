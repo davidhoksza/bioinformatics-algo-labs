{
 "cells": [
  {
   "cell_type": "markdown",
   "metadata": {},
   "source": [
    "# Motif search and HMMs\n",
    "\n",
    "In this labs, we will introduce BioPython's facilities to create and search for motifs including building HMMs.\n",
    "\n",
    "## Sequence motifs\n",
    "\n",
    "Routines for dealing with motifs are implemented in the [Bio.motifs](https://biopython.org/docs/latest/api/Bio.motifs.html) package. It contains classes to interface with several motif databases such trasncription factors databases [TRANSFAC](https://genexplain.com/transfac/) or [JASPAR](https://jaspar.genereg.net/) using the [Bio.motifs.transfac](https://biopython.org/docs/latest/api/Bio.motifs.transfac.html) and [Bio.motifs.jaspar](https://biopython.org/docs/latest/api/Bio.motifs.jaspar.html) modules, or motif generation tool [MEME](https://meme-suite.org/meme/) using the [Bio.motifs.meme](https://biopython.org/docs/latest/api/Bio.motifs.meme.html) module. \n",
    "\n",
    "Here, we will show how to utilize BioPython directly to obtain a motif. The main class here is [Bio.motifs](https://biopython.org/docs/latest/api/Bio.motifs.html) which can be used to create a motif from a set of [Bio.Seq](https://biopython.org/docs/latest/api/Bio.Seq.html) objects. Let's create a DNA motif."
   ]
  },
  {
   "cell_type": "code",
   "execution_count": 1,
   "metadata": {},
   "outputs": [
    {
     "name": "stdout",
     "output_type": "stream",
     "text": [
      "The motif consists of the following 5 sequences:\n",
      "TACAA\n",
      "TACGC\n",
      "TACAC\n",
      "TACCC\n",
      "AACCC\n",
      "AATGC\n",
      "AATGC\n",
      "\n"
     ]
    }
   ],
   "source": [
    "from Bio import motifs\n",
    "from Bio.Seq import Seq\n",
    "\n",
    "dna_motif = motifs.create([\n",
    "    Seq(\"TACAA\"),\n",
    "    Seq(\"TACGC\"),\n",
    "    Seq(\"TACAC\"),\n",
    "    Seq(\"TACCC\"),\n",
    "    Seq(\"AACCC\"),\n",
    "    Seq(\"AATGC\"),\n",
    "    Seq(\"AATGC\")\n",
    "    ])\n",
    "print(\"The motif consists of the following {} sequences:\".format(len(dna_motif)))\n",
    "print(dna_motif)"
   ]
  },
  {
   "cell_type": "markdown",
   "metadata": {},
   "source": [
    "The motif package is actually more motivated by DNA motifs which is evidenced by the available parsers as well by the fact that the default alphabet to be used with motifs is the nucleotide one. In order to create a protein motif, one needs to specify the alphabet to be used (notice, that the [Bio.Alphabet](https://biopython.org/docs/latest/api/Bio.Alphabet.html) package has been retired from BioPython and thus the allowed characters need to be explicitely enumerated). Let's use the coronavirus spike proteins PFAM family from the previous labs."
   ]
  },
  {
   "cell_type": "code",
   "execution_count": 3,
   "metadata": {},
   "outputs": [],
   "source": [
    "from Bio import SeqIO \n",
    "spike_proteins = list(SeqIO.parse(\"data/PF01600_serialized.faa\", \"fasta\"))\n",
    "pt_alphabet='ACDEFGHIKLMNPQRSTVWY-'\n",
    "pt_motif = motifs.create([p.seq for p in spike_proteins], alphabet=pt_alphabet)"
   ]
  },
  {
   "cell_type": "code",
   "execution_count": 4,
   "metadata": {},
   "outputs": [
    {
     "name": "stdout",
     "output_type": "stream",
     "text": [
      "----------------------YQVL-P---DSGEFSDNLFTVGDDGSIPP-SFGFNNWFVLSNSSSIISGTVVSNQPLRLT---C--LWPIP-----SSTGALATI---YFNGTN----GA-QCN------------GFDS--NAPFDAIRFNL--NGTLSGHNFVS----GFVLHAANGATLGFSCTNSTDAPYLR-------QIPFGI-GDT-PYYCYLNV---------TTDINSTMSFVGALPLNLREIVIA-SNGDVYMNGYRYFAAGDLSSVDVELPSQQV--FGSTFWTIAFTVFETVLLEVDGTSINRMLYCD--NPL-NRVKCSHTQFDLVDGFYPLT--DVDLAVKPFTF-VTLPTFADHSFVYFNFSLMF-----DDLN----------EDFRLQSFNLTINGQL---------SYCVQSRQFTT-SGSVRTNT------------------NHQFGFYTQRAAS---------NGCPFTIDTLNNYLTFGRICFSFG-ESGAGCGVDVMVESQYNMFKVT---T---IFVSYSEGDIIAGMPK-\n",
      "-------------MRANIRNSQ--------------TDVCTTIQQGGFIPS-TFTFPQWYVLTNGSTFLQGEYTLSQPLLAN---A--HFCPR-----KNSDGYWRY---SFNNSCL-FPDH-RCQDHWYDSQNPICLGWNNT-FGLSDNIRINI--NISHDEYQSHG---GYVSLTLESGSVVNITCTNNSDPSTVTL---ATSLLPWARAIDQ-PMYCFANL---------TTGTASQLDFMGMLPPLVSELAFD-RTGGIYINGYRYYLTSALRDVDFKLKRND----TAEYFAVTWANYTDVHLSVDAGAIEKIKYCN--TPL-DRLACDMNVFNLSDGVYSYT--SLEKASVPETF-VTLPVYSNHTYVTINTSYTV-----GSCV------NCPPISS-----TIDIMHARND-------TLCVNSRQFTV-RLNTHHH-------------------AQYPQYFSTAFVA---------GTCPFTLPNINNYLTFGSVCFSTV--NNGGCTIHVQ--KVWNHQYHTFG-T---IYVAYQDGNYITALPQ-\n",
      "----------------------YSIC-K---NCSGFPDHVFAAGQDGTIPP-SFGFENWFYLTNSSSPVSGRFSSSQPLQLF---C--LWPIP-----ALLGNTLPV---YFNMSK---NNA-NCN------------GFKA--DGVVDSLRFAL--NFSDERAFARE---GVISLETVGNT-YNFTCTNSSTPTDGS-----TFVLPFGV-TDQ-AYYCFMTFY------LNRTADLRTTVFAGMLPPVVREFVVM-RNGDFYLNGFRVFSVGQVVSARFNISSND----SRDFWTVAFANNAPVLVDINSTNIQRLLYCN--SPL-NIIKCQQLRFNLDNGFYSYA--PETANNLPRSF-VRLPKYMTHSVINVSVAVSY-----DVVNKT--NIGLHAWRVSFADRWLDYDKDNRT-------AVCADSASFTM-RLIKGSF---------------------SYGDVYVDIWS---------GECPFSFAALNNYLSFGSICFSLV-P-NGGCAMSIV-TRGSYGEPQKFA-A---LYVSFSEGDNVIGVPK-\n",
      "---------------------V-QNC-T--GNCEEYANNIFSTEPGGIIPE-GFSFNNWFVLTNDSTVLDGRFLTRQPLLVN---C--LWPVP-----SFSEISQEF---CFASAD----FT-QCN------------GYKL--NSTADVIRFNL--NFTHETAAASGT--TFFELNTTGGVVLYISCYNQSRTEAQVS----EGFVPFGN-HEG-SLYCYVSY------------NETLQKFLGVLPPSVKEIAIS-KDGGFYINGYNYFQTFPIDCISFNLTTGN----TGAFWTIAYTSYTDVMVDVENTAIKRVIYCN--SHI-NDIRCNQLTPSLPDGFYPVS--PKAIGFINKTF-VTLPANFDHVYVNITGNVNL-----KAER-------GRPYNN-GGNATLSFQG-------------CIAVSQFTV-NLNHTCTITNA-----------GSSGCTNAYEANVYMTS---------GSCPFAFDRLNNHMSFSKLCFSTV-PLGDDCRLDLTVQTRYFTGVFA---H---VYVSYKFGLDIVGLP-T\n",
      "---------------------C-SNCTD---QCASYVANVFVTQPGGFIPS-DFSFNNWFLLTNSSTLVSGKLVTKQPLLVN---C--LWPVP-----SFEEAASTF---CFEGAD----FD-QCN------------GAVL--NNTVDVIRFNL--NFTTNVQSGKGA--TVFSLNTTGGVTLEISCYNDTGSDSSFS---SYGEIPFGV-TDG-PRYCYVLY------------NGTALKYLGTLPPSVKEIAIS-KWGHFYINGYNFFSTFPIDCISFNLTTGD----SDVFWTIAYTSYTEALVQVENTAITKVTYCN--SYV-NNIKCSQLTANLNNGFYPVS--SSEVGLVNKSV-VLLPSFYTHTIVNITIGLGM-----KRSG------YGQPIASTLSNITLPTQDNNTD-------VYCILSDQFSV-YVHSTCKSALWDN--------VFKRNCTDVLDATAVIKT---------GTCPFSFDKLNNYLTFNKFCLSLS-PVGANCKFDVVARTRTNDQVVR---S---LYVIYEEGDNIVGVPS-\n",
      "--------------------YP---C-P---TSSPFVSGDCVIKDWVWIRS--FDFKHTYFDADYVGREEKFSLDAVPIIFR------LKPNA-----------------TYLGLP-------FCN------------ETHTD-KSSSAIIAYLIGGEFYSVDTS-------TVVVETYNPYIPHPSATPASALTTQS------RTTIYGW-QDL-RSYNMSCV----------RFSYELKRVMSVPLSMIRDVIIDVKKRVLSIDGFPVGSLLSDFEFRFSILA------MNDTYLAGL-KYTTALITFDKGNVRNVIDCN-SNSVFDKLRCDLQTDVMSDGFYPV---NIKTNEAEENA-TFIDVESTLANLSLEVFVSS-----PSHS------PACLLKS----------------------YKCVDTRYFYLQNYTYSCADNGISND------AAGSAYCEGRMDTFNKFGVNGL---DFRGKCPFSASKVNTGLTFDKICFGVY---EQGCQADKVCNFGFYFDDV--------VFNQY--GNKVYYKRQ-\n",
      "----------------------YTLC-D---NCTGFPQHVFATMENGEIPP-SFNFANWFYLTNSSSPVSSRVVGLQPLLLT---C--LWPIP-----ALLGTATDI---TFDRNG--TSDV-RCN------------GFAS--NETADAMRFSL--NFTDSAVFAKE---GVITLKTLSNT-FKFSCSNSSTYQAPY-------VIPFGH-IDQ-PYYCFTTFY------INETAGTTTTSFVGMLPPVVREFVIT-KTGNVYLNGYRIFTVDDVVSVNFNISSTD----HRDFWTVAFVKNTEVMLDIEDTYIKQLLYCN--TPL-NVVKCQQLKFVLDDGFYSYS--SPVDEVLPRTI-VRLPRLMTHNFLNFTIFVSFYFDDDK--QARPDGGFYECATCAPKYYKLAFVDDWTSAVSSNVTSICVNYASFTT-RLFTFYA--------------------GTTAGVHLGLET---------GTCPFSFDTLNNYLTFGSLCFSLV--ANGGCTMNIV-TQGPYGLPHTIA-V---LYVSYTEGDNIIGVP-L\n",
      "----------------------YSVC-N---DCAGFPKYVFAVNEGGTIPP-NFRFDNWFYLTNSSTPISGMFTSVQPFNLS---C--VWPIP-----VLTSNSLPV---YFNMSL--NENA-TCN------------GYSNFDVGVVDAMRFSL--NFTDRQIIRKG----VISVFTSNNV-YNFSCTNSSVLGGEA-------VIPFGD-VSQ-THYCYITYF------TNTTTGANASQFVGILPPQVKEFVIM-RNGDFHLNGYRIFSVETVESVIFNITTND----GRDFWTVAFANNAEVLTELNATSIQNLLYCN--NPV-NSIKCQQLRFNLDNGFYSHT--FDSADNLPRTI-VRLPKYVTHSFINVSVGVSF-----DDKS-------LAHYLIDFSEHEEFIGKDNRT-------IVCVETTTFTT-KLKVLAF---------------------SSFSTAIDIQA---------GSCPFSYNNLNNYLGFGSLCFSNK-P-NGGCMMSVV-AKGYFGEFQKVG-V---LYVSYTKGDNVLGVP-A\n",
      "---------------YEFCEDY-----E---YCTATATNVFAPTVGGYIPD-GFSFNNWFLLTNSSTFVSGRFVTNQPLLVN---C--LWPVP-----SFGVAAQEF---CFEGAQ----FS-QCN------------GMSL--NNTVDVIRFNL--NFTADVQSGMGA--TVFSLNTTGGVILEISCYKDTVSESSFY---SYGEIPFGI-TDG-PRYCYVLY------------NGTALKYLGTLPPSVKEIAIS-KWGHFYINGYNFFSTFPIDCISFNLTTGA----SGAFWTIAYTSYTEALVQVENTAIKKVTYCN--SHI-NNIKCSQLTANLNNGFYPVA--SSEVGLVNKSV-VLLPTFFAHTAFNITIDLGM-----KRSG------YGQPIASTLSNITLPMQDNNTD-------VYCVRSNQFSV-YVHSTCKSSSWDN--------IFNQDCTDVLEATAVIKT---------GTCPFSFDKLNNYLTFNKFCLSLS-PVGANCKFDVAAHTRTNEQVVR---S---LYVIYEEGDNIVGVPS-\n",
      "----------------------YSVC-D---DCDGFPKYVFAVTEGGEVPP-NFRLDNWFYLTNSSTPISGMFTSVQPFNLS---C--VWTVP-----VLTNNSLPV---YFNMSM--NENV-TCN------------GYSNFDVGVVDAMRFSL--NFTDNQIIRKG----VISVFTSTNV-YNFSCTNNSVLDGDA-------VIPFGD-VAQ-THYCFIKYF------TNITSGESVSQFVGILPPQVKEFVIM-RNGDFHLNGYRIFSVDRVESAIFNISTND----GRDFWTVAFANNAEVLTEINATSIQNLLYCN--NPV-NSIKCQQLRFNLDDGFYSHT--FDSADNLPRTI-VRLPKYVTHSYINVTVGVNF-----ENGT-------LTNYLVDFAPDGTSIGKDNIT-------TVCVDTTTFTT-RLNVLAF---------------------SAFSTAVDIQA---------GTCLFSYNNLNNYLGLVSLCFSTK-P-NGGCMMSVV-ARGYFGEFQKVG-V---LYVSFTKGDNVLGVP-P\n",
      "----------------------YTLC-S---NCSGFPQHVFAVGPDGSIPP-NFEFENWFYLTNSSSPVSGKFVSVQPLQLA---C--LWPIP-----ALLGNTLPV---YFNMSN---NNA-NCN------------GFKA--DGVVDSLRFAL--NFSDERAFARE---GVISLETVGNT-YNFTCTNSSTPTDGS-----SFVLPFGV-IDQ-AYYCFMTFY------LNRTADLKTTVFAGMLPPVVREFVVM-RNGDFYLNGFRVFSVGQVVSARFNISSND----SRDFWTVAFANNVPVLVEINSTNIQQLLYCN--SPL-NTIKCQQLRFNLDNGFYSYS--PQVNHELPRTV-VRLPKFMTHSVVNVSVAVSY-----DVVNQT--NLGLIAWRLSFADHWYGWASDNRT-------TVCVDTSSFTV-KLFTGSF---------------------SYGSVFVDVLA---------GECPFTLLSLNDYLSFGSLCLSLV-P-NGGCAMSVV-TRGSYGEPQSIA-P---LYVSFSDGDNVIGVPK-\n",
      "---------------------V-SNCTD---QCASYVANVFTTQPGGFIPS-DFSFNNWFLLTNSSTLVSGKLVTKQPLLVN---C--LWPVP-----SFEEAASTF---CFEGAG----FD-QCN------------GAVL--NNTVDVIRFNL--NFTTNVQSGKGA--TVFSLNTTGGVTLEISCYTVSDSSFFS-----YGEIPFGV-TDG-PRYCYVHY------------NGTALKYLGTLPPSVKEIAIS-KWGHFYINGYNFFSTFPIDCISFNLTTGD----SDVFWTIAYTSYTEALVQVENTAITKVTYCN--SHV-NNIKCSQITANLNNGFYPVS--SSEVGLVNKSV-VLLPSFYTHTIVNITIGLGM-----KRSG------YGQPIASTLSNITLPMQDHNTD-------VYCIRSDQFSV-YVHSTCKSALWDN--------IFKRNCTDVLDATAVIKT---------GTCPFSFDKLNNYLTFNKFCLSLS-PVGANCKFDVAARTRTNEQVVR---S---LYVIYEEGDNIVGVPS-\n",
      "----------------------YSVC-T---ECDGFPKHVFPVLDDGKIPG-DFSFSNWFVLTNSSTVLQGRIVTVQPLKLL---C--LWPVP-----SLNANDKPV---YFNLSL--NSDV-RCN------------GHSI--AGYAQALRFSL--NFTANQVL-NGV--HSIKLFSSNQN-FTFTCSTNGTLE----------RIPFGR-VES-VYKCFVRI---------DAINSTKNLFVGILPPVTKEFVIS-RYGAVYINGVHIMSLPPLESVIFNVTSSV----GSDFWTVAFADEAEVLLDLNATNIVDILYCD--TLV-NKIKCQNLAFSLEDGFYATS--NLIERDIPRSF-ITLPYHVTHSVVGLDVRIYY-----ENEA-----------A-----SNLTLSPSD---------PVCVDSSQFST-YFNVTAD----------------------TNGFNARIIN---------VDCPFTFDKLNNYISFESICFSLE-PFAGGCSMRIE---SFFSSYVRTVGS---LYILFKNGNKITGVT-E\n",
      "----------------------YEVC-A---DCDGFPKYVFAVTDGGAIPP-NFQFDNWFYLTNSSTPISGMFTSVQPFNLS---C--VWPVP-----VLTSNSLPV---HFNMSL--NNGA-HCN------------GYSNLDVGLVDAMRFSL--NFTDSQIIRTG----VISVITSTNV-FNFSCTNSSVFGE-T------NVIPFGD-VEK-THYCFINYF------TNITTGESASQFVGILPPQVKEFVIM-RNGDFHLNGYRIFSVDSVESVIFNISTKD----GRDFWTVAFANNAEVLTEINATSIQNLLYCN--NPV-NSIKCQQLRFNLDDGFYSHT--FDSVDNLPRTI-VRLPKYVTHSIINVTVGINF-----ENKT-------LTNYLIDFAPDDVSIGKDNIT-------TVCVDTTTFTV-RLNVLAF---------------------SSFSTAVDIQA---------GTCPFSYNNLNNYLGFGSLCFSTR-P-NGGCMMSVV-ARGYFGEFQKVG-V---LYVSFTKGDNVLGVP-P\n",
      "--------------------WN--LT-D---QCASYVANVFVTQPGGFIPS-DFSFNNWFLLTNSSTLVSGKLVTKQPLLVN---C--LWPVP-----SFEEAASTF---CFEGAD----FD-HCN------------GAVL--NNTVDVIRFNL--NFTTNVQSGKGA--TVFSLNTTGGVILEISCYNDTVTDSSFS---SYGEIPFGV-TVG-PRYCYVLY------------NGTALKYLGTLPPSVKEIAIS-KWGHFYINGYNFFSTFPIDCISFNLTTGD----SDVFWTIAYTSYTEALVQVENTAITKVTYCN--SYV-NNIKCSQLTANLNNGFYPVS--SSEVGLVNKSV-VLLPIFYTHTIVNITIGLGM-----KRSG------YGQPIASTLSNITLPMQDNNTD-------VYCIRSHQFSV-YVHSTCKSALWDN--------VFKRNCTDVLDATAVIKT---------GTCPFSFDKLNNYLTFNKFCFSLS-SVGANCKFDVVARTRTNDQVVR---S---LYVIYEEGDNIVGVPS-\n",
      "------------------RMVR-----N---IEGGATERCMYVQEGGFIPD-NFTFPQWFVLTNDSTLLQGELTTSQPLIVNGHLC--SW--------QSNQQYRKY---SFNTSCP-LPAD-GCNPTWGSGNLKLFKGWNNT-KGLTDNIRINV--NISQSD-YRTSA--GSVGLELEGGGTVNITCTNSSTPVTTY------SLLPWAR-SSGEPIYCFANV---------SSPSQSYIDFMGILPPFVSEIAFD-RSGSIYINGYRYFKISPLLNVELQLNFNL----TSDHFSVTWSNYTEVHLNTTNGYIHQIKYCY--DPL-DKLACEMNTFQLPDGVYPYT--PAQQQALPETF-VTTPVYANHTTVVVRTQYTV-----SSTG-----INGPPSWS-----TVELDGAIND-------TLCVNSRQFTV-HLNTTVH-------------------YTAAHLFGTEFVA---------GTCPFTLPNINNYLTFGSICFSTV--NNGGCTIHVQ--KVLRHYRYTFG-T---IYVSYQPGNQITAMPK-\n",
      "----------------------YSVC-T--KHCTGLADNVFSTDQGGHIPP-IFPYNNWFLLTNTSTLVQGVTRVFQPFLVN---C--LVALP-----KLQGLTTTL---SFDSPLN-VPGF-SCN------------GANG--SSSAEAFRFNV--NDTKLF-VGAG----AVTLNTVDGVNVSIVCSNNATQPTRS------NNLQ----EDL-PYYCFTNT---------SSGTNHTVKFLSVFPPIIREFVIT-KYGNVYVNGYIYLRTRPLTAVHLNASSHSQ--DVAGFWTIAATNFTDVLVEVNNTGIQRLLYCD--TPE-NSVKCSQLSFELEDGFYSMTADNVYAVTKPHTF-VTLPTFNDHGFVNVTVGGNF-----DSSY--------PPKFT--ANGTLVNNGT----------VVCVTSNQFTL-RHDFMVG---------------------YSADMRKGIFEY-------SSTCPFNRETINNYLTFGRICFSTS-PADGACELKYY-VWNTIGAVSHLAGT---LYVQHTKGDIITGTPK-\n",
      "----------------------YDVC-P---DCVGFSDNIFSVEEGGYIPS-GFSFNNWFLLTNSSSVVDGVVRTKQPLLLN---C--LWPVP-----GLQSTTGFV---YFNGTG----RG-DCN------------GFSD--SSVSDFMRFNL--NFSSSSEQNLRS--GTIIFKSADGE-SVFFCSNNTLEASR-------PYVPLGL-VAD-TYFCFINS---------TIANTTVTSFIGAMPKTVREFVVS-RDGHFYINGYRYFSLGSLEAVNFNITAAT----STDFWTVAFANYTDVLVNVSATDINNVLYCN--NDV-NKLRCDQLTFDLKDGFYSSE--AIYKPSLPYTL-VSLPAYYRHTTVDLYVDFEP-----Q-SG------AGSCWNCYPASVNVTLAGFNDSS-----SMMCIETTHFTT-KYYAMEE---------------------DVGAWYSRIVA---------GDCPFSFDKLNNFIKFGSICFSTK-PIAGGCSMPII-ASYAGINDYTIG-S---LFVSWTDGDRVSGVPK-\n",
      "----------------------YQPC-T--ANCIGYAANVFATEPNGHIPE-GFSFNNWFLLSNDSTLVHGKVVSNQPLLVN---C--LLAIP-----KIYGLGQFF---SFNQTI----DG-VCN------------GAAV--QRAPEALRFNI--NDTSVI-LAEG----SIVLHTALGTNFSFVCSNSSNPHLAT------FAIPLGA-TQV-PYYCFLKV---------DTYNSTVYKFLAVLPPTVREIVIT-KYGDVYVNGFGYLHLGLLDAVTINFTGHGTDDDVSGFWTIASTNFVDALIEVQGTAIQRILYCD--DPV-SQLKCSQVAFDLDDGFYPISSRNLLSHEQPISF-VTLPSFNDHSFVNITVSASF-----GGHS------GANLIAS-----DTTINGFS---------SFCVDTRQFTI-SLFYNVT---------------------NSYGYVSKSQD---------SNCPFTLQSVNDYLSFSKFCVSTS-LLASACTIDLF-GYPEFGSGVKFT-S---LYFQFTKGELITGTPK-\n",
      "----------------TDQIIL-----------DNNLTRNFHVTNQGNIYG-GSYL--LSYITNNSYPIFGVYRSYQPLLVR---C--VFSFSMNGNITGNGKDWVY---TFNPST---TNG-NCN-----------SPLQNKYNGTVDAIRFVT--NFSAFSSE-------ITSFIFRGEHEVSFSCSNTSNVTAHEHL-LIVNATTFKS-NSN-ILYCYFTS---------NFNGTLSSFYVGPFPPNIADVTIF-RSGNIYVNGY-YLGYIGMSIHNFSTHHVGL--TYMSSLRGIFTDQVDVLVNISNSVITNIVYCN-HSLV-NQIKCQRHLFDLPDGFYSYS--SVSDVSVPETV-ILLPKEVTYSRVKLTAFAEG-----NIFD------GVSLSSLILSENKTNSNTTFND-------TICVDTTYFNF-YLKFACG--------------------GGSFRCSLSCRS---------AGCPFDLQGLNNYLSFDHICFSLL--NNGGCPIQLL--AYWGSSFSRVLAT---IYVSYSPGTRITGSK-D\n",
      "----------------------YAIC-D---NCNGYPAHIFPVSEGGLIPA-DFNFSNWFLLTNSSTIVDGRIVSEQPVLLM---C--LWAVP-----GLMSTNSFV---YFNGTA---PNK-QCN------------GYAT--DSAFEALRFSL--NFTDER-VFAGS--GSVVLLVS-GLQYKFSCTNNSEAVIDS-------GIPFGN-VVE-PFYCFVSI-------------NGTSIFVGMLPAVLREIVIT-RYGSIYLNGFSIFQGPPIQGVLFNVTNRG----ATDLWTVALSNFTEVLAEVQSTAIKALLYCD--DPL-SQLKCQQLQFSLPDGFYATA--SLFQHELPRTF-VTLPRHFTHSWINLRIKWKN-----GVCY------NCPPASSWIDFVTFNSNGTENVLP---ERTLCVNTTQFTT-NLTLIEE--------------------AFSYSTPVVVRA---------DDCPFDFQSLNNYLTFGSICFSLNGTIGKGCTLGIY--KRASSQYIPIW-N---VWVAYTSGDNILGVR-E\n",
      "-------SLYSRANNNFDVGVL-----------------------PGYPTK-NVNL--FSPLTNSTLPINGLHRSYQPLMLN---C--LTKIT-------NHTLSMY---LLPSEI---QTY-SCG------------GAMVK-YQTHDAVRIIL--DLTATDHI-------SVEVVGQHGENYVFVCSEQFNYTTAL------HNSTFFS-LNS-ELYCFTNN-----------------TYLGILPPDLTDFTVY-RTGQFYANGY-LLGTLPITVNYVRLYRGH---LSANSAHFALANLTDTLITLTNTTISQITYCD-KSVV-DSIACQRSSHEVEDGFYSDP--KSAVRARQRTI-VTLPKLPELEVVQLNISAHM-----D---------FGEARLD-----SVTINGNT---------SYCVTKPYFRL-ETNFMCT------------------------GCTMNLRT---------DTCSFDLSAVNNGMSFSQFCLSTE---SGACEMKIIVTYVWNYLLRQ---R---LYVTAVEGQTHTGTT-S\n",
      "----------------------YTVC-D---RCDGFPHHVFAVQEGGKIPG-SFDFTNWFYLTNTSSPFDGRFVSNQPLQIQ---C--LWPIP-----ALTSTTGII---YFNSSRFTDPHQ-RCN------------GYNEV-GGLADHLRFAI--NVTDRGAFQLG----VISLLAVHNA-YNFSCSNISNFVDAT-----TIGVPFGK-TYQ-PYYCFVTE---------GYNISANRTFVGVMPSDVREIVVS-RYGSVYINGYKIFNVGELYGVVLNFSSLT----GSDFWTVAYANEVNVLVDIEETYITGILYCD--TPL-NRLKCQQQRFFMDDGFYSA---IDLAPPVVQTI-VLLPEYTGLTNITLDVNVTF-----N---------PPSCIQCAPTVNSILLNGESGG-------SVCVSTNRFSV-DFKLTVN----------------------SQAYDIGVRT---------GSCPFSYGSLNNFVKFGSICFSLV-D-NGGCPMPIN-AINYIKIEYPIG-V---LYVTHSPGEAITGVPK-\n",
      "----------------------YEPCIS---NCIGYAANVFATESNGHIPD-SFSFNNWFLLSNDSTLLHGKVVSNQPLLVN---C--LWAIP-----KIYGLGQFF---SFNQTL----GG-SCN------------GAAA--ERAPEALRFNI--NDTSVI-LADG----SIVLHTALGTNFSFVCSNSSNPHTAT------FTLPLGA-TKV-PYYCFLKV---------DTYNSTVYKFLAVLPPTVREIVIT-KYGDVYVNGFGYLHIGLLDAVTINFTGHGTDGDVSGFWTIASTNFVDALVEVQGAAIQRILYCD--DPV-SQLKCSQVSFDLDNGFYPISSRNLLSHEQPISF-VTLPSFNDHSFVNITVSAAF-----GGHS------GANLVAS-----DTTINGFS---------SFCVETRQFTI-TLFYNVT---------------------NSYGYVSKSQT---------SNCPFTLQSVNDYLSFNKFCISTS-LLAGACTIDIF-GYPDFGSGVKLT-S---LYFQFTKGELITGTPK-\n",
      "-------------------YEL---C-EDYEHCTGYATNVFAPTSGGYIPD-GFSFNNWFLLTNSSTFVSGRFVTNQPLLIN---C--LWPVP-----SFGVAAQEF---CFEGAQ----FS-QCN------------GVSL--NNTVDVIRFNL--NFTADVQSGMGA--TVFSLNTTGGVILEISCYSDTVSESSSY---SYGEIPFGI-TDG-PRYCYVLY------------NGTALKYLGTLPPSVKEIAIS-KWGHFYINGYNFFSTFPIGCISFNLTTGV----SGAFWTIAYTSYTEALVQVENTAIKNVTYCN--SHI-NNIKCSQLTANLNNGFYPVA--SSEVGFVNKSV-VLLPSFFTYTAVNITIDLGM-----KLSG------YGQPIASTLSNITLPMQDNNTD-------VYCIRSNQFSV-YVHSTCKSSLWDN--------IFNQDCTDVLEATAVIKT---------GTCPFSFDKLNNYLTFNKFCLSLS-PVGANCKFDVAARTRTNEQVVR---S---LYVIYEEGDNIVGVPS-\n",
      "--------------LLQARNQG-------------NYSAIC--PENGYITSTSYDLSKIYYLTDGDYPIDGVYKSLQPLKVT---CVPEWHGNS---NFNDTTGWKH---YFDGRIKQNPNTIWCPCSQS----GPGGAQHNAAGNSTEYIRFHS--NITTSVSN-------LLRLYAVDNQYYYFGCTPTPTPLTFNLT--SENITLFTA-EEQ-VHYCYANI-------------NGTVSYIGVLPPKITELTVG-RYGDIFVNGFLYFKIPNV-IEYVQLSHTIP--HNKQFYTVFYANMTQVLLNISMASINRLLYCD-KDSY-SSIACAVNQFEPANGFYSTS--AIEKISRKFTF-VTMPTVQNHSYYSINLTIGG-----CGHG--------------------EYPHLSNK-------TGCYRTDASNI-NAKQITFVIN-------------TYTHDNWIQWAHKP-----------GNCPWALNKINNYNTAGTLQVVPE--NQATCCTDNQASWLYLASWTSVNVK---VCFNYQPGTTISIQPQ-\n",
      "-------------------LSE---C-HS-DYCAGYAKNVF-VPVDGKIPE-SFSFSNWFLLSDKSTLVQGRVLSRQPVFVQ---C--LRPVP-----TWSNNTAVV---HFNNDV-------FCP------------------NVTADVLRFNL--NFSDTDVYTDSTTDDQLHFTFDDNTTASISCFSSANVTDQEPAANSASQIPFGK-TMH-SYFCFANF----------SQSIVSRQFLGILPPTVREFAFG-RDGSVFVNGYKYFSLPPIKSVNFSISSVE----QYGFWTIAYTNYTDVMVDINGTGITRLFYCD--SPI-NRIKCQQLKHELPDGFYSAT--MLVKKDLPKTF-VTMPQFYNWMNVTLHVVLND-----TEKKAD-IILAKAPELASLADIHFEIAHANGSVA--NVTSLCVQTRQIAL-FYKYTSLQ------------------GLYTYSNLVELQN---------YDCPFSPQQFNNYLQFETLCFDVN-PAVAGCKWALVHDVKWRTQFAT-------ITVSYKDGAMITTMPK-\n",
      "----------------EPKSDG-----------------------KGHFTQ---NVHRFAFLTNGSSPVDQIIRTTQPLLLR---CPQWFGYN-----GSGNWVLKF---NFSESN-------YCN-----------DGYNYNGNKVVSHIRLIG--AFLASPSVDY-----VFTLQTTSGSTYYLNCSTSQRPVG------------FDA-EMQ-RNYCYVKT-------------ANYTQFIGILPERVADVTFS-REGTFYVNGFGMGSFGQLARITVDKGALA----TFNHSWAYFVDEADVLLNITDSQIQGIVYCD-KDLY-DHLRCQQSSFSLTDGFYSTA--KYTTNQQRKTIFVTLPKHTYTETISILPNISNPA-YPDGST------NGPALGWWVGTMNVLFNNSQ---------TLCVNSSFFMV-NITFKCWLKPH------------PTKPSDEYKCIGGLPT---------AQVKLPDWPFAPYYSFSQLCLSST--YQVGYSTFYF--QYWNQGTNKRWESKPLFYYTYQTGTQYTYVTK-\n",
      "----------------------YSVC-K---ECNGFPAHVFPVLDGGKIPG-DFSFDNWFLLTNSSTIVNGKIVDIQPLKLL---C--LWPIP-----ALDSNDDKI---YFNITG-----A-NCN------------GFKDE-DAYADVLRFSL--NFTNSQ-VFNGI--HSVTVNVVGGD-LKFSCSNTSTYTAED------EVLPFGP-LSS-IYYCFVSG---------QLGNETFSRFVGILPPVVKEIVIS-RYGSFYMNGVKLFEVPYVESVVFNVTSSV----GSDFWTVAYAQNTEVLLEVNSTDIKDILYCD--TPA-NKLKCQQLSFSLEDGFYPAA--VVAGVDVPRTY-VALPYHATHSFVNLTVHLGQ-----GVDS----------------AAYAQINGVN-D-------SYCVNTTQFTT-NFEQLDV----------------------SNNVKAVMQN---------GDCPFNFDSLNNFLSFDSICFNLQ-PVGSSCTISIM--RSWMGFNAPWR-S---IYVSFKRGNRITGVK-T\n",
      "FSIDAVTIIFRLKETSTYLDLP-----------------------------------------------------------------------------------------------------FCN------------ETRVD-KSDKAIIGYLIGGDFYSVDVS-------SIVIERYNPPQPNATSIPTTIST--V------STTTSGW-EDL-RSLNMSCV----------RFDYKLKKVMSVPLPMVKAFIIDFKQRQLAIDGFPVGALIADFEFRFSIVA------MPQTFISTL-NYTTALVTFDKGNVRSVIDCNSEKPF-DRLRCDLQTDVVSDGFYPV---NIKTNEAKENT-TFIDVPATLANLTLEVFVSS-----PEQS------PACVIKS----------------------YKCVDTRYFYISDYSYSCAENGIPNDAAGAAYCRGVLDQIN---------NYGVRGMDFKGKCPFAGSKVNSGLTFDKICFGVY---EQGCQSDKACRFGFYFDNVQ--------FSQY--GNKLYYKPQ-\n",
      "----------------------YSVC-N---GCVGYSENVFAVESGGYIPS-DFAFNNWFLLTNTSSVVDGVVRSFQPLLLN---C--LWSVS-----GLRFTTGFV---YFNGTG----RG-DCK------------GFSS--DVLSDVIRYNL--NFEENL--RRG----TILFKTSYGV-VVFYCTNNTLVSGDA-------HIPFGT-VLG-NFYCFVNT---------TIGNETTSAFVGALPKTVREFVIS-RTGHFYINGYRYFTLGNVEAVNFNVTTAE----TTDFCTVALASYADVLVNVSQTSIANIIYCN--SVI-NRLRCDQLSFDVPDGFYSTS--PIQSVELPVSI-VSLPVYHKHTFIVLYVDFKP-----Q-SG------GGKCFNCYPAGVNITLANFNETK-----GPLCVDTSHFTT-KYVAVYA---------------------NVGRWSASINT---------GNCPFSFGKVNNFVKFGSVCFSLK-DIPGGCAMPIV--ANWAYSKYYTIGS---LYVSWSDGDGITGVPQ-\n",
      "--------------------YQ--QP-----QVRGWTDDI---GVDGRIPA-TYPLTNTFYLSNTTTPVDGVYTSLQPLLIR---C--KFKYV-----NDTVNAGKILTMYFNLTN---NTG-RCD------------GNSEK-VGLVDAIRFQI--NVTTDILQ-LTA--GSINFTTPDGELYTLHCLNTTLGVGQDY---YPSQSRTRQ-SGV-TYHCYMIYRNTSYAYSANEYTYRVLQYLGPLPASVREIVAF-SNGFIYINGILLSRIPALHKVDFGLVKSA---HTSDYYVILFADMVDVMVNISATEMQSIFYCI--TPF-EQVKCSQKQTTLSDGFYSTS--AIEVLQRQRTF-VGLPMAINITTLNFAISYLN-----T---------KANPSLGAPQEVNLTINGFA-D-------QFCVTTSQFMV-TLNVTCLVHNN------------TSIIPCPQAYTAEISP---------GDCPFNFLDVNNYLMFDSICFSPS-PSGDSCQMVIN--KVWANNRIPMS-S---VYVSYVYGNQIVGVP-R\n",
      "\n"
     ]
    }
   ],
   "source": [
    "print(pt_motif)"
   ]
  },
  {
   "cell_type": "markdown",
   "metadata": {},
   "source": [
    "The original sequence are stored in `motif.instances`, but what is more intersting is that by creating a motif, a consensus sequence and count matrix is created."
   ]
  },
  {
   "cell_type": "code",
   "execution_count": 4,
   "metadata": {},
   "outputs": [
    {
     "name": "stdout",
     "output_type": "stream",
     "text": [
      "DNA motif consensus: TACGC\n",
      "Protein motif consensus: ----------------------Y--C-D---NCAGFPANVFAVQEGGYIPP-DFSFNNWFLLTNSSTPVSGRFVSNQPLLLN---C--LWPVP-----SLTGNALPV---YFNGSG----NA-QCN------------GASN--NGTVDAIRFNL--NFTDSV-S-KG----VISLNTTGGV-YNFSCTNSSTPTTAS-------VIPFGV-TDQ-PYYCFVNY----------T-NETTLKFLGILPPSVREIVIS-RYGDFYINGYRYFSTGPLDSVSFNLTTGD----SSDFWTVAFANYTEVLVEVNNTAIQNILYCN--SPV-NRIKCQQLTFNLDDGFYSVS--SIEVGELPRTF-VTLPKFVTHSFVNITVGVSF-----D-SG-------GPPIAS-----TLTINGDN-D-------TVCVDTRQFTV-YLNVTCF---------------------DSYDATAVIQT---------GTCPFSFDKLNNYLTFGSICFSLS-P-GGGCTMDVV--TGWNGQVVK---S---LYVSYTEGDNITGVPK-\n"
     ]
    }
   ],
   "source": [
    "print(\"DNA motif consensus: {}\\nProtein motif consensus: {}\".format(dna_motif.consensus, pt_motif.consensus))"
   ]
  },
  {
   "cell_type": "markdown",
   "metadata": {},
   "source": [
    "The motif object also contains the `count` matrix which counts all the occurence of all the characters in the motif."
   ]
  },
  {
   "cell_type": "code",
   "execution_count": 5,
   "metadata": {},
   "outputs": [
    {
     "name": "stdout",
     "output_type": "stream",
     "text": [
      "        0      1      2      3      4\n",
      "A:   3.00   7.00   0.00   2.00   1.00\n",
      "C:   0.00   0.00   5.00   2.00   6.00\n",
      "G:   0.00   0.00   0.00   3.00   0.00\n",
      "T:   4.00   0.00   2.00   0.00   0.00\n",
      "\n",
      "Counts of A: [3, 7, 0, 2, 1]\n",
      "Counts of C: [0, 0, 5, 2, 6]\n",
      "Counts of G: [0, 0, 0, 3, 0]\n",
      "Counts of T: [4, 0, 2, 0, 0]\n"
     ]
    }
   ],
   "source": [
    "print(dna_motif.counts)\n",
    "for symbol in dna_motif.alphabet:\n",
    "    print(\"Counts of {}: {}\".format(symbol, dna_motif.counts[symbol]))\n"
   ]
  },
  {
   "cell_type": "markdown",
   "metadata": {},
   "source": [
    "For practical use, more interesting is the availability of the [position weigh matrix (PWM)](https://biopython.org/docs/1.75/api/Bio.motifs.matrix.html?highlight=log_odds#Bio.motifs.matrix.PositionWeightMatrix.log_odds) and [position specific scoring matrix (PSSM)](https://biopython.org/docs/1.75/api/Bio.motifs.matrix.html?highlight=log_odds#Bio.motifs.matrix.PositionSpecificScoringMatrix). PWM is just the normalized count matrix (contains frequencies)."
   ]
  },
  {
   "cell_type": "code",
   "execution_count": 7,
   "metadata": {},
   "outputs": [
    {
     "name": "stdout",
     "output_type": "stream",
     "text": [
      "        0      1      2      3      4\n",
      "A:   0.43   1.00   0.00   0.29   0.14\n",
      "C:   0.00   0.00   0.71   0.29   0.86\n",
      "G:   0.00   0.00   0.00   0.43   0.00\n",
      "T:   0.57   0.00   0.29   0.00   0.00\n",
      "\n",
      "        0      1      2      3      4\n",
      "A:   0.78   2.00   -inf   0.19  -0.81\n",
      "C:   -inf   -inf   1.51   0.19   1.78\n",
      "G:   -inf   -inf   -inf   0.78   -inf\n",
      "T:   1.19   -inf   0.19   -inf   -inf\n",
      "\n"
     ]
    }
   ],
   "source": [
    "print(dna_motif.pwm)\n",
    "print(dna_motif.pssm)"
   ]
  },
  {
   "cell_type": "markdown",
   "metadata": {},
   "source": [
    "As seen above, neither PWM nor PSSM contain pseudocounts. To get PWM and PSSM with pseudocounts, we can use the count matrix and compute them by ourselves."
   ]
  },
  {
   "cell_type": "code",
   "execution_count": 9,
   "metadata": {},
   "outputs": [
    {
     "name": "stdout",
     "output_type": "stream",
     "text": [
      "        0      1      2      3      4\n",
      "A:   0.40   0.84   0.07   0.29   0.18\n",
      "C:   0.04   0.04   0.60   0.27   0.71\n",
      "G:   0.04   0.04   0.04   0.38   0.04\n",
      "T:   0.51   0.07   0.29   0.07   0.07\n",
      "\n"
     ]
    }
   ],
   "source": [
    "# pwm = dna_motif.counts.normalize(pseudocounts=0.5)\n",
    "pwm = dna_motif.counts.normalize(pseudocounts={'A':0.6, 'C': 0.4, 'G': 0.4, 'T': 0.6})\n",
    "print(pwm)"
   ]
  },
  {
   "cell_type": "markdown",
   "metadata": {},
   "source": [
    "To obtain the PSSM, we can use the [log_ods](https://biopython.org/docs/1.75/api/Bio.motifs.matrix.html?highlight=log_odds#Bio.motifs.matrix.PositionWeightMatrix.log_odds) method of the `PositionWeightMatrix`. It computes log odds based on the frequencies and background distribution (uniform, by default)."
   ]
  },
  {
   "cell_type": "code",
   "execution_count": 10,
   "metadata": {},
   "outputs": [
    {
     "name": "stdout",
     "output_type": "stream",
     "text": [
      "        0      1      2      3      4\n",
      "A:   0.68   1.76  -1.91   0.21  -0.49\n",
      "C:  -2.49  -2.49   1.26   0.09   1.51\n",
      "G:  -2.49  -2.49  -2.49   0.60  -2.49\n",
      "T:   1.03  -1.91   0.21  -1.91  -1.91\n",
      "\n"
     ]
    }
   ],
   "source": [
    "pssm = pwm.log_odds()\n",
    "print(pssm)"
   ]
  },
  {
   "cell_type": "markdown",
   "metadata": {},
   "source": [
    "Using a motif, we can search for exact matches in a sequence."
   ]
  },
  {
   "cell_type": "code",
   "execution_count": 11,
   "metadata": {},
   "outputs": [],
   "source": [
    "test_seq=Seq(\"TACACTGCATTACAACCCAAGCATTA\")"
   ]
  },
  {
   "cell_type": "code",
   "execution_count": 12,
   "metadata": {},
   "outputs": [
    {
     "name": "stdout",
     "output_type": "stream",
     "text": [
      "0 TACAC\n",
      "10 TACAA\n",
      "13 AACCC\n"
     ]
    }
   ],
   "source": [
    "for pos, seq in dna_motif.instances.search(test_seq):\n",
    "    print(\"{} {}\".format(pos, seq))"
   ]
  },
  {
   "cell_type": "markdown",
   "metadata": {},
   "source": [
    "Hower, having PSSM enables also to search for motifs which are more probable than background (score > 0) or specified threshold."
   ]
  },
  {
   "cell_type": "code",
   "execution_count": null,
   "metadata": {},
   "outputs": [
    {
     "name": "stdout",
     "output_type": "stream",
     "text": [
      "Position 0: score = 5.768\n",
      "Position -20: score = 4.746\n",
      "Position 10: score = 3.768\n",
      "Position 13: score = 5.298\n",
      "Position -6: score = 4.746\n"
     ]
    }
   ],
   "source": [
    "for position, score in pssm.search(test_seq, threshold=3.0):\n",
    "    print(\"Position {}: score = {:.3f}\".format(position, score))"
   ]
  },
  {
   "cell_type": "markdown",
   "metadata": {},
   "source": [
    "If we are interested in scorse at all the positions we can do that, too."
   ]
  },
  {
   "cell_type": "code",
   "execution_count": 20,
   "metadata": {},
   "outputs": [
    {
     "data": {
      "text/plain": [
       "array([  5.7675514 ,  -5.534453  ,  -3.8714879 ,   0.49856207,\n",
       "        -7.2893405 ,  -1.8954138 , -10.704378  ,  -2.9259357 ,\n",
       "         0.69650143,  -3.180816  ,   3.7675512 ,  -2.0039382 ,\n",
       "        -1.041413  ,   5.298437  ,  -0.9494905 ,  -4.003938  ,\n",
       "        -9.173863  ,  -0.53891265,  -0.45645046,  -2.2490509 ,\n",
       "       -10.704378  ,  -2.9259357 ], dtype=float32)"
      ]
     },
     "execution_count": 20,
     "metadata": {},
     "output_type": "execute_result"
    }
   ],
   "source": [
    "pssm.calculate(test_seq)"
   ]
  },
  {
   "cell_type": "markdown",
   "metadata": {},
   "source": [
    "The motif object includes an interface to the [WebLogo](http://weblogo.threeplusone.com/) tool. Be aware that it is indeed just an API call."
   ]
  },
  {
   "cell_type": "code",
   "execution_count": 12,
   "metadata": {},
   "outputs": [],
   "source": [
    "dna_motif.weblogo(\"dna_logo.png\")\n",
    "pt_motif.weblogo(\"spike_protein_logo.png\",  alphabet='alphabet_protein', sequence_type='protein')"
   ]
  },
  {
   "cell_type": "markdown",
   "metadata": {},
   "source": [
    "### ---- Begin Exercise ----\n",
    "If you try to compute PSSM for a protein motiv (`pssm.calculate(pt_seq)`), you get an error message along the following lines:\n",
    "```\n",
    "C:\\Python39\\lib\\site-packages\\Bio\\motifs\\matrix.py in calculate(self, sequence)\n",
    "    340         # TODO - Code itself tolerates ambiguous bases (as NaN).\n",
    "    341         if sorted(self.alphabet) != [\"A\", \"C\", \"G\", \"T\"]:\n",
    "--> 342             raise ValueError(\n",
    "    343                 \"PSSM has wrong alphabet: %s - Use only with DNA motifs\" % self.alphabet\n",
    "    344             )\n",
    "```\n",
    "This means that PSSM is actually implemented only for nucleotide sequences in the current (1.75) version of BioPython.\n",
    " \n",
    "Implement code to carry out the `pwm.calculate` method for protein sequences. The method can be implemented either as an individual function or by extending the respective implementations, for example by adding `calculate_proteins` into the PSM class.\n",
    "### ---- End Exercise ----"
   ]
  },
  {
   "cell_type": "markdown",
   "metadata": {},
   "source": [
    "## HMMs"
   ]
  },
  {
   "cell_type": "markdown",
   "metadata": {},
   "source": [
    "BioPython supports hidden markov models via the [Bio.HMM](https://biopython.org/docs/1.74/api/Bio.HMM.MarkovModel.html) model. Specifically, it implements building and usage of HMM in the [Bio.HMM.MarkovModel](https://biopython.org/docs/1.74/api/Bio.HMM.MarkovModel.html) module and training in the [Bio.HMM.Trainer](https://biopython.org/docs/1.74/api/Bio.HMM.Trainer.html) module. The trainer includes both supervised and unsupervised (Baum-Welch algorithm) training.\n",
    "\n",
    "In the following example, we will implement the dishonest casino example (see the lecture).\n",
    "\n",
    "First, we create the emission probabilities for the fair and loaded dice."
   ]
  },
  {
   "cell_type": "code",
   "execution_count": 14,
   "metadata": {},
   "outputs": [],
   "source": [
    "import numpy as np\n",
    "from random import choices\n",
    "\n",
    "fair_weights = list(np.ones(6) * 1/6)\n",
    "loaded_weights = [1/10, 1/10, 1/10, 1/10, 1/10, 1/2]"
   ]
  },
  {
   "cell_type": "markdown",
   "metadata": {},
   "source": [
    "Next, we load the required package and create the model using `MarkovModelBuilder`. The builder is simply passed all the model defining transition and emission probabilities."
   ]
  },
  {
   "cell_type": "code",
   "execution_count": 16,
   "metadata": {},
   "outputs": [],
   "source": [
    "from Bio.HMM import MarkovModel\n",
    "from Bio.HMM.Utilities import pretty_print_prediction"
   ]
  },
  {
   "cell_type": "code",
   "execution_count": 17,
   "metadata": {},
   "outputs": [],
   "source": [
    "states = {'fair': 'F', 'loaded': 'L'}\n",
    "alphabet = list(range(1,7))\n",
    "mm_builder = MarkovModel.MarkovModelBuilder(state_alphabet=[states['fair'], states['loaded']], emission_alphabet=alphabet)\n",
    "mm_builder.set_initial_probabilities({states['fair']: 0.5, states['loaded']: 0.5})\n",
    "mm_builder.allow_transition(states['fair'], states['fair'], 0.95)\n",
    "mm_builder.allow_transition(states['fair'], states['loaded'], 0.05)\n",
    "mm_builder.allow_transition(states['loaded'], states['loaded'], 0.9)\n",
    "mm_builder.allow_transition(states['loaded'], states['fair'], 0.1)\n",
    "for symbol in alphabet:\n",
    "    mm_builder.set_emission_score(states['fair'], symbol, fair_weights[symbol-1])\n",
    "    mm_builder.set_emission_score(states['loaded'], symbol, loaded_weights[symbol-1])\n",
    "    \n",
    "m = mm_builder.get_markov_model()"
   ]
  },
  {
   "cell_type": "markdown",
   "metadata": {},
   "source": [
    "Let's apply the model on a simple example where the rolls are generated eigher from the fair or loaded states."
   ]
  },
  {
   "cell_type": "code",
   "execution_count": 18,
   "metadata": {},
   "outputs": [
    {
     "name": "stdout",
     "output_type": "stream",
     "text": [
      "(Seq('FFFFFFFFFF'), -19.072381522328445)\n",
      "(Seq('LLLLLLLLLL'), -13.401177364382136)\n"
     ]
    }
   ],
   "source": [
    "rolls=choices(population=list(range(1,7)), weights= fair_weights, k=10)\n",
    "path = m.viterbi(rolls, states.values())\n",
    "print(path)\n",
    "rolls=choices(population=list(range(1,7)), weights= loaded_weights, k=10)\n",
    "path = m.viterbi(rolls, states.values())\n",
    "print(path)"
   ]
  },
  {
   "cell_type": "markdown",
   "metadata": {},
   "source": [
    "Now lets try to generate a sequence of rolls based on the given probabilities and let the model label it. "
   ]
  },
  {
   "cell_type": "code",
   "execution_count": 19,
   "metadata": {},
   "outputs": [
    {
     "name": "stdout",
     "output_type": "stream",
     "text": [
      "[4, 2, 2, 1, 1, 3, 2, 1, 3, 6, 1, 6, 6, 6, 5, 5, 3, 6, 6, 5, 6, 5, 6, 6, 6, 6, 6, 5, 6, 3, 6, 6, 5, 6, 4, 1, 3, 5, 3, 3, 1, 1, 5, 5, 4, 6, 3, 5, 1, 2, 6, 1, 6, 1, 2, 6, 4, 3, 2, 1, 6, 5, 5, 6, 6, 4, 4, 4, 2, 6, 2, 1, 5, 1, 4, 3, 5, 1, 5, 6, 2, 5, 6, 6, 2, 1, 3, 5, 3, 1, 6, 5, 2, 2, 4, 2, 6, 4, 3, 5, 4, 6, 1, 3, 1, 2, 2, 6, 1, 1, 4, 5, 4, 5, 5, 6, 6, 6, 1, 2, 3, 4, 4, 4, 5, 2, 1, 4, 4, 6, 6, 3, 1, 2, 3, 6, 6, 2, 5, 4, 6, 4, 1, 5, 1, 5, 2, 3, 6, 2, 6, 3, 3, 2, 1, 1, 3, 6, 6, 1, 4, 2, 2, 3, 2, 3, 5, 2, 5, 6, 4, 3, 2, 4, 6, 4, 1, 1, 3, 5, 2, 6, 4, 5, 1, 6, 6, 3, 3, 2, 3, 6, 3, 6, 6, 5, 4, 1, 2, 2]\n",
      "['F', 'F', 'F', 'F', 'F', 'F', 'F', 'F', 'F', 'L', 'L', 'L', 'L', 'L', 'L', 'L', 'L', 'L', 'L', 'L', 'L', 'L', 'L', 'L', 'L', 'L', 'L', 'L', 'L', 'L', 'L', 'L', 'L', 'L', 'L', 'L', 'L', 'F', 'F', 'F', 'F', 'F', 'F', 'F', 'F', 'F', 'F', 'F', 'F', 'F', 'F', 'F', 'F', 'F', 'F', 'F', 'F', 'F', 'F', 'F', 'F', 'F', 'F', 'F', 'F', 'F', 'F', 'F', 'F', 'F', 'F', 'F', 'F', 'F', 'F', 'F', 'F', 'F', 'F', 'F', 'F', 'F', 'F', 'F', 'F', 'F', 'F', 'F', 'F', 'F', 'F', 'F', 'F', 'F', 'F', 'F', 'F', 'F', 'F', 'F', 'F', 'F', 'F', 'F', 'F', 'F', 'F', 'L', 'L', 'L', 'L', 'L', 'L', 'L', 'L', 'L', 'L', 'L', 'L', 'F', 'F', 'F', 'F', 'F', 'F', 'F', 'F', 'F', 'F', 'F', 'F', 'F', 'F', 'F', 'F', 'F', 'F', 'F', 'F', 'F', 'F', 'F', 'F', 'F', 'F', 'F', 'F', 'L', 'L', 'L', 'L', 'L', 'F', 'F', 'F', 'F', 'F', 'F', 'F', 'F', 'F', 'F', 'F', 'F', 'F', 'F', 'F', 'F', 'F', 'F', 'F', 'F', 'F', 'F', 'F', 'F', 'F', 'F', 'F', 'F', 'F', 'F', 'F', 'F', 'F', 'L', 'L', 'L', 'L', 'L', 'L', 'L', 'L', 'L', 'L', 'L', 'L', 'L', 'L', 'L']\n"
     ]
    }
   ],
   "source": [
    "s = choices(population=list(['F', 'L']), weights=[0.5,0.5], k=1)[0]\n",
    "t= {\n",
    "    'F': [0.95, 0.05],\n",
    "    'L': [0.1, 0.9]    \n",
    "}\n",
    "e={\n",
    "    'F': fair_weights,\n",
    "    'L': loaded_weights\n",
    "}\n",
    "rolls = []\n",
    "true_states = []\n",
    "for i in range(200):\n",
    "    true_states.append(s)\n",
    "    rolls.append(choices(population=list(range(1,7)), weights=e[s], k=1)[0])\n",
    "    s = choices(population=list(['F', 'L']), weights=t[s], k=1)[0]\n",
    "print(rolls)\n",
    "print(true_states) \n",
    "    "
   ]
  },
  {
   "cell_type": "code",
   "execution_count": 20,
   "metadata": {},
   "outputs": [
    {
     "name": "stdout",
     "output_type": "stream",
     "text": [
      "(Seq('FFFFFFFFFLLLLLLLLLLLLLLLLLLLLLLLLLFFFFFFFFFFFFFFFFFFFF...FFF'), -362.76538469275863)\n"
     ]
    }
   ],
   "source": [
    "path = m.viterbi(rolls, states.values())\n",
    "print(path)"
   ]
  },
  {
   "cell_type": "code",
   "execution_count": 21,
   "metadata": {},
   "outputs": [
    {
     "name": "stdout",
     "output_type": "stream",
     "text": [
      "Emissions       ['4', '2', '2', '1', '1', '3', '2', '1', '3', '6', '1', '6', '6', '6', '5', '5', '3', '6', '6', '5', '6', '5', '6', '6']\n",
      "Real State      ['F', 'F', 'F', 'F', 'F', 'F', 'F', 'F', 'F', 'L', 'L', 'L', 'L', 'L', 'L', 'L', 'L', 'L', 'L', 'L', 'L', 'L', 'L', 'L']\n",
      "Predicted State ['F', 'F', 'F', 'F', 'F', 'F', 'F', 'F', 'F', 'L', 'L', 'L', 'L', 'L', 'L', 'L', 'L', 'L', 'L', 'L', 'L', 'L', 'L', 'L']\n",
      "\n",
      "Emissions       ['6', '6', '6', '5', '6', '3', '6', '6', '5', '6', '4', '1', '3', '5', '3', '3', '1', '1', '5', '5', '4', '6', '3', '5']\n",
      "Real State      ['L', 'L', 'L', 'L', 'L', 'L', 'L', 'L', 'L', 'L', 'L', 'L', 'L', 'F', 'F', 'F', 'F', 'F', 'F', 'F', 'F', 'F', 'F', 'F']\n",
      "Predicted State ['L', 'L', 'L', 'L', 'L', 'L', 'L', 'L', 'L', 'L', 'F', 'F', 'F', 'F', 'F', 'F', 'F', 'F', 'F', 'F', 'F', 'F', 'F', 'F']\n",
      "\n",
      "Emissions       ['1', '2', '6', '1', '6', '1', '2', '6', '4', '3', '2', '1', '6', '5', '5', '6', '6', '4', '4', '4', '2', '6', '2', '1']\n",
      "Real State      ['F', 'F', 'F', 'F', 'F', 'F', 'F', 'F', 'F', 'F', 'F', 'F', 'F', 'F', 'F', 'F', 'F', 'F', 'F', 'F', 'F', 'F', 'F', 'F']\n",
      "Predicted State ['F', 'F', 'F', 'F', 'F', 'F', 'F', 'F', 'F', 'F', 'F', 'F', 'F', 'F', 'F', 'F', 'F', 'F', 'F', 'F', 'F', 'F', 'F', 'F']\n",
      "\n",
      "Emissions       ['5', '1', '4', '3', '5', '1', '5', '6', '2', '5', '6', '6', '2', '1', '3', '5', '3', '1', '6', '5', '2', '2', '4', '2']\n",
      "Real State      ['F', 'F', 'F', 'F', 'F', 'F', 'F', 'F', 'F', 'F', 'F', 'F', 'F', 'F', 'F', 'F', 'F', 'F', 'F', 'F', 'F', 'F', 'F', 'F']\n",
      "Predicted State ['F', 'F', 'F', 'F', 'F', 'F', 'F', 'F', 'F', 'F', 'F', 'F', 'F', 'F', 'F', 'F', 'F', 'F', 'F', 'F', 'F', 'F', 'F', 'F']\n",
      "\n",
      "Emissions       ['6', '4', '3', '5', '4', '6', '1', '3', '1', '2', '2', '6', '1', '1', '4', '5', '4', '5', '5', '6', '6', '6', '1', '2']\n",
      "Real State      ['F', 'F', 'F', 'F', 'F', 'F', 'F', 'F', 'F', 'F', 'F', 'L', 'L', 'L', 'L', 'L', 'L', 'L', 'L', 'L', 'L', 'L', 'L', 'F']\n",
      "Predicted State ['F', 'F', 'F', 'F', 'F', 'F', 'F', 'F', 'F', 'F', 'F', 'F', 'F', 'F', 'F', 'F', 'F', 'F', 'F', 'F', 'F', 'F', 'F', 'F']\n",
      "\n",
      "Emissions       ['3', '4', '4', '4', '5', '2', '1', '4', '4', '6', '6', '3', '1', '2', '3', '6', '6', '2', '5', '4', '6', '4', '1', '5']\n",
      "Real State      ['F', 'F', 'F', 'F', 'F', 'F', 'F', 'F', 'F', 'F', 'F', 'F', 'F', 'F', 'F', 'F', 'F', 'F', 'F', 'F', 'F', 'F', 'F', 'F']\n",
      "Predicted State ['F', 'F', 'F', 'F', 'F', 'F', 'F', 'F', 'F', 'F', 'F', 'F', 'F', 'F', 'F', 'F', 'F', 'F', 'F', 'F', 'F', 'F', 'F', 'F']\n",
      "\n",
      "Emissions       ['1', '5', '2', '3', '6', '2', '6', '3', '3', '2', '1', '1', '3', '6', '6', '1', '4', '2', '2', '3', '2', '3', '5', '2']\n",
      "Real State      ['F', 'F', 'F', 'L', 'L', 'L', 'L', 'L', 'F', 'F', 'F', 'F', 'F', 'F', 'F', 'F', 'F', 'F', 'F', 'F', 'F', 'F', 'F', 'F']\n",
      "Predicted State ['F', 'F', 'F', 'F', 'F', 'F', 'F', 'F', 'F', 'F', 'F', 'F', 'F', 'F', 'F', 'F', 'F', 'F', 'F', 'F', 'F', 'F', 'F', 'F']\n",
      "\n",
      "Emissions       ['5', '6', '4', '3', '2', '4', '6', '4', '1', '1', '3', '5', '2', '6', '4', '5', '1', '6', '6', '3', '3', '2', '3', '6']\n",
      "Real State      ['F', 'F', 'F', 'F', 'F', 'F', 'F', 'F', 'F', 'F', 'F', 'F', 'F', 'F', 'F', 'F', 'F', 'L', 'L', 'L', 'L', 'L', 'L', 'L']\n",
      "Predicted State ['F', 'F', 'F', 'F', 'F', 'F', 'F', 'F', 'F', 'F', 'F', 'F', 'F', 'F', 'F', 'F', 'F', 'F', 'F', 'F', 'F', 'F', 'F', 'F']\n",
      "\n",
      "Emissions       ['3', '6', '6', '5', '4', '1', '2', '2']\n",
      "Real State      ['L', 'L', 'L', 'L', 'L', 'L', 'L', 'L']\n",
      "Predicted State ['F', 'F', 'F', 'F', 'F', 'F', 'F', 'F']\n",
      "\n"
     ]
    }
   ],
   "source": [
    "pretty_print_prediction([str(r) for r in rolls], true_states, [s for s in str(path[0])], line_width=40)"
   ]
  },
  {
   "cell_type": "markdown",
   "metadata": {},
   "source": [
    "### ---- Begin Exercise ----\n",
    "**This excercise is optional, but if you hand it in you earn extra 5 points for the exam.**\n",
    "\n",
    "Implement Profile HMM for the spike protein family's MSA (`data/PF01600_serialized.faa`) based on the description in the lecture and show alignment with the SARS-CoV2 spike protein (\"`data/YP_009724390.1_spike_protein.fa`)\n",
    "### ---- End Exercise ----"
   ]
  },
  {
   "cell_type": "markdown",
   "metadata": {},
   "source": []
  }
 ],
 "metadata": {
  "interpreter": {
   "hash": "63fd5069d213b44bf678585dea6b12cceca9941eaf7f819626cde1f2670de90d"
  },
  "kernelspec": {
   "display_name": "Python 3.9.5 64-bit",
   "language": "python",
   "name": "python3"
  },
  "language_info": {
   "codemirror_mode": {
    "name": "ipython",
    "version": 3
   },
   "file_extension": ".py",
   "mimetype": "text/x-python",
   "name": "python",
   "nbconvert_exporter": "python",
   "pygments_lexer": "ipython3",
   "version": "3.9.5"
  },
  "orig_nbformat": 4
 },
 "nbformat": 4,
 "nbformat_minor": 2
}
