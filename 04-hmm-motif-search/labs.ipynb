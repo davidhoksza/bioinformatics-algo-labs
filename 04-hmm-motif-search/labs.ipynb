{
 "cells": [
  {
   "cell_type": "markdown",
   "metadata": {},
   "source": [
    "# Motif search and HMMs\n",
    "\n",
    "In this lab, we will introduce BioPython's facilities to create and search for motifs, including building HMMs.\n",
    "\n",
    "## Sequence motifs\n",
    "\n",
    "Routines for dealing with motifs are implemented in the [Bio.motifs](https://biopython.org/docs/latest/api/Bio.motifs.html) package. It contains classes to interface with several motif databases such transcription factors databases [TRANSFAC](https://genexplain.com/transfac/) or [JASPAR](https://jaspar.genereg.net/) using the [Bio.motifs.transfac](https://biopython.org/docs/latest/api/Bio.motifs.transfac.html) and [Bio.motifs.jaspar](https://biopython.org/docs/latest/api/Bio.motifs.jaspar.html) modules, or motif generation tool [MEME](https://meme-suite.org/meme/) using the [Bio.motifs.meme](https://biopython.org/docs/latest/api/Bio.motifs.meme.html) module. \n",
    "\n",
    "Here, we will show how to utilize BioPython directly to obtain a motif. The main class here is the [Bio.motifs](https://biopython.org/docs/latest/api/Bio.motifs.html), which can be used to create a motif from a set of [Bio.Seq](https://biopython.org/docs/latest/api/Bio.Seq.html) objects. Let's create a DNA motif."
   ]
  },
  {
   "cell_type": "code",
   "execution_count": null,
   "metadata": {},
   "outputs": [],
   "source": [
    "from Bio import motifs\n",
    "from Bio.Seq import Seq\n",
    "\n",
    "dna_motif = motifs.create([\n",
    "    Seq(\"TACAA\"),\n",
    "    Seq(\"TACGC\"),\n",
    "    Seq(\"TACAC\"),\n",
    "    Seq(\"TACCC\"),\n",
    "    Seq(\"AACCC\"),\n",
    "    Seq(\"AATGC\"),\n",
    "    Seq(\"AATGC\")\n",
    "    ])\n",
    "print(\"The motif consists of the following {} sequences:\".format(len(dna_motif)))\n",
    "print(dna_motif)"
   ]
  },
  {
   "cell_type": "markdown",
   "metadata": {},
   "source": [
    "The development of the motif package was more motivated by DNA motifs as evidenced by the available parsers as well as the fact that the default alphabet to be used with motifs is the nucleotide one. In order to create a protein motif, one needs to specify the alphabet to be used (notice, that the [Bio.Alphabet](https://biopython.org/docs/1.76/api/Bio.Alphabet.html) package has been retired from BioPython and thus the allowed characters need to be explicitely enumerated). Let's use the coronavirus spike proteins PFAM family from the previous labs."
   ]
  },
  {
   "cell_type": "code",
   "execution_count": null,
   "metadata": {},
   "outputs": [],
   "source": [
    "from Bio import SeqIO \n",
    "spike_proteins = list(SeqIO.parse(\"data/PF01600_serialized.faa\", \"fasta\"))\n",
    "pt_alphabet='ACDEFGHIKLMNPQRSTVWY-'\n",
    "pt_motif = motifs.create([p.seq for p in spike_proteins], alphabet=pt_alphabet)"
   ]
  },
  {
   "cell_type": "code",
   "execution_count": null,
   "metadata": {},
   "outputs": [],
   "source": [
    "print(pt_motif)"
   ]
  },
  {
   "cell_type": "markdown",
   "metadata": {},
   "source": [
    "The original sequences are stored in `motif.instances`, but more usefull is the fact that by creating a motif, a consensus sequence and count matrix is created."
   ]
  },
  {
   "cell_type": "code",
   "execution_count": null,
   "metadata": {},
   "outputs": [],
   "source": [
    "print(\"DNA motif consensus: {}\\nProtein motif consensus: {}\".format(dna_motif.consensus, pt_motif.consensus))"
   ]
  },
  {
   "cell_type": "markdown",
   "metadata": {},
   "source": [
    "The motif object also contains the `count` matrix which counts all the occurence of all the characters in the motif."
   ]
  },
  {
   "cell_type": "code",
   "execution_count": null,
   "metadata": {},
   "outputs": [],
   "source": [
    "print(dna_motif.counts)\n",
    "for symbol in dna_motif.alphabet:\n",
    "    print(\"Counts of {}: {}\".format(symbol, dna_motif.counts[symbol]))\n"
   ]
  },
  {
   "cell_type": "markdown",
   "metadata": {},
   "source": [
    "For practical use, more interesting is the availability of the [position weight matrix (PWM)](https://biopython.org/docs/1.75/api/Bio.motifs.matrix.html?highlight=log_odds#Bio.motifs.matrix.PositionWeightMatrix.log_odds) and [position specific scoring matrix (PSSM)](https://biopython.org/docs/1.75/api/Bio.motifs.matrix.html?highlight=log_odds#Bio.motifs.matrix.PositionSpecificScoringMatrix). PWM is just the normalized count matrix (contains frequencies)."
   ]
  },
  {
   "cell_type": "code",
   "execution_count": null,
   "metadata": {},
   "outputs": [],
   "source": [
    "print(dna_motif.pwm)\n",
    "print(dna_motif.pssm)"
   ]
  },
  {
   "cell_type": "markdown",
   "metadata": {},
   "source": [
    "As seen above, neither PWM nor PSSM contain pseudocounts. To get PWM and PSSM with pseudocounts, we can use the count matrix and compute them by ourselves. Or, we can use the `normalize` method."
   ]
  },
  {
   "cell_type": "code",
   "execution_count": null,
   "metadata": {},
   "outputs": [],
   "source": [
    "pwm = dna_motif.counts.normalize(pseudocounts=0.5)\n",
    "#pwm = dna_motif.counts.normalize(pseudocounts={'A':0.6, 'C': 0.4, 'G': 0.4, 'T': 0.6})\n",
    "print(pwm)"
   ]
  },
  {
   "cell_type": "markdown",
   "metadata": {},
   "source": [
    "To obtain the PSSM, we can use the [log_ods](https://biopython.org/docs/latest/api/Bio.motifs.matrix.html#Bio.motifs.matrix.PositionWeightMatrix.log_odds) method of the `PositionWeightMatrix`. It computes log odds based on the frequencies and background distribution (uniform, by default)."
   ]
  },
  {
   "cell_type": "code",
   "execution_count": null,
   "metadata": {},
   "outputs": [],
   "source": [
    "pssm = pwm.log_odds()\n",
    "print(pssm)\n",
    "print(dna_motif.pssm)"
   ]
  },
  {
   "cell_type": "markdown",
   "metadata": {},
   "source": [
    "Using a motif, we can search for exact matches (of any sequence forming the motif) in a sequence."
   ]
  },
  {
   "cell_type": "code",
   "execution_count": null,
   "metadata": {},
   "outputs": [],
   "source": [
    "dna_seq=Seq(\"TACACTGCATTACAACCCAAGCATTA\")"
   ]
  },
  {
   "cell_type": "code",
   "execution_count": null,
   "metadata": {},
   "outputs": [],
   "source": [
    "for pos, seq in dna_motif.instances.search(dna_seq):\n",
    "    print(\"{} {}\".format(pos, seq))"
   ]
  },
  {
   "cell_type": "markdown",
   "metadata": {},
   "source": [
    "Hower, having PSSM enables also to search for motifs which are more probable than background (score > 0) or specified threshold."
   ]
  },
  {
   "cell_type": "code",
   "execution_count": null,
   "metadata": {},
   "outputs": [],
   "source": [
    "for position, score in pssm.search(dna_seq, threshold=3.0, both=True):\n",
    "    print(\"Position {}: score = {:.3f}\".format(position, score))"
   ]
  },
  {
   "cell_type": "markdown",
   "metadata": {},
   "source": [
    "The minus values are hits of the reverse complementary motif. Thus if you recreate a motif from reverse complement of the sequences, you would get the same positions but with oposite sign."
   ]
  },
  {
   "cell_type": "markdown",
   "metadata": {},
   "source": [
    "If we were interested in scores at every position we could do that, too."
   ]
  },
  {
   "cell_type": "code",
   "execution_count": null,
   "metadata": {},
   "outputs": [],
   "source": [
    "pssm.calculate(dna_seq)"
   ]
  },
  {
   "cell_type": "markdown",
   "metadata": {},
   "source": [
    "The motif object includes an interface to the [WebLogo](http://weblogo.threeplusone.com/) tool. Be aware that it is indeed just an API call."
   ]
  },
  {
   "cell_type": "code",
   "execution_count": null,
   "metadata": {},
   "outputs": [],
   "source": [
    "dna_motif.weblogo(\"dna_logo.png\")\n",
    "pt_motif.weblogo(\"spike_protein_logo.png\",  alphabet='alphabet_protein', sequence_type='protein')"
   ]
  },
  {
   "cell_type": "code",
   "execution_count": null,
   "metadata": {},
   "outputs": [],
   "source": [
    "pt_motif.pssm.calculate(spike_proteins[0])"
   ]
  },
  {
   "attachments": {},
   "cell_type": "markdown",
   "metadata": {},
   "source": [
    "### ---- Begin Exercise ----\n",
    "If you try to compute PSSM for a protein motiv (`pt_motif.pssm.calculate(spike_proteins[0])`), you get an error message along the following lines:\n",
    "```\n",
    "C:\\Python39\\lib\\site-packages\\Bio\\motifs\\matrix.py in calculate(self, sequence)\n",
    "    340         # TODO - Code itself tolerates ambiguous bases (as NaN).\n",
    "    341         if sorted(self.alphabet) != [\"A\", \"C\", \"G\", \"T\"]:\n",
    "--> 342             raise ValueError(\n",
    "    343                 \"PSSM has wrong alphabet: %s - Use only with DNA motifs\" % self.alphabet\n",
    "    344             )\n",
    "```\n",
    "This means that PSSM is actually implemented only for nucleotide sequences in the current (1.84) version of BioPython.\n",
    " \n",
    "Implement code to carry out the `pssm.calculate` method for protein sequences. The method can be implemented either as an individual function or by extending the respective implementations, for example, by adding `calculate_proteins` into the PSSM class. \n",
    "\n",
    "But first, notice that to fit into the PSSM framework, we passed in the MSA directly, meaning we also passed the gaps. But gap symbols can't actually be part of the PSSM as when aligning a sequence to the profile; we don't know where the gaps should be located (remember the cons of PSSM from the lecture - can't handle insertions and deletions). Therefore, first identify in the MSA the longest region not containing gaps (i.e., the longest span of positions where there is no gap in any of the columns) and treat that as the input to the profile. Alternatively, you can use the count matrix of the motif matrix.\n",
    "\n",
    "You can build the motif from spike proteins and test on SARS-CoV2:\n",
    "\n",
    "```\n",
    "spike_proteins = list(SeqIO.parse(\"data/PF01600_serialized.faa\", \"fasta\"))\n",
    "sars_cov2_spike = list(SeqIO.parse(\"data/YP_009724390.1_spike_protein.fa\", \"fasta\"))[0] \n",
    "```\n",
    "\n",
    "### ---- End Exercise ----"
   ]
  },
  {
   "cell_type": "markdown",
   "metadata": {},
   "source": [
    "## HMMs"
   ]
  },
  {
   "cell_type": "markdown",
   "metadata": {},
   "source": [
    "BioPython supports hidden markov models via the [Bio.HMM](https://biopython.org/docs/1.74/api/Bio.HMM.MarkovModel.html) model. Specifically, it has the capability of building and using HMMs in the [Bio.HMM.MarkovModel](https://biopython.org/docs/1.74/api/Bio.HMM.MarkovModel.html) module and training in the [Bio.HMM.Trainer](https://biopython.org/docs/1.74/api/Bio.HMM.Trainer.html) module. The trainer includes both supervised and unsupervised (Baum-Welch algorithm) training.\n",
    "\n",
    "In the following example, we will implement the dishonest casino example (see the lecture).\n",
    "\n",
    "First, we create the emission probabilities for the fair and loaded dice."
   ]
  },
  {
   "cell_type": "code",
   "execution_count": null,
   "metadata": {},
   "outputs": [],
   "source": [
    "import numpy as np\n",
    "from random import choices\n",
    "\n",
    "fair_weights = list(np.ones(6) * 1/6)\n",
    "loaded_weights = [1/10, 1/10, 1/10, 1/10, 1/10, 1/2]"
   ]
  },
  {
   "cell_type": "markdown",
   "metadata": {},
   "source": [
    "Next, we load the required packages and create the model using `MarkovModelBuilder`. The builder is simply passed all the model-defining transition and emission probabilities."
   ]
  },
  {
   "cell_type": "code",
   "execution_count": null,
   "metadata": {},
   "outputs": [],
   "source": [
    "from Bio.HMM import MarkovModel\n",
    "from Bio.HMM.Utilities import pretty_print_prediction"
   ]
  },
  {
   "cell_type": "code",
   "execution_count": null,
   "metadata": {},
   "outputs": [],
   "source": [
    "states = {'fair': 'F', 'loaded': 'L'}\n",
    "alphabet = list(range(1,7))\n",
    "mm_builder = MarkovModel.MarkovModelBuilder(state_alphabet=[states['fair'], states['loaded']], emission_alphabet=alphabet)\n",
    "mm_builder.set_initial_probabilities({states['fair']: 0.5, states['loaded']: 0.5})\n",
    "mm_builder.allow_transition(states['fair'], states['fair'], 0.95)\n",
    "mm_builder.allow_transition(states['fair'], states['loaded'], 0.05)\n",
    "mm_builder.allow_transition(states['loaded'], states['loaded'], 0.9)\n",
    "mm_builder.allow_transition(states['loaded'], states['fair'], 0.1)\n",
    "for symbol in alphabet:\n",
    "    mm_builder.set_emission_score(states['fair'], symbol, fair_weights[symbol-1])\n",
    "    mm_builder.set_emission_score(states['loaded'], symbol, loaded_weights[symbol-1])\n",
    "    \n",
    "m = mm_builder.get_markov_model()"
   ]
  },
  {
   "cell_type": "markdown",
   "metadata": {},
   "source": [
    "Let's apply the model on a simple example where the rolls are generated either from the fair or loaded states."
   ]
  },
  {
   "cell_type": "code",
   "execution_count": null,
   "metadata": {},
   "outputs": [],
   "source": [
    "rolls=choices(population=list(range(1,7)), weights=fair_weights, k=10)\n",
    "print(rolls)\n",
    "path = m.viterbi(rolls, states.values())\n",
    "print(path)\n",
    "rolls=choices(population=list(range(1,7)), weights=loaded_weights, k=10)\n",
    "print(rolls)\n",
    "path = m.viterbi(rolls, states.values())\n",
    "print(path)\n"
   ]
  },
  {
   "cell_type": "markdown",
   "metadata": {},
   "source": [
    "Now lets try to generate a sequence of rolls based on the given probabilities and let the model label it. "
   ]
  },
  {
   "cell_type": "code",
   "execution_count": null,
   "metadata": {},
   "outputs": [],
   "source": [
    "s = choices(population=list(['F', 'L']), weights=[0.5,0.5], k=1)[0]\n",
    "t= {\n",
    "    'F': [0.95, 0.05],\n",
    "    'L': [0.1, 0.9]    \n",
    "}\n",
    "e={\n",
    "    'F': fair_weights,\n",
    "    'L': loaded_weights\n",
    "}\n",
    "rolls = []\n",
    "true_states = []\n",
    "for i in range(200):\n",
    "    true_states.append(s)\n",
    "    rolls.append(choices(population=list(range(1,7)), weights=e[s], k=1)[0])\n",
    "    s = choices(population=list(['F', 'L']), weights=t[s], k=1)[0]\n",
    "print(rolls)\n",
    "print(true_states) \n",
    "    "
   ]
  },
  {
   "cell_type": "code",
   "execution_count": null,
   "metadata": {},
   "outputs": [],
   "source": [
    "path = m.viterbi(rolls, states.values())\n",
    "print(path)"
   ]
  },
  {
   "cell_type": "code",
   "execution_count": null,
   "metadata": {},
   "outputs": [],
   "source": [
    "pretty_print_prediction([str(r) for r in rolls], true_states, [s for s in str(path[0])], line_width=40)"
   ]
  },
  {
   "cell_type": "markdown",
   "metadata": {},
   "source": [
    "### ---- Begin Exercise ----\n",
    "**This excercise is optional, but if you hand it in you earn extra 5 points for the exam.**\n",
    "\n",
    "Implement Profile HMM for the spike protein family's MSA (`data/PF01600_serialized.faa`) based on the description in the lecture and show alignment with the SARS-CoV2 spike protein (\"`data/YP_009724390.1_spike_protein.fa`)\n",
    "### ---- End Exercise ----"
   ]
  },
  {
   "cell_type": "markdown",
   "metadata": {},
   "source": []
  }
 ],
 "metadata": {
  "kernelspec": {
   "display_name": "Python 3",
   "language": "python",
   "name": "python3"
  },
  "language_info": {
   "codemirror_mode": {
    "name": "ipython",
    "version": 3
   },
   "file_extension": ".py",
   "mimetype": "text/x-python",
   "name": "python",
   "nbconvert_exporter": "python",
   "pygments_lexer": "ipython3",
   "version": "3.9.5"
  },
  "orig_nbformat": 4
 },
 "nbformat": 4,
 "nbformat_minor": 2
}
